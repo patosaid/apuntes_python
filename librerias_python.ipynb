{
  "nbformat": 4,
  "nbformat_minor": 0,
  "metadata": {
    "colab": {
      "name": "librerias_python.ipynb",
      "version": "0.3.2",
      "provenance": [],
      "include_colab_link": true
    },
    "kernelspec": {
      "name": "python3",
      "display_name": "Python 3"
    }
  },
  "cells": [
    {
      "cell_type": "markdown",
      "metadata": {
        "id": "view-in-github",
        "colab_type": "text"
      },
      "source": [
        "<a href=\"https://colab.research.google.com/github/patosaid/apuntes_python/blob/master/librerias_python.ipynb\" target=\"_parent\"><img src=\"https://colab.research.google.com/assets/colab-badge.svg\" alt=\"Open In Colab\"/></a>"
      ]
    },
    {
      "cell_type": "markdown",
      "metadata": {
        "id": "TJ1UBBBD0TGi",
        "colab_type": "text"
      },
      "source": [
        "# Numpy"
      ]
    },
    {
      "cell_type": "code",
      "metadata": {
        "id": "5MsCK_Rz0Mfz",
        "colab_type": "code",
        "colab": {}
      },
      "source": [
        "import numpy as np"
      ],
      "execution_count": 0,
      "outputs": []
    },
    {
      "cell_type": "code",
      "metadata": {
        "id": "mqvQHqS72fyi",
        "colab_type": "code",
        "colab": {}
      },
      "source": [
        "mi_lista = [1,2,3]"
      ],
      "execution_count": 0,
      "outputs": []
    },
    {
      "cell_type": "code",
      "metadata": {
        "id": "nYAF9s8w2iyu",
        "colab_type": "code",
        "outputId": "b316c006-e87f-472b-b025-ea550d977962",
        "colab": {
          "base_uri": "https://localhost:8080/",
          "height": 36
        }
      },
      "source": [
        "type(np.array(mi_lista))"
      ],
      "execution_count": 0,
      "outputs": [
        {
          "output_type": "execute_result",
          "data": {
            "text/plain": [
              "numpy.ndarray"
            ]
          },
          "metadata": {
            "tags": []
          },
          "execution_count": 7
        }
      ]
    },
    {
      "cell_type": "code",
      "metadata": {
        "id": "vPUK_14b26iQ",
        "colab_type": "code",
        "colab": {}
      },
      "source": [
        "arr = np.array(mi_lista)"
      ],
      "execution_count": 0,
      "outputs": []
    },
    {
      "cell_type": "code",
      "metadata": {
        "id": "Rhmoto5O3ANa",
        "colab_type": "code",
        "outputId": "c5af3377-3d77-452b-f7d2-263283b8f617",
        "colab": {
          "base_uri": "https://localhost:8080/",
          "height": 36
        }
      },
      "source": [
        "arr"
      ],
      "execution_count": 0,
      "outputs": [
        {
          "output_type": "execute_result",
          "data": {
            "text/plain": [
              "array([1, 2, 3])"
            ]
          },
          "metadata": {
            "tags": []
          },
          "execution_count": 9
        }
      ]
    },
    {
      "cell_type": "markdown",
      "metadata": {
        "id": "tq-eq7yR3FxE",
        "colab_type": "text"
      },
      "source": [
        "Ahora se creará un array por medio de una funcion"
      ]
    },
    {
      "cell_type": "code",
      "metadata": {
        "id": "vsmroeoz3MHD",
        "colab_type": "code",
        "outputId": "dcce412b-93a3-46f4-9ec9-ba54567b0421",
        "colab": {
          "base_uri": "https://localhost:8080/",
          "height": 36
        }
      },
      "source": [
        "np.arange(0,10) # va de 0 a 9\n",
        "np.arange(0,11 , 2) # va de 0 a 10 de dos en dos"
      ],
      "execution_count": 0,
      "outputs": [
        {
          "output_type": "execute_result",
          "data": {
            "text/plain": [
              "array([ 0,  2,  4,  6,  8, 10])"
            ]
          },
          "metadata": {
            "tags": []
          },
          "execution_count": 13
        }
      ]
    },
    {
      "cell_type": "code",
      "metadata": {
        "id": "MhNFluiM3KqD",
        "colab_type": "code",
        "outputId": "cad6e924-58f5-4c70-e6b6-cccbb8a4a7ea",
        "colab": {
          "base_uri": "https://localhost:8080/",
          "height": 36
        }
      },
      "source": [
        "np.zeros(5) #esta funcion crea ceros"
      ],
      "execution_count": 0,
      "outputs": [
        {
          "output_type": "execute_result",
          "data": {
            "text/plain": [
              "array([0., 0., 0., 0., 0.])"
            ]
          },
          "metadata": {
            "tags": []
          },
          "execution_count": 14
        }
      ]
    },
    {
      "cell_type": "code",
      "metadata": {
        "id": "QSuvjFij4Esr",
        "colab_type": "code",
        "outputId": "b9da2928-68cb-4e32-9311-c5470b3ad3ae",
        "colab": {
          "base_uri": "https://localhost:8080/",
          "height": 73
        }
      },
      "source": [
        "np.zeros((3,4)) # crea una matriz de ceros con dos () por tuplas"
      ],
      "execution_count": 0,
      "outputs": [
        {
          "output_type": "execute_result",
          "data": {
            "text/plain": [
              "array([[0., 0., 0., 0.],\n",
              "       [0., 0., 0., 0.],\n",
              "       [0., 0., 0., 0.]])"
            ]
          },
          "metadata": {
            "tags": []
          },
          "execution_count": 15
        }
      ]
    },
    {
      "cell_type": "code",
      "metadata": {
        "id": "82w0n4M54Ns_",
        "colab_type": "code",
        "outputId": "70b8e77e-45fa-4905-fbcd-bc353f1798da",
        "colab": {
          "base_uri": "https://localhost:8080/",
          "height": 36
        }
      },
      "source": [
        "np.ones(3) # crea unos"
      ],
      "execution_count": 0,
      "outputs": [
        {
          "output_type": "execute_result",
          "data": {
            "text/plain": [
              "array([1., 1., 1.])"
            ]
          },
          "metadata": {
            "tags": []
          },
          "execution_count": 16
        }
      ]
    },
    {
      "cell_type": "code",
      "metadata": {
        "id": "sFKoXQng4SD7",
        "colab_type": "code",
        "outputId": "357e3588-206b-43e8-da2f-c4eb53b995f0",
        "colab": {
          "base_uri": "https://localhost:8080/",
          "height": 111
        }
      },
      "source": [
        "np.ones((5,5))"
      ],
      "execution_count": 0,
      "outputs": [
        {
          "output_type": "execute_result",
          "data": {
            "text/plain": [
              "array([[1., 1., 1., 1., 1.],\n",
              "       [1., 1., 1., 1., 1.],\n",
              "       [1., 1., 1., 1., 1.],\n",
              "       [1., 1., 1., 1., 1.],\n",
              "       [1., 1., 1., 1., 1.]])"
            ]
          },
          "metadata": {
            "tags": []
          },
          "execution_count": 17
        }
      ]
    },
    {
      "cell_type": "code",
      "metadata": {
        "id": "J5f0zu2X56ca",
        "colab_type": "code",
        "outputId": "50a76003-6c69-4146-f06e-c9250a8a159f",
        "colab": {
          "base_uri": "https://localhost:8080/",
          "height": 54
        }
      },
      "source": [
        "np.linspace(1,10,3) # tres numeros entre 1 y 10\n",
        "np.linspace(0,11,10000) #10000 numeros entre 0 y 11"
      ],
      "execution_count": 0,
      "outputs": [
        {
          "output_type": "execute_result",
          "data": {
            "text/plain": [
              "array([0.00000000e+00, 1.10011001e-03, 2.20022002e-03, ...,\n",
              "       1.09977998e+01, 1.09988999e+01, 1.10000000e+01])"
            ]
          },
          "metadata": {
            "tags": []
          },
          "execution_count": 22
        }
      ]
    },
    {
      "cell_type": "code",
      "metadata": {
        "id": "nLt9_a7Z6goq",
        "colab_type": "code",
        "outputId": "6d71ec28-bd86-4985-95b8-d577c33b1240",
        "colab": {
          "base_uri": "https://localhost:8080/",
          "height": 36
        }
      },
      "source": [
        "np.random.randint(0,5) # un numero aleatorio entre 0 y 5 ( excluyente)"
      ],
      "execution_count": 0,
      "outputs": [
        {
          "output_type": "execute_result",
          "data": {
            "text/plain": [
              "3"
            ]
          },
          "metadata": {
            "tags": []
          },
          "execution_count": 47
        }
      ]
    },
    {
      "cell_type": "code",
      "metadata": {
        "id": "IEh0nNMn445o",
        "colab_type": "code",
        "outputId": "6dbf195d-8829-490c-df70-4e79a828853a",
        "colab": {
          "base_uri": "https://localhost:8080/",
          "height": 73
        }
      },
      "source": [
        "np.random.randint(0,5, (3,3))"
      ],
      "execution_count": 0,
      "outputs": [
        {
          "output_type": "execute_result",
          "data": {
            "text/plain": [
              "array([[0, 2, 0],\n",
              "       [1, 1, 2],\n",
              "       [4, 1, 4]])"
            ]
          },
          "metadata": {
            "tags": []
          },
          "execution_count": 48
        }
      ]
    },
    {
      "cell_type": "code",
      "metadata": {
        "id": "Q33MAlYX7FGk",
        "colab_type": "code",
        "outputId": "afdf8f9f-a6bc-4ffb-af47-4ebf4ba7ed20",
        "colab": {
          "base_uri": "https://localhost:8080/",
          "height": 36
        }
      },
      "source": [
        "np.random.seed(101) # fijo la seed\n",
        "\n",
        "np.random.randint(0,100,10)"
      ],
      "execution_count": 0,
      "outputs": [
        {
          "output_type": "execute_result",
          "data": {
            "text/plain": [
              "array([95, 11, 81, 70, 63, 87, 75,  9, 77, 40])"
            ]
          },
          "metadata": {
            "tags": []
          },
          "execution_count": 72
        }
      ]
    },
    {
      "cell_type": "code",
      "metadata": {
        "id": "dzqKk-mF7b8R",
        "colab_type": "code",
        "outputId": "9e130b18-77a2-4c6b-e7e6-36846a8b362b",
        "colab": {
          "base_uri": "https://localhost:8080/",
          "height": 36
        }
      },
      "source": [
        "np.random.randint(0,100,10) # crea otros valores porq la seed no es la misma"
      ],
      "execution_count": 0,
      "outputs": [
        {
          "output_type": "execute_result",
          "data": {
            "text/plain": [
              "array([76, 95, 87,  0, 73,  8, 62, 36, 83, 99])"
            ]
          },
          "metadata": {
            "tags": []
          },
          "execution_count": 75
        }
      ]
    },
    {
      "cell_type": "code",
      "metadata": {
        "id": "e2D3Jwk87kC0",
        "colab_type": "code",
        "colab": {}
      },
      "source": [
        "arr = np.random.randint(0,100,10)"
      ],
      "execution_count": 0,
      "outputs": []
    },
    {
      "cell_type": "code",
      "metadata": {
        "id": "c-mDxx6-7psJ",
        "colab_type": "code",
        "outputId": "d3bc73f0-42f6-4bf1-dfee-ae4a6213f738",
        "colab": {
          "base_uri": "https://localhost:8080/",
          "height": 36
        }
      },
      "source": [
        "arr"
      ],
      "execution_count": 0,
      "outputs": [
        {
          "output_type": "execute_result",
          "data": {
            "text/plain": [
              "array([71, 15, 44,  0, 12, 17, 75, 79, 97, 93])"
            ]
          },
          "metadata": {
            "tags": []
          },
          "execution_count": 78
        }
      ]
    },
    {
      "cell_type": "code",
      "metadata": {
        "id": "gpHQ68bd7rFM",
        "colab_type": "code",
        "outputId": "8b5d0611-6558-45e4-eb40-8467ec6559c1",
        "colab": {
          "base_uri": "https://localhost:8080/",
          "height": 36
        }
      },
      "source": [
        "arr.max() # el maximo de la variable arr"
      ],
      "execution_count": 0,
      "outputs": [
        {
          "output_type": "execute_result",
          "data": {
            "text/plain": [
              "97"
            ]
          },
          "metadata": {
            "tags": []
          },
          "execution_count": 79
        }
      ]
    },
    {
      "cell_type": "code",
      "metadata": {
        "id": "YPGD3wlQ7v13",
        "colab_type": "code",
        "outputId": "1e3dde01-9312-43e5-aba9-f01bf05f7db1",
        "colab": {
          "base_uri": "https://localhost:8080/",
          "height": 36
        }
      },
      "source": [
        "arr.min()"
      ],
      "execution_count": 0,
      "outputs": [
        {
          "output_type": "execute_result",
          "data": {
            "text/plain": [
              "0"
            ]
          },
          "metadata": {
            "tags": []
          },
          "execution_count": 80
        }
      ]
    },
    {
      "cell_type": "code",
      "metadata": {
        "id": "QtUCAnQr712g",
        "colab_type": "code",
        "outputId": "2da42a27-3c5a-4f37-f4b4-59160f039394",
        "colab": {
          "base_uri": "https://localhost:8080/",
          "height": 36
        }
      },
      "source": [
        "arr.argmax() # entrega el index del maximo"
      ],
      "execution_count": 0,
      "outputs": [
        {
          "output_type": "execute_result",
          "data": {
            "text/plain": [
              "8"
            ]
          },
          "metadata": {
            "tags": []
          },
          "execution_count": 82
        }
      ]
    },
    {
      "cell_type": "code",
      "metadata": {
        "id": "CUQnCsnG8D0d",
        "colab_type": "code",
        "outputId": "3b6a554b-25d0-4bdf-e598-f5ccd95754fd",
        "colab": {
          "base_uri": "https://localhost:8080/",
          "height": 36
        }
      },
      "source": [
        "arr[arr.argmax()]"
      ],
      "execution_count": 0,
      "outputs": [
        {
          "output_type": "execute_result",
          "data": {
            "text/plain": [
              "97"
            ]
          },
          "metadata": {
            "tags": []
          },
          "execution_count": 86
        }
      ]
    },
    {
      "cell_type": "code",
      "metadata": {
        "id": "RNWdSFv98QE5",
        "colab_type": "code",
        "outputId": "888d65a7-93e5-413b-d01c-e6b85539bc2d",
        "colab": {
          "base_uri": "https://localhost:8080/",
          "height": 54
        }
      },
      "source": [
        "arr.reshape(2,5)  # transforma en filas "
      ],
      "execution_count": 0,
      "outputs": [
        {
          "output_type": "execute_result",
          "data": {
            "text/plain": [
              "array([[71, 15, 44,  0, 12],\n",
              "       [17, 75, 79, 97, 93]])"
            ]
          },
          "metadata": {
            "tags": []
          },
          "execution_count": 88
        }
      ]
    },
    {
      "cell_type": "code",
      "metadata": {
        "id": "pgQfcqwC8Z1J",
        "colab_type": "code",
        "colab": {}
      },
      "source": [
        "mat = np.arange(0,100).reshape(10,10)"
      ],
      "execution_count": 0,
      "outputs": []
    },
    {
      "cell_type": "code",
      "metadata": {
        "id": "5EvjlCbQ8k80",
        "colab_type": "code",
        "outputId": "f4095608-f557-4d16-f488-9dcde3e84ace",
        "colab": {
          "base_uri": "https://localhost:8080/",
          "height": 204
        }
      },
      "source": [
        "mat"
      ],
      "execution_count": 0,
      "outputs": [
        {
          "output_type": "execute_result",
          "data": {
            "text/plain": [
              "array([[ 0,  1,  2,  3,  4,  5,  6,  7,  8,  9],\n",
              "       [10, 11, 12, 13, 14, 15, 16, 17, 18, 19],\n",
              "       [20, 21, 22, 23, 24, 25, 26, 27, 28, 29],\n",
              "       [30, 31, 32, 33, 34, 35, 36, 37, 38, 39],\n",
              "       [40, 41, 42, 43, 44, 45, 46, 47, 48, 49],\n",
              "       [50, 51, 52, 53, 54, 55, 56, 57, 58, 59],\n",
              "       [60, 61, 62, 63, 64, 65, 66, 67, 68, 69],\n",
              "       [70, 71, 72, 73, 74, 75, 76, 77, 78, 79],\n",
              "       [80, 81, 82, 83, 84, 85, 86, 87, 88, 89],\n",
              "       [90, 91, 92, 93, 94, 95, 96, 97, 98, 99]])"
            ]
          },
          "metadata": {
            "tags": []
          },
          "execution_count": 91
        }
      ]
    },
    {
      "cell_type": "code",
      "metadata": {
        "id": "0N_VMA3m8nho",
        "colab_type": "code",
        "outputId": "2052e8d9-b436-497b-9a5d-68b5ca78be92",
        "colab": {
          "base_uri": "https://localhost:8080/",
          "height": 36
        }
      },
      "source": [
        "mat.size\n"
      ],
      "execution_count": 0,
      "outputs": [
        {
          "output_type": "execute_result",
          "data": {
            "text/plain": [
              "100"
            ]
          },
          "metadata": {
            "tags": []
          },
          "execution_count": 94
        }
      ]
    },
    {
      "cell_type": "code",
      "metadata": {
        "id": "JObjL66j82L7",
        "colab_type": "code",
        "outputId": "f8d54bbf-7bfb-41fa-89b8-c29b4c7c0780",
        "colab": {
          "base_uri": "https://localhost:8080/",
          "height": 36
        }
      },
      "source": [
        "# como agarrar un valor especifico con index\n",
        "mat[0,1]"
      ],
      "execution_count": 0,
      "outputs": [
        {
          "output_type": "execute_result",
          "data": {
            "text/plain": [
              "1"
            ]
          },
          "metadata": {
            "tags": []
          },
          "execution_count": 95
        }
      ]
    },
    {
      "cell_type": "code",
      "metadata": {
        "id": "cowyUTeu89QC",
        "colab_type": "code",
        "outputId": "86d67f95-9d0d-4af6-ce20-6f8691f06424",
        "colab": {
          "base_uri": "https://localhost:8080/",
          "height": 36
        }
      },
      "source": [
        "mat[4,3]"
      ],
      "execution_count": 0,
      "outputs": [
        {
          "output_type": "execute_result",
          "data": {
            "text/plain": [
              "43"
            ]
          },
          "metadata": {
            "tags": []
          },
          "execution_count": 97
        }
      ]
    },
    {
      "cell_type": "code",
      "metadata": {
        "id": "xMnMwJRt9LzG",
        "colab_type": "code",
        "outputId": "6b72c883-4b1f-41b2-b8bf-847616dabd61",
        "colab": {
          "base_uri": "https://localhost:8080/",
          "height": 36
        }
      },
      "source": [
        "mat[:,0]"
      ],
      "execution_count": 0,
      "outputs": [
        {
          "output_type": "execute_result",
          "data": {
            "text/plain": [
              "array([ 0, 10, 20, 30, 40, 50, 60, 70, 80, 90])"
            ]
          },
          "metadata": {
            "tags": []
          },
          "execution_count": 100
        }
      ]
    },
    {
      "cell_type": "code",
      "metadata": {
        "id": "m76uacRb9TqT",
        "colab_type": "code",
        "outputId": "80efb77e-ff8e-4fc8-812a-9c90ed53c2d1",
        "colab": {
          "base_uri": "https://localhost:8080/",
          "height": 36
        }
      },
      "source": [
        "mat[5,]"
      ],
      "execution_count": 0,
      "outputs": [
        {
          "output_type": "execute_result",
          "data": {
            "text/plain": [
              "array([50, 51, 52, 53, 54, 55, 56, 57, 58, 59])"
            ]
          },
          "metadata": {
            "tags": []
          },
          "execution_count": 101
        }
      ]
    },
    {
      "cell_type": "code",
      "metadata": {
        "id": "M81LF8Js9WNO",
        "colab_type": "code",
        "outputId": "d0e6523e-2ab4-4d4b-8d4a-d257991a9740",
        "colab": {
          "base_uri": "https://localhost:8080/",
          "height": 36
        }
      },
      "source": [
        "mat[5,:]"
      ],
      "execution_count": 0,
      "outputs": [
        {
          "output_type": "execute_result",
          "data": {
            "text/plain": [
              "array([50, 51, 52, 53, 54, 55, 56, 57, 58, 59])"
            ]
          },
          "metadata": {
            "tags": []
          },
          "execution_count": 102
        }
      ]
    },
    {
      "cell_type": "code",
      "metadata": {
        "id": "5zhKXnCe9ZZc",
        "colab_type": "code",
        "outputId": "f4954922-5dea-4180-f1f6-0fc9e196ca3e",
        "colab": {
          "base_uri": "https://localhost:8080/",
          "height": 73
        }
      },
      "source": [
        "mat[0:3,0:3]"
      ],
      "execution_count": 0,
      "outputs": [
        {
          "output_type": "execute_result",
          "data": {
            "text/plain": [
              "array([[ 0,  1,  2],\n",
              "       [10, 11, 12],\n",
              "       [20, 21, 22]])"
            ]
          },
          "metadata": {
            "tags": []
          },
          "execution_count": 106
        }
      ]
    },
    {
      "cell_type": "code",
      "metadata": {
        "id": "mZ94Ygv99qRu",
        "colab_type": "code",
        "outputId": "f8338927-e8d5-41a7-be86-9a4c8e754a16",
        "colab": {
          "base_uri": "https://localhost:8080/",
          "height": 392
        }
      },
      "source": [
        "#maskin?\n",
        "mat > 50"
      ],
      "execution_count": 0,
      "outputs": [
        {
          "output_type": "execute_result",
          "data": {
            "text/plain": [
              "array([[False, False, False, False, False, False, False, False, False,\n",
              "        False],\n",
              "       [False, False, False, False, False, False, False, False, False,\n",
              "        False],\n",
              "       [False, False, False, False, False, False, False, False, False,\n",
              "        False],\n",
              "       [False, False, False, False, False, False, False, False, False,\n",
              "        False],\n",
              "       [False, False, False, False, False, False, False, False, False,\n",
              "        False],\n",
              "       [False,  True,  True,  True,  True,  True,  True,  True,  True,\n",
              "         True],\n",
              "       [ True,  True,  True,  True,  True,  True,  True,  True,  True,\n",
              "         True],\n",
              "       [ True,  True,  True,  True,  True,  True,  True,  True,  True,\n",
              "         True],\n",
              "       [ True,  True,  True,  True,  True,  True,  True,  True,  True,\n",
              "         True],\n",
              "       [ True,  True,  True,  True,  True,  True,  True,  True,  True,\n",
              "         True]])"
            ]
          },
          "metadata": {
            "tags": []
          },
          "execution_count": 107
        }
      ]
    },
    {
      "cell_type": "code",
      "metadata": {
        "id": "vO_A-uPu9vRD",
        "colab_type": "code",
        "outputId": "05a94cd2-43a7-4c3a-de23-3a849b48f5d1",
        "colab": {
          "base_uri": "https://localhost:8080/",
          "height": 73
        }
      },
      "source": [
        "filtro = mat>50\n",
        "mat[filtro]"
      ],
      "execution_count": 0,
      "outputs": [
        {
          "output_type": "execute_result",
          "data": {
            "text/plain": [
              "array([51, 52, 53, 54, 55, 56, 57, 58, 59, 60, 61, 62, 63, 64, 65, 66, 67,\n",
              "       68, 69, 70, 71, 72, 73, 74, 75, 76, 77, 78, 79, 80, 81, 82, 83, 84,\n",
              "       85, 86, 87, 88, 89, 90, 91, 92, 93, 94, 95, 96, 97, 98, 99])"
            ]
          },
          "metadata": {
            "tags": []
          },
          "execution_count": 108
        }
      ]
    },
    {
      "cell_type": "code",
      "metadata": {
        "id": "G5xH7GGP94kh",
        "colab_type": "code",
        "outputId": "d6d9a25b-cac5-4698-8834-70259a3093ed",
        "colab": {
          "base_uri": "https://localhost:8080/",
          "height": 73
        }
      },
      "source": [
        "mat[mat>50]"
      ],
      "execution_count": 0,
      "outputs": [
        {
          "output_type": "execute_result",
          "data": {
            "text/plain": [
              "array([51, 52, 53, 54, 55, 56, 57, 58, 59, 60, 61, 62, 63, 64, 65, 66, 67,\n",
              "       68, 69, 70, 71, 72, 73, 74, 75, 76, 77, 78, 79, 80, 81, 82, 83, 84,\n",
              "       85, 86, 87, 88, 89, 90, 91, 92, 93, 94, 95, 96, 97, 98, 99])"
            ]
          },
          "metadata": {
            "tags": []
          },
          "execution_count": 109
        }
      ]
    },
    {
      "cell_type": "markdown",
      "metadata": {
        "id": "cC1AnGA3BFkb",
        "colab_type": "text"
      },
      "source": [
        "# Pandas\n",
        "\n",
        "Como leer csv"
      ]
    },
    {
      "cell_type": "code",
      "metadata": {
        "id": "Dm12oM43BHqA",
        "colab_type": "code",
        "colab": {}
      },
      "source": [
        "import pandas as pd"
      ],
      "execution_count": 0,
      "outputs": []
    },
    {
      "cell_type": "code",
      "metadata": {
        "id": "CcrXP146BUkT",
        "colab_type": "code",
        "outputId": "abb2bd63-42a0-4a88-9436-db178d3c6e43",
        "colab": {
          "base_uri": "https://localhost:8080/",
          "height": 36
        }
      },
      "source": [
        "! pwd"
      ],
      "execution_count": 0,
      "outputs": [
        {
          "output_type": "stream",
          "text": [
            "/content\n"
          ],
          "name": "stdout"
        }
      ]
    },
    {
      "cell_type": "code",
      "metadata": {
        "id": "a99TmIELBPhM",
        "colab_type": "code",
        "colab": {}
      },
      "source": [
        "pd.read_csv(\" \")"
      ],
      "execution_count": 0,
      "outputs": []
    },
    {
      "cell_type": "code",
      "metadata": {
        "id": "kQSAnNTICZdy",
        "colab_type": "code",
        "colab": {}
      },
      "source": [
        "!pip install --upgrade -q gspread"
      ],
      "execution_count": 0,
      "outputs": []
    },
    {
      "cell_type": "code",
      "metadata": {
        "id": "mGCIsQobCDkP",
        "colab_type": "code",
        "colab": {}
      },
      "source": [
        "from google.colab import auth\n",
        "auth.authenticate_user()\n",
        "\n",
        "import gspread\n",
        "from oauth2client.client import GoogleCredentials\n",
        "\n",
        "gc = gspread.authorize(GoogleCredentials.get_application_default())\n",
        "\n",
        "worksheet = gc.open('Ejemplo_entradas_para_RNIN').sheet1\n",
        "\n",
        "# get_all_values gives a list of rows.\n",
        "rows = worksheet.get_all_values()\n",
        "####################################################\n",
        "#print(rows) para imprimir los datos###############\n",
        "\n",
        "# Convert to a DataFrame and render.\n",
        "import pandas as pd\n",
        "###################################################\n",
        "#pd.DataFrame.from_records(rows) para imprimir los datos en forma de tabla"
      ],
      "execution_count": 0,
      "outputs": []
    },
    {
      "cell_type": "code",
      "metadata": {
        "id": "8vSOOa8VDajK",
        "colab_type": "code",
        "outputId": "77342d77-e440-4834-918f-920c7680af9b",
        "colab": {
          "base_uri": "https://localhost:8080/",
          "height": 317
        }
      },
      "source": [
        "rows"
      ],
      "execution_count": 0,
      "outputs": [
        {
          "output_type": "execute_result",
          "data": {
            "text/plain": [
              "[['ID',\n",
              "  'ALTURA_MEDIA',\n",
              "  'DAP_MEDIO',\n",
              "  'ALT_MEDIA_PODA',\n",
              "  'DENSIDAD_PODADOS',\n",
              "  'DENSIDAD',\n",
              "  'PLI'],\n",
              " ['R1', '27,8', '31,6', '6,1', '360', '360', '1'],\n",
              " ['R2', '25,2', '28,2', '0', '0', '639', '0'],\n",
              " ['R3', '25,9', '24,9', '2,7', '1022', '1083', '0'],\n",
              " ['R4', '27,6', '27,9', '0', '0', '667', '0'],\n",
              " ['R5', '24,7', '24,6', '2,3', '975', '1075', '0'],\n",
              " ['R6', '24,5', '26,6', '0', '0', '693', '0'],\n",
              " ['R7', '23,2', '25,5', '0', '0', '684', '0'],\n",
              " ['R8', '31,8', '35,6', '5,6', '700', '700', '1'],\n",
              " ['R9', '32,2', '34,3', '5,5', '435', '442', '1']]"
            ]
          },
          "metadata": {
            "tags": []
          },
          "execution_count": 115
        }
      ]
    },
    {
      "cell_type": "code",
      "metadata": {
        "id": "nf9m1PvCBObN",
        "colab_type": "code",
        "outputId": "59a2cd2e-ffe0-429a-fb6e-809ecd037081",
        "colab": {
          "base_uri": "https://localhost:8080/",
          "height": 363
        }
      },
      "source": [
        "pd.DataFrame.from_records(rows)"
      ],
      "execution_count": 0,
      "outputs": [
        {
          "output_type": "execute_result",
          "data": {
            "text/html": [
              "<div>\n",
              "<style scoped>\n",
              "    .dataframe tbody tr th:only-of-type {\n",
              "        vertical-align: middle;\n",
              "    }\n",
              "\n",
              "    .dataframe tbody tr th {\n",
              "        vertical-align: top;\n",
              "    }\n",
              "\n",
              "    .dataframe thead th {\n",
              "        text-align: right;\n",
              "    }\n",
              "</style>\n",
              "<table border=\"1\" class=\"dataframe\">\n",
              "  <thead>\n",
              "    <tr style=\"text-align: right;\">\n",
              "      <th></th>\n",
              "      <th>0</th>\n",
              "      <th>1</th>\n",
              "      <th>2</th>\n",
              "      <th>3</th>\n",
              "      <th>4</th>\n",
              "      <th>5</th>\n",
              "      <th>6</th>\n",
              "    </tr>\n",
              "  </thead>\n",
              "  <tbody>\n",
              "    <tr>\n",
              "      <th>0</th>\n",
              "      <td>ID</td>\n",
              "      <td>ALTURA_MEDIA</td>\n",
              "      <td>DAP_MEDIO</td>\n",
              "      <td>ALT_MEDIA_PODA</td>\n",
              "      <td>DENSIDAD_PODADOS</td>\n",
              "      <td>DENSIDAD</td>\n",
              "      <td>PLI</td>\n",
              "    </tr>\n",
              "    <tr>\n",
              "      <th>1</th>\n",
              "      <td>R1</td>\n",
              "      <td>27,8</td>\n",
              "      <td>31,6</td>\n",
              "      <td>6,1</td>\n",
              "      <td>360</td>\n",
              "      <td>360</td>\n",
              "      <td>1</td>\n",
              "    </tr>\n",
              "    <tr>\n",
              "      <th>2</th>\n",
              "      <td>R2</td>\n",
              "      <td>25,2</td>\n",
              "      <td>28,2</td>\n",
              "      <td>0</td>\n",
              "      <td>0</td>\n",
              "      <td>639</td>\n",
              "      <td>0</td>\n",
              "    </tr>\n",
              "    <tr>\n",
              "      <th>3</th>\n",
              "      <td>R3</td>\n",
              "      <td>25,9</td>\n",
              "      <td>24,9</td>\n",
              "      <td>2,7</td>\n",
              "      <td>1022</td>\n",
              "      <td>1083</td>\n",
              "      <td>0</td>\n",
              "    </tr>\n",
              "    <tr>\n",
              "      <th>4</th>\n",
              "      <td>R4</td>\n",
              "      <td>27,6</td>\n",
              "      <td>27,9</td>\n",
              "      <td>0</td>\n",
              "      <td>0</td>\n",
              "      <td>667</td>\n",
              "      <td>0</td>\n",
              "    </tr>\n",
              "    <tr>\n",
              "      <th>5</th>\n",
              "      <td>R5</td>\n",
              "      <td>24,7</td>\n",
              "      <td>24,6</td>\n",
              "      <td>2,3</td>\n",
              "      <td>975</td>\n",
              "      <td>1075</td>\n",
              "      <td>0</td>\n",
              "    </tr>\n",
              "    <tr>\n",
              "      <th>6</th>\n",
              "      <td>R6</td>\n",
              "      <td>24,5</td>\n",
              "      <td>26,6</td>\n",
              "      <td>0</td>\n",
              "      <td>0</td>\n",
              "      <td>693</td>\n",
              "      <td>0</td>\n",
              "    </tr>\n",
              "    <tr>\n",
              "      <th>7</th>\n",
              "      <td>R7</td>\n",
              "      <td>23,2</td>\n",
              "      <td>25,5</td>\n",
              "      <td>0</td>\n",
              "      <td>0</td>\n",
              "      <td>684</td>\n",
              "      <td>0</td>\n",
              "    </tr>\n",
              "    <tr>\n",
              "      <th>8</th>\n",
              "      <td>R8</td>\n",
              "      <td>31,8</td>\n",
              "      <td>35,6</td>\n",
              "      <td>5,6</td>\n",
              "      <td>700</td>\n",
              "      <td>700</td>\n",
              "      <td>1</td>\n",
              "    </tr>\n",
              "    <tr>\n",
              "      <th>9</th>\n",
              "      <td>R9</td>\n",
              "      <td>32,2</td>\n",
              "      <td>34,3</td>\n",
              "      <td>5,5</td>\n",
              "      <td>435</td>\n",
              "      <td>442</td>\n",
              "      <td>1</td>\n",
              "    </tr>\n",
              "  </tbody>\n",
              "</table>\n",
              "</div>"
            ],
            "text/plain": [
              "    0             1          2               3                 4         5    6\n",
              "0  ID  ALTURA_MEDIA  DAP_MEDIO  ALT_MEDIA_PODA  DENSIDAD_PODADOS  DENSIDAD  PLI\n",
              "1  R1          27,8       31,6             6,1               360       360    1\n",
              "2  R2          25,2       28,2               0                 0       639    0\n",
              "3  R3          25,9       24,9             2,7              1022      1083    0\n",
              "4  R4          27,6       27,9               0                 0       667    0\n",
              "5  R5          24,7       24,6             2,3               975      1075    0\n",
              "6  R6          24,5       26,6               0                 0       693    0\n",
              "7  R7          23,2       25,5               0                 0       684    0\n",
              "8  R8          31,8       35,6             5,6               700       700    1\n",
              "9  R9          32,2       34,3             5,5               435       442    1"
            ]
          },
          "metadata": {
            "tags": []
          },
          "execution_count": 116
        }
      ]
    },
    {
      "cell_type": "code",
      "metadata": {
        "id": "BzirBUp6GILD",
        "colab_type": "code",
        "colab": {
          "base_uri": "https://localhost:8080/",
          "height": 36
        },
        "outputId": "a39548c8-cc89-4fa4-cb36-afdfae0d6f59"
      },
      "source": [
        "type(rows)"
      ],
      "execution_count": 117,
      "outputs": [
        {
          "output_type": "execute_result",
          "data": {
            "text/plain": [
              "list"
            ]
          },
          "metadata": {
            "tags": []
          },
          "execution_count": 117
        }
      ]
    },
    {
      "cell_type": "markdown",
      "metadata": {
        "id": "UB5y_K8MGZa9",
        "colab_type": "text"
      },
      "source": [
        "Cómo pasar una lista a dataframa?   \n",
        "https://thispointer.com/python-pandas-how-to-convert-lists-to-a-dataframe/\n",
        "\n",
        "\n"
      ]
    },
    {
      "cell_type": "code",
      "metadata": {
        "id": "iHY-RfkSHeKv",
        "colab_type": "code",
        "colab": {
          "base_uri": "https://localhost:8080/",
          "height": 148
        },
        "outputId": "7c7b033c-3b86-40a4-91f2-de5424ea8592"
      },
      "source": [
        "rows[0]\n",
        "#rows[1:len(rows)+1]"
      ],
      "execution_count": 136,
      "outputs": [
        {
          "output_type": "execute_result",
          "data": {
            "text/plain": [
              "['ID',\n",
              " 'ALTURA_MEDIA',\n",
              " 'DAP_MEDIO',\n",
              " 'ALT_MEDIA_PODA',\n",
              " 'DENSIDAD_PODADOS',\n",
              " 'DENSIDAD',\n",
              " 'PLI']"
            ]
          },
          "metadata": {
            "tags": []
          },
          "execution_count": 136
        }
      ]
    },
    {
      "cell_type": "code",
      "metadata": {
        "id": "2yzhInCHGgqc",
        "colab_type": "code",
        "colab": {
          "base_uri": "https://localhost:8080/",
          "height": 352
        },
        "outputId": "01545297-785b-4e28-99d1-e16b9ec6ae7f"
      },
      "source": [
        "  df = pd.DataFrame(rows) # este queda la caga, en la siguienta linea lo arregle pero debe ser de otra manera creo\n",
        "  df = pd.DataFrame(rows[1:len(rows)+1], columns = rows[0])\n",
        "  df"
      ],
      "execution_count": 139,
      "outputs": [
        {
          "output_type": "execute_result",
          "data": {
            "text/html": [
              "<div>\n",
              "<style scoped>\n",
              "    .dataframe tbody tr th:only-of-type {\n",
              "        vertical-align: middle;\n",
              "    }\n",
              "\n",
              "    .dataframe tbody tr th {\n",
              "        vertical-align: top;\n",
              "    }\n",
              "\n",
              "    .dataframe thead th {\n",
              "        text-align: right;\n",
              "    }\n",
              "</style>\n",
              "<table border=\"1\" class=\"dataframe\">\n",
              "  <thead>\n",
              "    <tr style=\"text-align: right;\">\n",
              "      <th></th>\n",
              "      <th>ID</th>\n",
              "      <th>ALTURA_MEDIA</th>\n",
              "      <th>DAP_MEDIO</th>\n",
              "      <th>ALT_MEDIA_PODA</th>\n",
              "      <th>DENSIDAD_PODADOS</th>\n",
              "      <th>DENSIDAD</th>\n",
              "      <th>PLI</th>\n",
              "    </tr>\n",
              "  </thead>\n",
              "  <tbody>\n",
              "    <tr>\n",
              "      <th>0</th>\n",
              "      <td>R1</td>\n",
              "      <td>27,8</td>\n",
              "      <td>31,6</td>\n",
              "      <td>6,1</td>\n",
              "      <td>360</td>\n",
              "      <td>360</td>\n",
              "      <td>1</td>\n",
              "    </tr>\n",
              "    <tr>\n",
              "      <th>1</th>\n",
              "      <td>R2</td>\n",
              "      <td>25,2</td>\n",
              "      <td>28,2</td>\n",
              "      <td>0</td>\n",
              "      <td>0</td>\n",
              "      <td>639</td>\n",
              "      <td>0</td>\n",
              "    </tr>\n",
              "    <tr>\n",
              "      <th>2</th>\n",
              "      <td>R3</td>\n",
              "      <td>25,9</td>\n",
              "      <td>24,9</td>\n",
              "      <td>2,7</td>\n",
              "      <td>1022</td>\n",
              "      <td>1083</td>\n",
              "      <td>0</td>\n",
              "    </tr>\n",
              "    <tr>\n",
              "      <th>3</th>\n",
              "      <td>R4</td>\n",
              "      <td>27,6</td>\n",
              "      <td>27,9</td>\n",
              "      <td>0</td>\n",
              "      <td>0</td>\n",
              "      <td>667</td>\n",
              "      <td>0</td>\n",
              "    </tr>\n",
              "    <tr>\n",
              "      <th>4</th>\n",
              "      <td>R5</td>\n",
              "      <td>24,7</td>\n",
              "      <td>24,6</td>\n",
              "      <td>2,3</td>\n",
              "      <td>975</td>\n",
              "      <td>1075</td>\n",
              "      <td>0</td>\n",
              "    </tr>\n",
              "    <tr>\n",
              "      <th>5</th>\n",
              "      <td>R6</td>\n",
              "      <td>24,5</td>\n",
              "      <td>26,6</td>\n",
              "      <td>0</td>\n",
              "      <td>0</td>\n",
              "      <td>693</td>\n",
              "      <td>0</td>\n",
              "    </tr>\n",
              "    <tr>\n",
              "      <th>6</th>\n",
              "      <td>R7</td>\n",
              "      <td>23,2</td>\n",
              "      <td>25,5</td>\n",
              "      <td>0</td>\n",
              "      <td>0</td>\n",
              "      <td>684</td>\n",
              "      <td>0</td>\n",
              "    </tr>\n",
              "    <tr>\n",
              "      <th>7</th>\n",
              "      <td>R8</td>\n",
              "      <td>31,8</td>\n",
              "      <td>35,6</td>\n",
              "      <td>5,6</td>\n",
              "      <td>700</td>\n",
              "      <td>700</td>\n",
              "      <td>1</td>\n",
              "    </tr>\n",
              "    <tr>\n",
              "      <th>8</th>\n",
              "      <td>R9</td>\n",
              "      <td>32,2</td>\n",
              "      <td>34,3</td>\n",
              "      <td>5,5</td>\n",
              "      <td>435</td>\n",
              "      <td>442</td>\n",
              "      <td>1</td>\n",
              "    </tr>\n",
              "  </tbody>\n",
              "</table>\n",
              "</div>"
            ],
            "text/plain": [
              "   ID ALTURA_MEDIA DAP_MEDIO ALT_MEDIA_PODA DENSIDAD_PODADOS DENSIDAD PLI\n",
              "0  R1         27,8      31,6            6,1              360      360   1\n",
              "1  R2         25,2      28,2              0                0      639   0\n",
              "2  R3         25,9      24,9            2,7             1022     1083   0\n",
              "3  R4         27,6      27,9              0                0      667   0\n",
              "4  R5         24,7      24,6            2,3              975     1075   0\n",
              "5  R6         24,5      26,6              0                0      693   0\n",
              "6  R7         23,2      25,5              0                0      684   0\n",
              "7  R8         31,8      35,6            5,6              700      700   1\n",
              "8  R9         32,2      34,3            5,5              435      442   1"
            ]
          },
          "metadata": {
            "tags": []
          },
          "execution_count": 139
        }
      ]
    },
    {
      "cell_type": "code",
      "metadata": {
        "id": "EkCj6SAMJIBa",
        "colab_type": "code",
        "colab": {
          "base_uri": "https://localhost:8080/",
          "height": 204
        },
        "outputId": "d619b5c8-460e-4b7b-ce9a-a20b83c001e8"
      },
      "source": [
        "df[\"DAP_MEDIO\"]"
      ],
      "execution_count": 140,
      "outputs": [
        {
          "output_type": "execute_result",
          "data": {
            "text/plain": [
              "0    31,6\n",
              "1    28,2\n",
              "2    24,9\n",
              "3    27,9\n",
              "4    24,6\n",
              "5    26,6\n",
              "6    25,5\n",
              "7    35,6\n",
              "8    34,3\n",
              "Name: DAP_MEDIO, dtype: object"
            ]
          },
          "metadata": {
            "tags": []
          },
          "execution_count": 140
        }
      ]
    },
    {
      "cell_type": "code",
      "metadata": {
        "id": "ZQVu6VZKKfXm",
        "colab_type": "code",
        "colab": {
          "base_uri": "https://localhost:8080/",
          "height": 332
        },
        "outputId": "3fdc9373-1568-487c-a11b-2d83bd424b8d"
      },
      "source": [
        "df[[\"DAP_MEDIO\"]]"
      ],
      "execution_count": 141,
      "outputs": [
        {
          "output_type": "execute_result",
          "data": {
            "text/html": [
              "<div>\n",
              "<style scoped>\n",
              "    .dataframe tbody tr th:only-of-type {\n",
              "        vertical-align: middle;\n",
              "    }\n",
              "\n",
              "    .dataframe tbody tr th {\n",
              "        vertical-align: top;\n",
              "    }\n",
              "\n",
              "    .dataframe thead th {\n",
              "        text-align: right;\n",
              "    }\n",
              "</style>\n",
              "<table border=\"1\" class=\"dataframe\">\n",
              "  <thead>\n",
              "    <tr style=\"text-align: right;\">\n",
              "      <th></th>\n",
              "      <th>DAP_MEDIO</th>\n",
              "    </tr>\n",
              "  </thead>\n",
              "  <tbody>\n",
              "    <tr>\n",
              "      <th>0</th>\n",
              "      <td>31,6</td>\n",
              "    </tr>\n",
              "    <tr>\n",
              "      <th>1</th>\n",
              "      <td>28,2</td>\n",
              "    </tr>\n",
              "    <tr>\n",
              "      <th>2</th>\n",
              "      <td>24,9</td>\n",
              "    </tr>\n",
              "    <tr>\n",
              "      <th>3</th>\n",
              "      <td>27,9</td>\n",
              "    </tr>\n",
              "    <tr>\n",
              "      <th>4</th>\n",
              "      <td>24,6</td>\n",
              "    </tr>\n",
              "    <tr>\n",
              "      <th>5</th>\n",
              "      <td>26,6</td>\n",
              "    </tr>\n",
              "    <tr>\n",
              "      <th>6</th>\n",
              "      <td>25,5</td>\n",
              "    </tr>\n",
              "    <tr>\n",
              "      <th>7</th>\n",
              "      <td>35,6</td>\n",
              "    </tr>\n",
              "    <tr>\n",
              "      <th>8</th>\n",
              "      <td>34,3</td>\n",
              "    </tr>\n",
              "  </tbody>\n",
              "</table>\n",
              "</div>"
            ],
            "text/plain": [
              "  DAP_MEDIO\n",
              "0      31,6\n",
              "1      28,2\n",
              "2      24,9\n",
              "3      27,9\n",
              "4      24,6\n",
              "5      26,6\n",
              "6      25,5\n",
              "7      35,6\n",
              "8      34,3"
            ]
          },
          "metadata": {
            "tags": []
          },
          "execution_count": 141
        }
      ]
    },
    {
      "cell_type": "code",
      "metadata": {
        "id": "ORC5OZsKKkJG",
        "colab_type": "code",
        "colab": {
          "base_uri": "https://localhost:8080/",
          "height": 332
        },
        "outputId": "b601b7b9-9a20-479a-e44d-62487617865b"
      },
      "source": [
        "df[[\"DAP_MEDIO\",\"ALTURA_MEDIA\"]]"
      ],
      "execution_count": 142,
      "outputs": [
        {
          "output_type": "execute_result",
          "data": {
            "text/html": [
              "<div>\n",
              "<style scoped>\n",
              "    .dataframe tbody tr th:only-of-type {\n",
              "        vertical-align: middle;\n",
              "    }\n",
              "\n",
              "    .dataframe tbody tr th {\n",
              "        vertical-align: top;\n",
              "    }\n",
              "\n",
              "    .dataframe thead th {\n",
              "        text-align: right;\n",
              "    }\n",
              "</style>\n",
              "<table border=\"1\" class=\"dataframe\">\n",
              "  <thead>\n",
              "    <tr style=\"text-align: right;\">\n",
              "      <th></th>\n",
              "      <th>DAP_MEDIO</th>\n",
              "      <th>ALTURA_MEDIA</th>\n",
              "    </tr>\n",
              "  </thead>\n",
              "  <tbody>\n",
              "    <tr>\n",
              "      <th>0</th>\n",
              "      <td>31,6</td>\n",
              "      <td>27,8</td>\n",
              "    </tr>\n",
              "    <tr>\n",
              "      <th>1</th>\n",
              "      <td>28,2</td>\n",
              "      <td>25,2</td>\n",
              "    </tr>\n",
              "    <tr>\n",
              "      <th>2</th>\n",
              "      <td>24,9</td>\n",
              "      <td>25,9</td>\n",
              "    </tr>\n",
              "    <tr>\n",
              "      <th>3</th>\n",
              "      <td>27,9</td>\n",
              "      <td>27,6</td>\n",
              "    </tr>\n",
              "    <tr>\n",
              "      <th>4</th>\n",
              "      <td>24,6</td>\n",
              "      <td>24,7</td>\n",
              "    </tr>\n",
              "    <tr>\n",
              "      <th>5</th>\n",
              "      <td>26,6</td>\n",
              "      <td>24,5</td>\n",
              "    </tr>\n",
              "    <tr>\n",
              "      <th>6</th>\n",
              "      <td>25,5</td>\n",
              "      <td>23,2</td>\n",
              "    </tr>\n",
              "    <tr>\n",
              "      <th>7</th>\n",
              "      <td>35,6</td>\n",
              "      <td>31,8</td>\n",
              "    </tr>\n",
              "    <tr>\n",
              "      <th>8</th>\n",
              "      <td>34,3</td>\n",
              "      <td>32,2</td>\n",
              "    </tr>\n",
              "  </tbody>\n",
              "</table>\n",
              "</div>"
            ],
            "text/plain": [
              "  DAP_MEDIO ALTURA_MEDIA\n",
              "0      31,6         27,8\n",
              "1      28,2         25,2\n",
              "2      24,9         25,9\n",
              "3      27,9         27,6\n",
              "4      24,6         24,7\n",
              "5      26,6         24,5\n",
              "6      25,5         23,2\n",
              "7      35,6         31,8\n",
              "8      34,3         32,2"
            ]
          },
          "metadata": {
            "tags": []
          },
          "execution_count": 142
        }
      ]
    },
    {
      "cell_type": "code",
      "metadata": {
        "id": "8W-9GTqKKuA5",
        "colab_type": "code",
        "colab": {
          "base_uri": "https://localhost:8080/",
          "height": 54
        },
        "outputId": "d99db53a-7428-427a-d22b-a6656e417ee5"
      },
      "source": [
        "df[[\"ALTURA_MEDIA\"]].max()"
      ],
      "execution_count": 149,
      "outputs": [
        {
          "output_type": "execute_result",
          "data": {
            "text/plain": [
              "ALTURA_MEDIA    32,2\n",
              "dtype: object"
            ]
          },
          "metadata": {
            "tags": []
          },
          "execution_count": 149
        }
      ]
    },
    {
      "cell_type": "code",
      "metadata": {
        "id": "ZHdFOHbgK_VQ",
        "colab_type": "code",
        "colab": {
          "base_uri": "https://localhost:8080/",
          "height": 195
        },
        "outputId": "34f458e1-af07-497d-e6f9-99ff18499618"
      },
      "source": [
        "df.describe()"
      ],
      "execution_count": 148,
      "outputs": [
        {
          "output_type": "execute_result",
          "data": {
            "text/html": [
              "<div>\n",
              "<style scoped>\n",
              "    .dataframe tbody tr th:only-of-type {\n",
              "        vertical-align: middle;\n",
              "    }\n",
              "\n",
              "    .dataframe tbody tr th {\n",
              "        vertical-align: top;\n",
              "    }\n",
              "\n",
              "    .dataframe thead th {\n",
              "        text-align: right;\n",
              "    }\n",
              "</style>\n",
              "<table border=\"1\" class=\"dataframe\">\n",
              "  <thead>\n",
              "    <tr style=\"text-align: right;\">\n",
              "      <th></th>\n",
              "      <th>ID</th>\n",
              "      <th>ALTURA_MEDIA</th>\n",
              "      <th>DAP_MEDIO</th>\n",
              "      <th>ALT_MEDIA_PODA</th>\n",
              "      <th>DENSIDAD_PODADOS</th>\n",
              "      <th>DENSIDAD</th>\n",
              "      <th>PLI</th>\n",
              "    </tr>\n",
              "  </thead>\n",
              "  <tbody>\n",
              "    <tr>\n",
              "      <th>count</th>\n",
              "      <td>9</td>\n",
              "      <td>9</td>\n",
              "      <td>9</td>\n",
              "      <td>9</td>\n",
              "      <td>9</td>\n",
              "      <td>9</td>\n",
              "      <td>9</td>\n",
              "    </tr>\n",
              "    <tr>\n",
              "      <th>unique</th>\n",
              "      <td>9</td>\n",
              "      <td>9</td>\n",
              "      <td>9</td>\n",
              "      <td>6</td>\n",
              "      <td>6</td>\n",
              "      <td>9</td>\n",
              "      <td>2</td>\n",
              "    </tr>\n",
              "    <tr>\n",
              "      <th>top</th>\n",
              "      <td>R7</td>\n",
              "      <td>27,8</td>\n",
              "      <td>26,6</td>\n",
              "      <td>0</td>\n",
              "      <td>0</td>\n",
              "      <td>1075</td>\n",
              "      <td>0</td>\n",
              "    </tr>\n",
              "    <tr>\n",
              "      <th>freq</th>\n",
              "      <td>1</td>\n",
              "      <td>1</td>\n",
              "      <td>1</td>\n",
              "      <td>4</td>\n",
              "      <td>4</td>\n",
              "      <td>1</td>\n",
              "      <td>6</td>\n",
              "    </tr>\n",
              "  </tbody>\n",
              "</table>\n",
              "</div>"
            ],
            "text/plain": [
              "        ID ALTURA_MEDIA DAP_MEDIO ALT_MEDIA_PODA DENSIDAD_PODADOS DENSIDAD PLI\n",
              "count    9            9         9              9                9        9   9\n",
              "unique   9            9         9              6                6        9   2\n",
              "top     R7         27,8      26,6              0                0     1075   0\n",
              "freq     1            1         1              4                4        1   6"
            ]
          },
          "metadata": {
            "tags": []
          },
          "execution_count": 148
        }
      ]
    },
    {
      "cell_type": "code",
      "metadata": {
        "id": "cTNpHcGFLYD4",
        "colab_type": "code",
        "colab": {
          "base_uri": "https://localhost:8080/",
          "height": 243
        },
        "outputId": "b3c7bea8-15d1-4189-e0e9-3b4f25ed5824"
      },
      "source": [
        "df.as_matrix()"
      ],
      "execution_count": 152,
      "outputs": [
        {
          "output_type": "stream",
          "text": [
            "/usr/local/lib/python3.6/dist-packages/ipykernel_launcher.py:1: FutureWarning: Method .as_matrix will be removed in a future version. Use .values instead.\n",
            "  \"\"\"Entry point for launching an IPython kernel.\n"
          ],
          "name": "stderr"
        },
        {
          "output_type": "execute_result",
          "data": {
            "text/plain": [
              "array([['R1', '27,8', '31,6', '6,1', '360', '360', '1'],\n",
              "       ['R2', '25,2', '28,2', '0', '0', '639', '0'],\n",
              "       ['R3', '25,9', '24,9', '2,7', '1022', '1083', '0'],\n",
              "       ['R4', '27,6', '27,9', '0', '0', '667', '0'],\n",
              "       ['R5', '24,7', '24,6', '2,3', '975', '1075', '0'],\n",
              "       ['R6', '24,5', '26,6', '0', '0', '693', '0'],\n",
              "       ['R7', '23,2', '25,5', '0', '0', '684', '0'],\n",
              "       ['R8', '31,8', '35,6', '5,6', '700', '700', '1'],\n",
              "       ['R9', '32,2', '34,3', '5,5', '435', '442', '1']], dtype=object)"
            ]
          },
          "metadata": {
            "tags": []
          },
          "execution_count": 152
        }
      ]
    },
    {
      "cell_type": "code",
      "metadata": {
        "id": "16Is3VoULeNe",
        "colab_type": "code",
        "colab": {
          "base_uri": "https://localhost:8080/",
          "height": 224
        },
        "outputId": "dcbef0e0-0903-4ddb-fafe-12b48fe25940"
      },
      "source": [
        "df.as_matrix"
      ],
      "execution_count": 153,
      "outputs": [
        {
          "output_type": "execute_result",
          "data": {
            "text/plain": [
              "<bound method NDFrame.as_matrix of    ID ALTURA_MEDIA DAP_MEDIO ALT_MEDIA_PODA DENSIDAD_PODADOS DENSIDAD PLI\n",
              "0  R1         27,8      31,6            6,1              360      360   1\n",
              "1  R2         25,2      28,2              0                0      639   0\n",
              "2  R3         25,9      24,9            2,7             1022     1083   0\n",
              "3  R4         27,6      27,9              0                0      667   0\n",
              "4  R5         24,7      24,6            2,3              975     1075   0\n",
              "5  R6         24,5      26,6              0                0      693   0\n",
              "6  R7         23,2      25,5              0                0      684   0\n",
              "7  R8         31,8      35,6            5,6              700      700   1\n",
              "8  R9         32,2      34,3            5,5              435      442   1>"
            ]
          },
          "metadata": {
            "tags": []
          },
          "execution_count": 153
        }
      ]
    }
  ]
}
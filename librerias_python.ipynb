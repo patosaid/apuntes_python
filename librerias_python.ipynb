{
  "nbformat": 4,
  "nbformat_minor": 0,
  "metadata": {
    "colab": {
      "name": "librerias_python.ipynb",
      "version": "0.3.2",
      "provenance": [],
      "collapsed_sections": [
        "TJ1UBBBD0TGi",
        "cC1AnGA3BFkb"
      ],
      "include_colab_link": true
    },
    "kernelspec": {
      "name": "python3",
      "display_name": "Python 3"
    }
  },
  "cells": [
    {
      "cell_type": "markdown",
      "metadata": {
        "id": "view-in-github",
        "colab_type": "text"
      },
      "source": [
        "<a href=\"https://colab.research.google.com/github/patosaid/apuntes_python/blob/master/librerias_python.ipynb\" target=\"_parent\"><img src=\"https://colab.research.google.com/assets/colab-badge.svg\" alt=\"Open In Colab\"/></a>"
      ]
    },
    {
      "cell_type": "markdown",
      "metadata": {
        "id": "TJ1UBBBD0TGi",
        "colab_type": "text"
      },
      "source": [
        "# Numpy\n",
        "\n",
        "sitio de Numpy http://www.numpy.org/"
      ]
    },
    {
      "cell_type": "code",
      "metadata": {
        "id": "5MsCK_Rz0Mfz",
        "colab_type": "code",
        "colab": {}
      },
      "source": [
        "import numpy as np"
      ],
      "execution_count": 0,
      "outputs": []
    },
    {
      "cell_type": "code",
      "metadata": {
        "id": "mqvQHqS72fyi",
        "colab_type": "code",
        "colab": {}
      },
      "source": [
        "mi_lista = [1,2,3]"
      ],
      "execution_count": 0,
      "outputs": []
    },
    {
      "cell_type": "code",
      "metadata": {
        "id": "nYAF9s8w2iyu",
        "colab_type": "code",
        "outputId": "b316c006-e87f-472b-b025-ea550d977962",
        "colab": {
          "base_uri": "https://localhost:8080/",
          "height": 36
        }
      },
      "source": [
        "type(np.array(mi_lista))"
      ],
      "execution_count": 0,
      "outputs": [
        {
          "output_type": "execute_result",
          "data": {
            "text/plain": [
              "numpy.ndarray"
            ]
          },
          "metadata": {
            "tags": []
          },
          "execution_count": 7
        }
      ]
    },
    {
      "cell_type": "code",
      "metadata": {
        "id": "vPUK_14b26iQ",
        "colab_type": "code",
        "colab": {}
      },
      "source": [
        "arr = np.array(mi_lista)"
      ],
      "execution_count": 0,
      "outputs": []
    },
    {
      "cell_type": "code",
      "metadata": {
        "id": "Rhmoto5O3ANa",
        "colab_type": "code",
        "outputId": "c5af3377-3d77-452b-f7d2-263283b8f617",
        "colab": {
          "base_uri": "https://localhost:8080/",
          "height": 36
        }
      },
      "source": [
        "arr"
      ],
      "execution_count": 0,
      "outputs": [
        {
          "output_type": "execute_result",
          "data": {
            "text/plain": [
              "array([1, 2, 3])"
            ]
          },
          "metadata": {
            "tags": []
          },
          "execution_count": 9
        }
      ]
    },
    {
      "cell_type": "markdown",
      "metadata": {
        "id": "tq-eq7yR3FxE",
        "colab_type": "text"
      },
      "source": [
        "Ahora se creará un array por medio de una funcion"
      ]
    },
    {
      "cell_type": "code",
      "metadata": {
        "id": "vsmroeoz3MHD",
        "colab_type": "code",
        "outputId": "dcce412b-93a3-46f4-9ec9-ba54567b0421",
        "colab": {
          "base_uri": "https://localhost:8080/",
          "height": 36
        }
      },
      "source": [
        "np.arange(0,10) # va de 0 a 9\n",
        "np.arange(0,11 , 2) # va de 0 a 10 de dos en dos"
      ],
      "execution_count": 0,
      "outputs": [
        {
          "output_type": "execute_result",
          "data": {
            "text/plain": [
              "array([ 0,  2,  4,  6,  8, 10])"
            ]
          },
          "metadata": {
            "tags": []
          },
          "execution_count": 13
        }
      ]
    },
    {
      "cell_type": "code",
      "metadata": {
        "id": "MhNFluiM3KqD",
        "colab_type": "code",
        "outputId": "cad6e924-58f5-4c70-e6b6-cccbb8a4a7ea",
        "colab": {
          "base_uri": "https://localhost:8080/",
          "height": 36
        }
      },
      "source": [
        "np.zeros(5) #esta funcion crea ceros"
      ],
      "execution_count": 0,
      "outputs": [
        {
          "output_type": "execute_result",
          "data": {
            "text/plain": [
              "array([0., 0., 0., 0., 0.])"
            ]
          },
          "metadata": {
            "tags": []
          },
          "execution_count": 14
        }
      ]
    },
    {
      "cell_type": "code",
      "metadata": {
        "id": "QSuvjFij4Esr",
        "colab_type": "code",
        "outputId": "b9da2928-68cb-4e32-9311-c5470b3ad3ae",
        "colab": {
          "base_uri": "https://localhost:8080/",
          "height": 73
        }
      },
      "source": [
        "np.zeros((3,4)) # crea una matriz de ceros con dos () por tuplas"
      ],
      "execution_count": 0,
      "outputs": [
        {
          "output_type": "execute_result",
          "data": {
            "text/plain": [
              "array([[0., 0., 0., 0.],\n",
              "       [0., 0., 0., 0.],\n",
              "       [0., 0., 0., 0.]])"
            ]
          },
          "metadata": {
            "tags": []
          },
          "execution_count": 15
        }
      ]
    },
    {
      "cell_type": "code",
      "metadata": {
        "id": "82w0n4M54Ns_",
        "colab_type": "code",
        "outputId": "70b8e77e-45fa-4905-fbcd-bc353f1798da",
        "colab": {
          "base_uri": "https://localhost:8080/",
          "height": 36
        }
      },
      "source": [
        "np.ones(3) # crea unos"
      ],
      "execution_count": 0,
      "outputs": [
        {
          "output_type": "execute_result",
          "data": {
            "text/plain": [
              "array([1., 1., 1.])"
            ]
          },
          "metadata": {
            "tags": []
          },
          "execution_count": 16
        }
      ]
    },
    {
      "cell_type": "code",
      "metadata": {
        "id": "sFKoXQng4SD7",
        "colab_type": "code",
        "outputId": "357e3588-206b-43e8-da2f-c4eb53b995f0",
        "colab": {
          "base_uri": "https://localhost:8080/",
          "height": 111
        }
      },
      "source": [
        "np.ones((5,5))"
      ],
      "execution_count": 0,
      "outputs": [
        {
          "output_type": "execute_result",
          "data": {
            "text/plain": [
              "array([[1., 1., 1., 1., 1.],\n",
              "       [1., 1., 1., 1., 1.],\n",
              "       [1., 1., 1., 1., 1.],\n",
              "       [1., 1., 1., 1., 1.],\n",
              "       [1., 1., 1., 1., 1.]])"
            ]
          },
          "metadata": {
            "tags": []
          },
          "execution_count": 17
        }
      ]
    },
    {
      "cell_type": "code",
      "metadata": {
        "id": "J5f0zu2X56ca",
        "colab_type": "code",
        "outputId": "50a76003-6c69-4146-f06e-c9250a8a159f",
        "colab": {
          "base_uri": "https://localhost:8080/",
          "height": 54
        }
      },
      "source": [
        "np.linspace(1,10,3) # tres numeros entre 1 y 10\n",
        "np.linspace(0,11,10000) #10000 numeros entre 0 y 11"
      ],
      "execution_count": 0,
      "outputs": [
        {
          "output_type": "execute_result",
          "data": {
            "text/plain": [
              "array([0.00000000e+00, 1.10011001e-03, 2.20022002e-03, ...,\n",
              "       1.09977998e+01, 1.09988999e+01, 1.10000000e+01])"
            ]
          },
          "metadata": {
            "tags": []
          },
          "execution_count": 22
        }
      ]
    },
    {
      "cell_type": "code",
      "metadata": {
        "id": "nLt9_a7Z6goq",
        "colab_type": "code",
        "outputId": "6d71ec28-bd86-4985-95b8-d577c33b1240",
        "colab": {
          "base_uri": "https://localhost:8080/",
          "height": 36
        }
      },
      "source": [
        "np.random.randint(0,5) # un numero aleatorio entre 0 y 5 ( excluyente)"
      ],
      "execution_count": 0,
      "outputs": [
        {
          "output_type": "execute_result",
          "data": {
            "text/plain": [
              "3"
            ]
          },
          "metadata": {
            "tags": []
          },
          "execution_count": 47
        }
      ]
    },
    {
      "cell_type": "code",
      "metadata": {
        "id": "IEh0nNMn445o",
        "colab_type": "code",
        "outputId": "6dbf195d-8829-490c-df70-4e79a828853a",
        "colab": {
          "base_uri": "https://localhost:8080/",
          "height": 73
        }
      },
      "source": [
        "np.random.randint(0,5, (3,3))"
      ],
      "execution_count": 0,
      "outputs": [
        {
          "output_type": "execute_result",
          "data": {
            "text/plain": [
              "array([[0, 2, 0],\n",
              "       [1, 1, 2],\n",
              "       [4, 1, 4]])"
            ]
          },
          "metadata": {
            "tags": []
          },
          "execution_count": 48
        }
      ]
    },
    {
      "cell_type": "code",
      "metadata": {
        "id": "Q33MAlYX7FGk",
        "colab_type": "code",
        "outputId": "afdf8f9f-a6bc-4ffb-af47-4ebf4ba7ed20",
        "colab": {
          "base_uri": "https://localhost:8080/",
          "height": 36
        }
      },
      "source": [
        "np.random.seed(101) # fijo la seed\n",
        "\n",
        "np.random.randint(0,100,10)"
      ],
      "execution_count": 0,
      "outputs": [
        {
          "output_type": "execute_result",
          "data": {
            "text/plain": [
              "array([95, 11, 81, 70, 63, 87, 75,  9, 77, 40])"
            ]
          },
          "metadata": {
            "tags": []
          },
          "execution_count": 72
        }
      ]
    },
    {
      "cell_type": "code",
      "metadata": {
        "id": "dzqKk-mF7b8R",
        "colab_type": "code",
        "outputId": "9e130b18-77a2-4c6b-e7e6-36846a8b362b",
        "colab": {
          "base_uri": "https://localhost:8080/",
          "height": 36
        }
      },
      "source": [
        "np.random.randint(0,100,10) # crea otros valores porq la seed no es la misma"
      ],
      "execution_count": 0,
      "outputs": [
        {
          "output_type": "execute_result",
          "data": {
            "text/plain": [
              "array([76, 95, 87,  0, 73,  8, 62, 36, 83, 99])"
            ]
          },
          "metadata": {
            "tags": []
          },
          "execution_count": 75
        }
      ]
    },
    {
      "cell_type": "code",
      "metadata": {
        "id": "e2D3Jwk87kC0",
        "colab_type": "code",
        "colab": {}
      },
      "source": [
        "arr = np.random.randint(0,100,10)"
      ],
      "execution_count": 0,
      "outputs": []
    },
    {
      "cell_type": "code",
      "metadata": {
        "id": "c-mDxx6-7psJ",
        "colab_type": "code",
        "outputId": "d3bc73f0-42f6-4bf1-dfee-ae4a6213f738",
        "colab": {
          "base_uri": "https://localhost:8080/",
          "height": 36
        }
      },
      "source": [
        "arr"
      ],
      "execution_count": 0,
      "outputs": [
        {
          "output_type": "execute_result",
          "data": {
            "text/plain": [
              "array([71, 15, 44,  0, 12, 17, 75, 79, 97, 93])"
            ]
          },
          "metadata": {
            "tags": []
          },
          "execution_count": 78
        }
      ]
    },
    {
      "cell_type": "code",
      "metadata": {
        "id": "gpHQ68bd7rFM",
        "colab_type": "code",
        "outputId": "8b5d0611-6558-45e4-eb40-8467ec6559c1",
        "colab": {
          "base_uri": "https://localhost:8080/",
          "height": 36
        }
      },
      "source": [
        "arr.max() # el maximo de la variable arr"
      ],
      "execution_count": 0,
      "outputs": [
        {
          "output_type": "execute_result",
          "data": {
            "text/plain": [
              "97"
            ]
          },
          "metadata": {
            "tags": []
          },
          "execution_count": 79
        }
      ]
    },
    {
      "cell_type": "code",
      "metadata": {
        "id": "YPGD3wlQ7v13",
        "colab_type": "code",
        "outputId": "1e3dde01-9312-43e5-aba9-f01bf05f7db1",
        "colab": {
          "base_uri": "https://localhost:8080/",
          "height": 36
        }
      },
      "source": [
        "arr.min()"
      ],
      "execution_count": 0,
      "outputs": [
        {
          "output_type": "execute_result",
          "data": {
            "text/plain": [
              "0"
            ]
          },
          "metadata": {
            "tags": []
          },
          "execution_count": 80
        }
      ]
    },
    {
      "cell_type": "code",
      "metadata": {
        "id": "QtUCAnQr712g",
        "colab_type": "code",
        "outputId": "2da42a27-3c5a-4f37-f4b4-59160f039394",
        "colab": {
          "base_uri": "https://localhost:8080/",
          "height": 36
        }
      },
      "source": [
        "arr.argmax() # entrega el index del maximo"
      ],
      "execution_count": 0,
      "outputs": [
        {
          "output_type": "execute_result",
          "data": {
            "text/plain": [
              "8"
            ]
          },
          "metadata": {
            "tags": []
          },
          "execution_count": 82
        }
      ]
    },
    {
      "cell_type": "code",
      "metadata": {
        "id": "CUQnCsnG8D0d",
        "colab_type": "code",
        "outputId": "3b6a554b-25d0-4bdf-e598-f5ccd95754fd",
        "colab": {
          "base_uri": "https://localhost:8080/",
          "height": 36
        }
      },
      "source": [
        "arr[arr.argmax()]"
      ],
      "execution_count": 0,
      "outputs": [
        {
          "output_type": "execute_result",
          "data": {
            "text/plain": [
              "97"
            ]
          },
          "metadata": {
            "tags": []
          },
          "execution_count": 86
        }
      ]
    },
    {
      "cell_type": "code",
      "metadata": {
        "id": "RNWdSFv98QE5",
        "colab_type": "code",
        "outputId": "888d65a7-93e5-413b-d01c-e6b85539bc2d",
        "colab": {
          "base_uri": "https://localhost:8080/",
          "height": 54
        }
      },
      "source": [
        "arr.reshape(2,5)  # transforma en filas "
      ],
      "execution_count": 0,
      "outputs": [
        {
          "output_type": "execute_result",
          "data": {
            "text/plain": [
              "array([[71, 15, 44,  0, 12],\n",
              "       [17, 75, 79, 97, 93]])"
            ]
          },
          "metadata": {
            "tags": []
          },
          "execution_count": 88
        }
      ]
    },
    {
      "cell_type": "code",
      "metadata": {
        "id": "pgQfcqwC8Z1J",
        "colab_type": "code",
        "colab": {}
      },
      "source": [
        "mat = np.arange(0,100).reshape(10,10)"
      ],
      "execution_count": 0,
      "outputs": []
    },
    {
      "cell_type": "code",
      "metadata": {
        "id": "5EvjlCbQ8k80",
        "colab_type": "code",
        "outputId": "f4095608-f557-4d16-f488-9dcde3e84ace",
        "colab": {
          "base_uri": "https://localhost:8080/",
          "height": 204
        }
      },
      "source": [
        "mat"
      ],
      "execution_count": 0,
      "outputs": [
        {
          "output_type": "execute_result",
          "data": {
            "text/plain": [
              "array([[ 0,  1,  2,  3,  4,  5,  6,  7,  8,  9],\n",
              "       [10, 11, 12, 13, 14, 15, 16, 17, 18, 19],\n",
              "       [20, 21, 22, 23, 24, 25, 26, 27, 28, 29],\n",
              "       [30, 31, 32, 33, 34, 35, 36, 37, 38, 39],\n",
              "       [40, 41, 42, 43, 44, 45, 46, 47, 48, 49],\n",
              "       [50, 51, 52, 53, 54, 55, 56, 57, 58, 59],\n",
              "       [60, 61, 62, 63, 64, 65, 66, 67, 68, 69],\n",
              "       [70, 71, 72, 73, 74, 75, 76, 77, 78, 79],\n",
              "       [80, 81, 82, 83, 84, 85, 86, 87, 88, 89],\n",
              "       [90, 91, 92, 93, 94, 95, 96, 97, 98, 99]])"
            ]
          },
          "metadata": {
            "tags": []
          },
          "execution_count": 91
        }
      ]
    },
    {
      "cell_type": "code",
      "metadata": {
        "id": "0N_VMA3m8nho",
        "colab_type": "code",
        "outputId": "2052e8d9-b436-497b-9a5d-68b5ca78be92",
        "colab": {
          "base_uri": "https://localhost:8080/",
          "height": 36
        }
      },
      "source": [
        "mat.size\n"
      ],
      "execution_count": 0,
      "outputs": [
        {
          "output_type": "execute_result",
          "data": {
            "text/plain": [
              "100"
            ]
          },
          "metadata": {
            "tags": []
          },
          "execution_count": 94
        }
      ]
    },
    {
      "cell_type": "code",
      "metadata": {
        "id": "JObjL66j82L7",
        "colab_type": "code",
        "outputId": "f8d54bbf-7bfb-41fa-89b8-c29b4c7c0780",
        "colab": {
          "base_uri": "https://localhost:8080/",
          "height": 36
        }
      },
      "source": [
        "# como agarrar un valor especifico con index\n",
        "mat[0,1]"
      ],
      "execution_count": 0,
      "outputs": [
        {
          "output_type": "execute_result",
          "data": {
            "text/plain": [
              "1"
            ]
          },
          "metadata": {
            "tags": []
          },
          "execution_count": 95
        }
      ]
    },
    {
      "cell_type": "code",
      "metadata": {
        "id": "cowyUTeu89QC",
        "colab_type": "code",
        "outputId": "86d67f95-9d0d-4af6-ce20-6f8691f06424",
        "colab": {
          "base_uri": "https://localhost:8080/",
          "height": 36
        }
      },
      "source": [
        "mat[4,3]"
      ],
      "execution_count": 0,
      "outputs": [
        {
          "output_type": "execute_result",
          "data": {
            "text/plain": [
              "43"
            ]
          },
          "metadata": {
            "tags": []
          },
          "execution_count": 97
        }
      ]
    },
    {
      "cell_type": "code",
      "metadata": {
        "id": "xMnMwJRt9LzG",
        "colab_type": "code",
        "outputId": "6b72c883-4b1f-41b2-b8bf-847616dabd61",
        "colab": {
          "base_uri": "https://localhost:8080/",
          "height": 36
        }
      },
      "source": [
        "mat[:,0]"
      ],
      "execution_count": 0,
      "outputs": [
        {
          "output_type": "execute_result",
          "data": {
            "text/plain": [
              "array([ 0, 10, 20, 30, 40, 50, 60, 70, 80, 90])"
            ]
          },
          "metadata": {
            "tags": []
          },
          "execution_count": 100
        }
      ]
    },
    {
      "cell_type": "code",
      "metadata": {
        "id": "m76uacRb9TqT",
        "colab_type": "code",
        "outputId": "80efb77e-ff8e-4fc8-812a-9c90ed53c2d1",
        "colab": {
          "base_uri": "https://localhost:8080/",
          "height": 36
        }
      },
      "source": [
        "mat[5,]"
      ],
      "execution_count": 0,
      "outputs": [
        {
          "output_type": "execute_result",
          "data": {
            "text/plain": [
              "array([50, 51, 52, 53, 54, 55, 56, 57, 58, 59])"
            ]
          },
          "metadata": {
            "tags": []
          },
          "execution_count": 101
        }
      ]
    },
    {
      "cell_type": "code",
      "metadata": {
        "id": "M81LF8Js9WNO",
        "colab_type": "code",
        "outputId": "d0e6523e-2ab4-4d4b-8d4a-d257991a9740",
        "colab": {
          "base_uri": "https://localhost:8080/",
          "height": 36
        }
      },
      "source": [
        "mat[5,:]"
      ],
      "execution_count": 0,
      "outputs": [
        {
          "output_type": "execute_result",
          "data": {
            "text/plain": [
              "array([50, 51, 52, 53, 54, 55, 56, 57, 58, 59])"
            ]
          },
          "metadata": {
            "tags": []
          },
          "execution_count": 102
        }
      ]
    },
    {
      "cell_type": "code",
      "metadata": {
        "id": "5zhKXnCe9ZZc",
        "colab_type": "code",
        "outputId": "f4954922-5dea-4180-f1f6-0fc9e196ca3e",
        "colab": {
          "base_uri": "https://localhost:8080/",
          "height": 73
        }
      },
      "source": [
        "mat[0:3,0:3]"
      ],
      "execution_count": 0,
      "outputs": [
        {
          "output_type": "execute_result",
          "data": {
            "text/plain": [
              "array([[ 0,  1,  2],\n",
              "       [10, 11, 12],\n",
              "       [20, 21, 22]])"
            ]
          },
          "metadata": {
            "tags": []
          },
          "execution_count": 106
        }
      ]
    },
    {
      "cell_type": "code",
      "metadata": {
        "id": "mZ94Ygv99qRu",
        "colab_type": "code",
        "outputId": "f8338927-e8d5-41a7-be86-9a4c8e754a16",
        "colab": {
          "base_uri": "https://localhost:8080/",
          "height": 392
        }
      },
      "source": [
        "#maskin?\n",
        "mat > 50"
      ],
      "execution_count": 0,
      "outputs": [
        {
          "output_type": "execute_result",
          "data": {
            "text/plain": [
              "array([[False, False, False, False, False, False, False, False, False,\n",
              "        False],\n",
              "       [False, False, False, False, False, False, False, False, False,\n",
              "        False],\n",
              "       [False, False, False, False, False, False, False, False, False,\n",
              "        False],\n",
              "       [False, False, False, False, False, False, False, False, False,\n",
              "        False],\n",
              "       [False, False, False, False, False, False, False, False, False,\n",
              "        False],\n",
              "       [False,  True,  True,  True,  True,  True,  True,  True,  True,\n",
              "         True],\n",
              "       [ True,  True,  True,  True,  True,  True,  True,  True,  True,\n",
              "         True],\n",
              "       [ True,  True,  True,  True,  True,  True,  True,  True,  True,\n",
              "         True],\n",
              "       [ True,  True,  True,  True,  True,  True,  True,  True,  True,\n",
              "         True],\n",
              "       [ True,  True,  True,  True,  True,  True,  True,  True,  True,\n",
              "         True]])"
            ]
          },
          "metadata": {
            "tags": []
          },
          "execution_count": 107
        }
      ]
    },
    {
      "cell_type": "code",
      "metadata": {
        "id": "vO_A-uPu9vRD",
        "colab_type": "code",
        "outputId": "05a94cd2-43a7-4c3a-de23-3a849b48f5d1",
        "colab": {
          "base_uri": "https://localhost:8080/",
          "height": 73
        }
      },
      "source": [
        "filtro = mat>50\n",
        "mat[filtro]"
      ],
      "execution_count": 0,
      "outputs": [
        {
          "output_type": "execute_result",
          "data": {
            "text/plain": [
              "array([51, 52, 53, 54, 55, 56, 57, 58, 59, 60, 61, 62, 63, 64, 65, 66, 67,\n",
              "       68, 69, 70, 71, 72, 73, 74, 75, 76, 77, 78, 79, 80, 81, 82, 83, 84,\n",
              "       85, 86, 87, 88, 89, 90, 91, 92, 93, 94, 95, 96, 97, 98, 99])"
            ]
          },
          "metadata": {
            "tags": []
          },
          "execution_count": 108
        }
      ]
    },
    {
      "cell_type": "code",
      "metadata": {
        "id": "G5xH7GGP94kh",
        "colab_type": "code",
        "outputId": "d6d9a25b-cac5-4698-8834-70259a3093ed",
        "colab": {
          "base_uri": "https://localhost:8080/",
          "height": 73
        }
      },
      "source": [
        "mat[mat>50]"
      ],
      "execution_count": 0,
      "outputs": [
        {
          "output_type": "execute_result",
          "data": {
            "text/plain": [
              "array([51, 52, 53, 54, 55, 56, 57, 58, 59, 60, 61, 62, 63, 64, 65, 66, 67,\n",
              "       68, 69, 70, 71, 72, 73, 74, 75, 76, 77, 78, 79, 80, 81, 82, 83, 84,\n",
              "       85, 86, 87, 88, 89, 90, 91, 92, 93, 94, 95, 96, 97, 98, 99])"
            ]
          },
          "metadata": {
            "tags": []
          },
          "execution_count": 109
        }
      ]
    },
    {
      "cell_type": "markdown",
      "metadata": {
        "id": "cC1AnGA3BFkb",
        "colab_type": "text"
      },
      "source": [
        "# Pandas\n",
        "\n",
        "Como leer csv"
      ]
    },
    {
      "cell_type": "code",
      "metadata": {
        "id": "Dm12oM43BHqA",
        "colab_type": "code",
        "colab": {}
      },
      "source": [
        "import pandas as pd"
      ],
      "execution_count": 0,
      "outputs": []
    },
    {
      "cell_type": "code",
      "metadata": {
        "id": "CcrXP146BUkT",
        "colab_type": "code",
        "outputId": "abb2bd63-42a0-4a88-9436-db178d3c6e43",
        "colab": {
          "base_uri": "https://localhost:8080/",
          "height": 36
        }
      },
      "source": [
        "! pwd"
      ],
      "execution_count": 0,
      "outputs": [
        {
          "output_type": "stream",
          "text": [
            "/content\n"
          ],
          "name": "stdout"
        }
      ]
    },
    {
      "cell_type": "code",
      "metadata": {
        "id": "a99TmIELBPhM",
        "colab_type": "code",
        "colab": {}
      },
      "source": [
        "pd.read_csv(\" \")"
      ],
      "execution_count": 0,
      "outputs": []
    },
    {
      "cell_type": "code",
      "metadata": {
        "id": "kQSAnNTICZdy",
        "colab_type": "code",
        "colab": {}
      },
      "source": [
        "!pip install --upgrade -q gspread"
      ],
      "execution_count": 0,
      "outputs": []
    },
    {
      "cell_type": "code",
      "metadata": {
        "id": "mGCIsQobCDkP",
        "colab_type": "code",
        "colab": {}
      },
      "source": [
        "from google.colab import auth\n",
        "auth.authenticate_user()\n",
        "\n",
        "import gspread\n",
        "from oauth2client.client import GoogleCredentials\n",
        "\n",
        "gc = gspread.authorize(GoogleCredentials.get_application_default())\n",
        "\n",
        "worksheet = gc.open('Ejemplo_entradas_para_RNIN').sheet1\n",
        "\n",
        "# get_all_values gives a list of rows.\n",
        "rows = worksheet.get_all_values()\n",
        "####################################################\n",
        "#print(rows) para imprimir los datos###############\n",
        "\n",
        "# Convert to a DataFrame and render.\n",
        "import pandas as pd\n",
        "###################################################\n",
        "#pd.DataFrame.from_records(rows) para imprimir los datos en forma de tabla"
      ],
      "execution_count": 0,
      "outputs": []
    },
    {
      "cell_type": "code",
      "metadata": {
        "id": "8vSOOa8VDajK",
        "colab_type": "code",
        "outputId": "77342d77-e440-4834-918f-920c7680af9b",
        "colab": {
          "base_uri": "https://localhost:8080/",
          "height": 317
        }
      },
      "source": [
        "rows"
      ],
      "execution_count": 0,
      "outputs": [
        {
          "output_type": "execute_result",
          "data": {
            "text/plain": [
              "[['ID',\n",
              "  'ALTURA_MEDIA',\n",
              "  'DAP_MEDIO',\n",
              "  'ALT_MEDIA_PODA',\n",
              "  'DENSIDAD_PODADOS',\n",
              "  'DENSIDAD',\n",
              "  'PLI'],\n",
              " ['R1', '27,8', '31,6', '6,1', '360', '360', '1'],\n",
              " ['R2', '25,2', '28,2', '0', '0', '639', '0'],\n",
              " ['R3', '25,9', '24,9', '2,7', '1022', '1083', '0'],\n",
              " ['R4', '27,6', '27,9', '0', '0', '667', '0'],\n",
              " ['R5', '24,7', '24,6', '2,3', '975', '1075', '0'],\n",
              " ['R6', '24,5', '26,6', '0', '0', '693', '0'],\n",
              " ['R7', '23,2', '25,5', '0', '0', '684', '0'],\n",
              " ['R8', '31,8', '35,6', '5,6', '700', '700', '1'],\n",
              " ['R9', '32,2', '34,3', '5,5', '435', '442', '1']]"
            ]
          },
          "metadata": {
            "tags": []
          },
          "execution_count": 115
        }
      ]
    },
    {
      "cell_type": "code",
      "metadata": {
        "id": "nf9m1PvCBObN",
        "colab_type": "code",
        "outputId": "59a2cd2e-ffe0-429a-fb6e-809ecd037081",
        "colab": {
          "base_uri": "https://localhost:8080/",
          "height": 363
        }
      },
      "source": [
        "pd.DataFrame.from_records(rows)"
      ],
      "execution_count": 0,
      "outputs": [
        {
          "output_type": "execute_result",
          "data": {
            "text/html": [
              "<div>\n",
              "<style scoped>\n",
              "    .dataframe tbody tr th:only-of-type {\n",
              "        vertical-align: middle;\n",
              "    }\n",
              "\n",
              "    .dataframe tbody tr th {\n",
              "        vertical-align: top;\n",
              "    }\n",
              "\n",
              "    .dataframe thead th {\n",
              "        text-align: right;\n",
              "    }\n",
              "</style>\n",
              "<table border=\"1\" class=\"dataframe\">\n",
              "  <thead>\n",
              "    <tr style=\"text-align: right;\">\n",
              "      <th></th>\n",
              "      <th>0</th>\n",
              "      <th>1</th>\n",
              "      <th>2</th>\n",
              "      <th>3</th>\n",
              "      <th>4</th>\n",
              "      <th>5</th>\n",
              "      <th>6</th>\n",
              "    </tr>\n",
              "  </thead>\n",
              "  <tbody>\n",
              "    <tr>\n",
              "      <th>0</th>\n",
              "      <td>ID</td>\n",
              "      <td>ALTURA_MEDIA</td>\n",
              "      <td>DAP_MEDIO</td>\n",
              "      <td>ALT_MEDIA_PODA</td>\n",
              "      <td>DENSIDAD_PODADOS</td>\n",
              "      <td>DENSIDAD</td>\n",
              "      <td>PLI</td>\n",
              "    </tr>\n",
              "    <tr>\n",
              "      <th>1</th>\n",
              "      <td>R1</td>\n",
              "      <td>27,8</td>\n",
              "      <td>31,6</td>\n",
              "      <td>6,1</td>\n",
              "      <td>360</td>\n",
              "      <td>360</td>\n",
              "      <td>1</td>\n",
              "    </tr>\n",
              "    <tr>\n",
              "      <th>2</th>\n",
              "      <td>R2</td>\n",
              "      <td>25,2</td>\n",
              "      <td>28,2</td>\n",
              "      <td>0</td>\n",
              "      <td>0</td>\n",
              "      <td>639</td>\n",
              "      <td>0</td>\n",
              "    </tr>\n",
              "    <tr>\n",
              "      <th>3</th>\n",
              "      <td>R3</td>\n",
              "      <td>25,9</td>\n",
              "      <td>24,9</td>\n",
              "      <td>2,7</td>\n",
              "      <td>1022</td>\n",
              "      <td>1083</td>\n",
              "      <td>0</td>\n",
              "    </tr>\n",
              "    <tr>\n",
              "      <th>4</th>\n",
              "      <td>R4</td>\n",
              "      <td>27,6</td>\n",
              "      <td>27,9</td>\n",
              "      <td>0</td>\n",
              "      <td>0</td>\n",
              "      <td>667</td>\n",
              "      <td>0</td>\n",
              "    </tr>\n",
              "    <tr>\n",
              "      <th>5</th>\n",
              "      <td>R5</td>\n",
              "      <td>24,7</td>\n",
              "      <td>24,6</td>\n",
              "      <td>2,3</td>\n",
              "      <td>975</td>\n",
              "      <td>1075</td>\n",
              "      <td>0</td>\n",
              "    </tr>\n",
              "    <tr>\n",
              "      <th>6</th>\n",
              "      <td>R6</td>\n",
              "      <td>24,5</td>\n",
              "      <td>26,6</td>\n",
              "      <td>0</td>\n",
              "      <td>0</td>\n",
              "      <td>693</td>\n",
              "      <td>0</td>\n",
              "    </tr>\n",
              "    <tr>\n",
              "      <th>7</th>\n",
              "      <td>R7</td>\n",
              "      <td>23,2</td>\n",
              "      <td>25,5</td>\n",
              "      <td>0</td>\n",
              "      <td>0</td>\n",
              "      <td>684</td>\n",
              "      <td>0</td>\n",
              "    </tr>\n",
              "    <tr>\n",
              "      <th>8</th>\n",
              "      <td>R8</td>\n",
              "      <td>31,8</td>\n",
              "      <td>35,6</td>\n",
              "      <td>5,6</td>\n",
              "      <td>700</td>\n",
              "      <td>700</td>\n",
              "      <td>1</td>\n",
              "    </tr>\n",
              "    <tr>\n",
              "      <th>9</th>\n",
              "      <td>R9</td>\n",
              "      <td>32,2</td>\n",
              "      <td>34,3</td>\n",
              "      <td>5,5</td>\n",
              "      <td>435</td>\n",
              "      <td>442</td>\n",
              "      <td>1</td>\n",
              "    </tr>\n",
              "  </tbody>\n",
              "</table>\n",
              "</div>"
            ],
            "text/plain": [
              "    0             1          2               3                 4         5    6\n",
              "0  ID  ALTURA_MEDIA  DAP_MEDIO  ALT_MEDIA_PODA  DENSIDAD_PODADOS  DENSIDAD  PLI\n",
              "1  R1          27,8       31,6             6,1               360       360    1\n",
              "2  R2          25,2       28,2               0                 0       639    0\n",
              "3  R3          25,9       24,9             2,7              1022      1083    0\n",
              "4  R4          27,6       27,9               0                 0       667    0\n",
              "5  R5          24,7       24,6             2,3               975      1075    0\n",
              "6  R6          24,5       26,6               0                 0       693    0\n",
              "7  R7          23,2       25,5               0                 0       684    0\n",
              "8  R8          31,8       35,6             5,6               700       700    1\n",
              "9  R9          32,2       34,3             5,5               435       442    1"
            ]
          },
          "metadata": {
            "tags": []
          },
          "execution_count": 116
        }
      ]
    },
    {
      "cell_type": "code",
      "metadata": {
        "id": "BzirBUp6GILD",
        "colab_type": "code",
        "outputId": "a39548c8-cc89-4fa4-cb36-afdfae0d6f59",
        "colab": {
          "base_uri": "https://localhost:8080/",
          "height": 36
        }
      },
      "source": [
        "type(rows)"
      ],
      "execution_count": 0,
      "outputs": [
        {
          "output_type": "execute_result",
          "data": {
            "text/plain": [
              "list"
            ]
          },
          "metadata": {
            "tags": []
          },
          "execution_count": 117
        }
      ]
    },
    {
      "cell_type": "markdown",
      "metadata": {
        "id": "UB5y_K8MGZa9",
        "colab_type": "text"
      },
      "source": [
        "Cómo pasar una lista a dataframa?   \n",
        "https://thispointer.com/python-pandas-how-to-convert-lists-to-a-dataframe/\n",
        "\n",
        "\n"
      ]
    },
    {
      "cell_type": "code",
      "metadata": {
        "id": "iHY-RfkSHeKv",
        "colab_type": "code",
        "outputId": "7c7b033c-3b86-40a4-91f2-de5424ea8592",
        "colab": {
          "base_uri": "https://localhost:8080/",
          "height": 148
        }
      },
      "source": [
        "rows[0]\n",
        "#rows[1:len(rows)+1]"
      ],
      "execution_count": 0,
      "outputs": [
        {
          "output_type": "execute_result",
          "data": {
            "text/plain": [
              "['ID',\n",
              " 'ALTURA_MEDIA',\n",
              " 'DAP_MEDIO',\n",
              " 'ALT_MEDIA_PODA',\n",
              " 'DENSIDAD_PODADOS',\n",
              " 'DENSIDAD',\n",
              " 'PLI']"
            ]
          },
          "metadata": {
            "tags": []
          },
          "execution_count": 136
        }
      ]
    },
    {
      "cell_type": "code",
      "metadata": {
        "id": "2yzhInCHGgqc",
        "colab_type": "code",
        "outputId": "01545297-785b-4e28-99d1-e16b9ec6ae7f",
        "colab": {
          "base_uri": "https://localhost:8080/",
          "height": 332
        }
      },
      "source": [
        "  df = pd.DataFrame(rows) # este queda la caga, en la siguienta linea lo arregle pero debe ser de otra manera creo\n",
        "  df = pd.DataFrame(rows[1:len(rows)+1], columns = rows[0])\n",
        "  df"
      ],
      "execution_count": 0,
      "outputs": [
        {
          "output_type": "execute_result",
          "data": {
            "text/html": [
              "<div>\n",
              "<style scoped>\n",
              "    .dataframe tbody tr th:only-of-type {\n",
              "        vertical-align: middle;\n",
              "    }\n",
              "\n",
              "    .dataframe tbody tr th {\n",
              "        vertical-align: top;\n",
              "    }\n",
              "\n",
              "    .dataframe thead th {\n",
              "        text-align: right;\n",
              "    }\n",
              "</style>\n",
              "<table border=\"1\" class=\"dataframe\">\n",
              "  <thead>\n",
              "    <tr style=\"text-align: right;\">\n",
              "      <th></th>\n",
              "      <th>ID</th>\n",
              "      <th>ALTURA_MEDIA</th>\n",
              "      <th>DAP_MEDIO</th>\n",
              "      <th>ALT_MEDIA_PODA</th>\n",
              "      <th>DENSIDAD_PODADOS</th>\n",
              "      <th>DENSIDAD</th>\n",
              "      <th>PLI</th>\n",
              "    </tr>\n",
              "  </thead>\n",
              "  <tbody>\n",
              "    <tr>\n",
              "      <th>0</th>\n",
              "      <td>R1</td>\n",
              "      <td>27,8</td>\n",
              "      <td>31,6</td>\n",
              "      <td>6,1</td>\n",
              "      <td>360</td>\n",
              "      <td>360</td>\n",
              "      <td>1</td>\n",
              "    </tr>\n",
              "    <tr>\n",
              "      <th>1</th>\n",
              "      <td>R2</td>\n",
              "      <td>25,2</td>\n",
              "      <td>28,2</td>\n",
              "      <td>0</td>\n",
              "      <td>0</td>\n",
              "      <td>639</td>\n",
              "      <td>0</td>\n",
              "    </tr>\n",
              "    <tr>\n",
              "      <th>2</th>\n",
              "      <td>R3</td>\n",
              "      <td>25,9</td>\n",
              "      <td>24,9</td>\n",
              "      <td>2,7</td>\n",
              "      <td>1022</td>\n",
              "      <td>1083</td>\n",
              "      <td>0</td>\n",
              "    </tr>\n",
              "    <tr>\n",
              "      <th>3</th>\n",
              "      <td>R4</td>\n",
              "      <td>27,6</td>\n",
              "      <td>27,9</td>\n",
              "      <td>0</td>\n",
              "      <td>0</td>\n",
              "      <td>667</td>\n",
              "      <td>0</td>\n",
              "    </tr>\n",
              "    <tr>\n",
              "      <th>4</th>\n",
              "      <td>R5</td>\n",
              "      <td>24,7</td>\n",
              "      <td>24,6</td>\n",
              "      <td>2,3</td>\n",
              "      <td>975</td>\n",
              "      <td>1075</td>\n",
              "      <td>0</td>\n",
              "    </tr>\n",
              "    <tr>\n",
              "      <th>5</th>\n",
              "      <td>R6</td>\n",
              "      <td>24,5</td>\n",
              "      <td>26,6</td>\n",
              "      <td>0</td>\n",
              "      <td>0</td>\n",
              "      <td>693</td>\n",
              "      <td>0</td>\n",
              "    </tr>\n",
              "    <tr>\n",
              "      <th>6</th>\n",
              "      <td>R7</td>\n",
              "      <td>23,2</td>\n",
              "      <td>25,5</td>\n",
              "      <td>0</td>\n",
              "      <td>0</td>\n",
              "      <td>684</td>\n",
              "      <td>0</td>\n",
              "    </tr>\n",
              "    <tr>\n",
              "      <th>7</th>\n",
              "      <td>R8</td>\n",
              "      <td>31,8</td>\n",
              "      <td>35,6</td>\n",
              "      <td>5,6</td>\n",
              "      <td>700</td>\n",
              "      <td>700</td>\n",
              "      <td>1</td>\n",
              "    </tr>\n",
              "    <tr>\n",
              "      <th>8</th>\n",
              "      <td>R9</td>\n",
              "      <td>32,2</td>\n",
              "      <td>34,3</td>\n",
              "      <td>5,5</td>\n",
              "      <td>435</td>\n",
              "      <td>442</td>\n",
              "      <td>1</td>\n",
              "    </tr>\n",
              "  </tbody>\n",
              "</table>\n",
              "</div>"
            ],
            "text/plain": [
              "   ID ALTURA_MEDIA DAP_MEDIO ALT_MEDIA_PODA DENSIDAD_PODADOS DENSIDAD PLI\n",
              "0  R1         27,8      31,6            6,1              360      360   1\n",
              "1  R2         25,2      28,2              0                0      639   0\n",
              "2  R3         25,9      24,9            2,7             1022     1083   0\n",
              "3  R4         27,6      27,9              0                0      667   0\n",
              "4  R5         24,7      24,6            2,3              975     1075   0\n",
              "5  R6         24,5      26,6              0                0      693   0\n",
              "6  R7         23,2      25,5              0                0      684   0\n",
              "7  R8         31,8      35,6            5,6              700      700   1\n",
              "8  R9         32,2      34,3            5,5              435      442   1"
            ]
          },
          "metadata": {
            "tags": []
          },
          "execution_count": 139
        }
      ]
    },
    {
      "cell_type": "code",
      "metadata": {
        "id": "EkCj6SAMJIBa",
        "colab_type": "code",
        "outputId": "d619b5c8-460e-4b7b-ce9a-a20b83c001e8",
        "colab": {
          "base_uri": "https://localhost:8080/",
          "height": 204
        }
      },
      "source": [
        "df[\"DAP_MEDIO\"]"
      ],
      "execution_count": 0,
      "outputs": [
        {
          "output_type": "execute_result",
          "data": {
            "text/plain": [
              "0    31,6\n",
              "1    28,2\n",
              "2    24,9\n",
              "3    27,9\n",
              "4    24,6\n",
              "5    26,6\n",
              "6    25,5\n",
              "7    35,6\n",
              "8    34,3\n",
              "Name: DAP_MEDIO, dtype: object"
            ]
          },
          "metadata": {
            "tags": []
          },
          "execution_count": 140
        }
      ]
    },
    {
      "cell_type": "code",
      "metadata": {
        "id": "ZQVu6VZKKfXm",
        "colab_type": "code",
        "outputId": "3fdc9373-1568-487c-a11b-2d83bd424b8d",
        "colab": {
          "base_uri": "https://localhost:8080/",
          "height": 332
        }
      },
      "source": [
        "df[[\"DAP_MEDIO\"]]"
      ],
      "execution_count": 0,
      "outputs": [
        {
          "output_type": "execute_result",
          "data": {
            "text/html": [
              "<div>\n",
              "<style scoped>\n",
              "    .dataframe tbody tr th:only-of-type {\n",
              "        vertical-align: middle;\n",
              "    }\n",
              "\n",
              "    .dataframe tbody tr th {\n",
              "        vertical-align: top;\n",
              "    }\n",
              "\n",
              "    .dataframe thead th {\n",
              "        text-align: right;\n",
              "    }\n",
              "</style>\n",
              "<table border=\"1\" class=\"dataframe\">\n",
              "  <thead>\n",
              "    <tr style=\"text-align: right;\">\n",
              "      <th></th>\n",
              "      <th>DAP_MEDIO</th>\n",
              "    </tr>\n",
              "  </thead>\n",
              "  <tbody>\n",
              "    <tr>\n",
              "      <th>0</th>\n",
              "      <td>31,6</td>\n",
              "    </tr>\n",
              "    <tr>\n",
              "      <th>1</th>\n",
              "      <td>28,2</td>\n",
              "    </tr>\n",
              "    <tr>\n",
              "      <th>2</th>\n",
              "      <td>24,9</td>\n",
              "    </tr>\n",
              "    <tr>\n",
              "      <th>3</th>\n",
              "      <td>27,9</td>\n",
              "    </tr>\n",
              "    <tr>\n",
              "      <th>4</th>\n",
              "      <td>24,6</td>\n",
              "    </tr>\n",
              "    <tr>\n",
              "      <th>5</th>\n",
              "      <td>26,6</td>\n",
              "    </tr>\n",
              "    <tr>\n",
              "      <th>6</th>\n",
              "      <td>25,5</td>\n",
              "    </tr>\n",
              "    <tr>\n",
              "      <th>7</th>\n",
              "      <td>35,6</td>\n",
              "    </tr>\n",
              "    <tr>\n",
              "      <th>8</th>\n",
              "      <td>34,3</td>\n",
              "    </tr>\n",
              "  </tbody>\n",
              "</table>\n",
              "</div>"
            ],
            "text/plain": [
              "  DAP_MEDIO\n",
              "0      31,6\n",
              "1      28,2\n",
              "2      24,9\n",
              "3      27,9\n",
              "4      24,6\n",
              "5      26,6\n",
              "6      25,5\n",
              "7      35,6\n",
              "8      34,3"
            ]
          },
          "metadata": {
            "tags": []
          },
          "execution_count": 141
        }
      ]
    },
    {
      "cell_type": "code",
      "metadata": {
        "id": "ORC5OZsKKkJG",
        "colab_type": "code",
        "outputId": "b601b7b9-9a20-479a-e44d-62487617865b",
        "colab": {
          "base_uri": "https://localhost:8080/",
          "height": 332
        }
      },
      "source": [
        "df[[\"DAP_MEDIO\",\"ALTURA_MEDIA\"]]"
      ],
      "execution_count": 0,
      "outputs": [
        {
          "output_type": "execute_result",
          "data": {
            "text/html": [
              "<div>\n",
              "<style scoped>\n",
              "    .dataframe tbody tr th:only-of-type {\n",
              "        vertical-align: middle;\n",
              "    }\n",
              "\n",
              "    .dataframe tbody tr th {\n",
              "        vertical-align: top;\n",
              "    }\n",
              "\n",
              "    .dataframe thead th {\n",
              "        text-align: right;\n",
              "    }\n",
              "</style>\n",
              "<table border=\"1\" class=\"dataframe\">\n",
              "  <thead>\n",
              "    <tr style=\"text-align: right;\">\n",
              "      <th></th>\n",
              "      <th>DAP_MEDIO</th>\n",
              "      <th>ALTURA_MEDIA</th>\n",
              "    </tr>\n",
              "  </thead>\n",
              "  <tbody>\n",
              "    <tr>\n",
              "      <th>0</th>\n",
              "      <td>31,6</td>\n",
              "      <td>27,8</td>\n",
              "    </tr>\n",
              "    <tr>\n",
              "      <th>1</th>\n",
              "      <td>28,2</td>\n",
              "      <td>25,2</td>\n",
              "    </tr>\n",
              "    <tr>\n",
              "      <th>2</th>\n",
              "      <td>24,9</td>\n",
              "      <td>25,9</td>\n",
              "    </tr>\n",
              "    <tr>\n",
              "      <th>3</th>\n",
              "      <td>27,9</td>\n",
              "      <td>27,6</td>\n",
              "    </tr>\n",
              "    <tr>\n",
              "      <th>4</th>\n",
              "      <td>24,6</td>\n",
              "      <td>24,7</td>\n",
              "    </tr>\n",
              "    <tr>\n",
              "      <th>5</th>\n",
              "      <td>26,6</td>\n",
              "      <td>24,5</td>\n",
              "    </tr>\n",
              "    <tr>\n",
              "      <th>6</th>\n",
              "      <td>25,5</td>\n",
              "      <td>23,2</td>\n",
              "    </tr>\n",
              "    <tr>\n",
              "      <th>7</th>\n",
              "      <td>35,6</td>\n",
              "      <td>31,8</td>\n",
              "    </tr>\n",
              "    <tr>\n",
              "      <th>8</th>\n",
              "      <td>34,3</td>\n",
              "      <td>32,2</td>\n",
              "    </tr>\n",
              "  </tbody>\n",
              "</table>\n",
              "</div>"
            ],
            "text/plain": [
              "  DAP_MEDIO ALTURA_MEDIA\n",
              "0      31,6         27,8\n",
              "1      28,2         25,2\n",
              "2      24,9         25,9\n",
              "3      27,9         27,6\n",
              "4      24,6         24,7\n",
              "5      26,6         24,5\n",
              "6      25,5         23,2\n",
              "7      35,6         31,8\n",
              "8      34,3         32,2"
            ]
          },
          "metadata": {
            "tags": []
          },
          "execution_count": 142
        }
      ]
    },
    {
      "cell_type": "code",
      "metadata": {
        "id": "8W-9GTqKKuA5",
        "colab_type": "code",
        "outputId": "d99db53a-7428-427a-d22b-a6656e417ee5",
        "colab": {
          "base_uri": "https://localhost:8080/",
          "height": 54
        }
      },
      "source": [
        "df[[\"ALTURA_MEDIA\"]].max()"
      ],
      "execution_count": 0,
      "outputs": [
        {
          "output_type": "execute_result",
          "data": {
            "text/plain": [
              "ALTURA_MEDIA    32,2\n",
              "dtype: object"
            ]
          },
          "metadata": {
            "tags": []
          },
          "execution_count": 149
        }
      ]
    },
    {
      "cell_type": "code",
      "metadata": {
        "id": "ZHdFOHbgK_VQ",
        "colab_type": "code",
        "outputId": "34f458e1-af07-497d-e6f9-99ff18499618",
        "colab": {
          "base_uri": "https://localhost:8080/",
          "height": 175
        }
      },
      "source": [
        "df.describe()"
      ],
      "execution_count": 0,
      "outputs": [
        {
          "output_type": "execute_result",
          "data": {
            "text/html": [
              "<div>\n",
              "<style scoped>\n",
              "    .dataframe tbody tr th:only-of-type {\n",
              "        vertical-align: middle;\n",
              "    }\n",
              "\n",
              "    .dataframe tbody tr th {\n",
              "        vertical-align: top;\n",
              "    }\n",
              "\n",
              "    .dataframe thead th {\n",
              "        text-align: right;\n",
              "    }\n",
              "</style>\n",
              "<table border=\"1\" class=\"dataframe\">\n",
              "  <thead>\n",
              "    <tr style=\"text-align: right;\">\n",
              "      <th></th>\n",
              "      <th>ID</th>\n",
              "      <th>ALTURA_MEDIA</th>\n",
              "      <th>DAP_MEDIO</th>\n",
              "      <th>ALT_MEDIA_PODA</th>\n",
              "      <th>DENSIDAD_PODADOS</th>\n",
              "      <th>DENSIDAD</th>\n",
              "      <th>PLI</th>\n",
              "    </tr>\n",
              "  </thead>\n",
              "  <tbody>\n",
              "    <tr>\n",
              "      <th>count</th>\n",
              "      <td>9</td>\n",
              "      <td>9</td>\n",
              "      <td>9</td>\n",
              "      <td>9</td>\n",
              "      <td>9</td>\n",
              "      <td>9</td>\n",
              "      <td>9</td>\n",
              "    </tr>\n",
              "    <tr>\n",
              "      <th>unique</th>\n",
              "      <td>9</td>\n",
              "      <td>9</td>\n",
              "      <td>9</td>\n",
              "      <td>6</td>\n",
              "      <td>6</td>\n",
              "      <td>9</td>\n",
              "      <td>2</td>\n",
              "    </tr>\n",
              "    <tr>\n",
              "      <th>top</th>\n",
              "      <td>R7</td>\n",
              "      <td>27,8</td>\n",
              "      <td>26,6</td>\n",
              "      <td>0</td>\n",
              "      <td>0</td>\n",
              "      <td>1075</td>\n",
              "      <td>0</td>\n",
              "    </tr>\n",
              "    <tr>\n",
              "      <th>freq</th>\n",
              "      <td>1</td>\n",
              "      <td>1</td>\n",
              "      <td>1</td>\n",
              "      <td>4</td>\n",
              "      <td>4</td>\n",
              "      <td>1</td>\n",
              "      <td>6</td>\n",
              "    </tr>\n",
              "  </tbody>\n",
              "</table>\n",
              "</div>"
            ],
            "text/plain": [
              "        ID ALTURA_MEDIA DAP_MEDIO ALT_MEDIA_PODA DENSIDAD_PODADOS DENSIDAD PLI\n",
              "count    9            9         9              9                9        9   9\n",
              "unique   9            9         9              6                6        9   2\n",
              "top     R7         27,8      26,6              0                0     1075   0\n",
              "freq     1            1         1              4                4        1   6"
            ]
          },
          "metadata": {
            "tags": []
          },
          "execution_count": 148
        }
      ]
    },
    {
      "cell_type": "code",
      "metadata": {
        "id": "cTNpHcGFLYD4",
        "colab_type": "code",
        "outputId": "b3c7bea8-15d1-4189-e0e9-3b4f25ed5824",
        "colab": {
          "base_uri": "https://localhost:8080/",
          "height": 243
        }
      },
      "source": [
        "df.as_matrix()"
      ],
      "execution_count": 0,
      "outputs": [
        {
          "output_type": "stream",
          "text": [
            "/usr/local/lib/python3.6/dist-packages/ipykernel_launcher.py:1: FutureWarning: Method .as_matrix will be removed in a future version. Use .values instead.\n",
            "  \"\"\"Entry point for launching an IPython kernel.\n"
          ],
          "name": "stderr"
        },
        {
          "output_type": "execute_result",
          "data": {
            "text/plain": [
              "array([['R1', '27,8', '31,6', '6,1', '360', '360', '1'],\n",
              "       ['R2', '25,2', '28,2', '0', '0', '639', '0'],\n",
              "       ['R3', '25,9', '24,9', '2,7', '1022', '1083', '0'],\n",
              "       ['R4', '27,6', '27,9', '0', '0', '667', '0'],\n",
              "       ['R5', '24,7', '24,6', '2,3', '975', '1075', '0'],\n",
              "       ['R6', '24,5', '26,6', '0', '0', '693', '0'],\n",
              "       ['R7', '23,2', '25,5', '0', '0', '684', '0'],\n",
              "       ['R8', '31,8', '35,6', '5,6', '700', '700', '1'],\n",
              "       ['R9', '32,2', '34,3', '5,5', '435', '442', '1']], dtype=object)"
            ]
          },
          "metadata": {
            "tags": []
          },
          "execution_count": 152
        }
      ]
    },
    {
      "cell_type": "code",
      "metadata": {
        "id": "16Is3VoULeNe",
        "colab_type": "code",
        "outputId": "dcbef0e0-0903-4ddb-fafe-12b48fe25940",
        "colab": {
          "base_uri": "https://localhost:8080/",
          "height": 204
        }
      },
      "source": [
        "df.as_matrix"
      ],
      "execution_count": 0,
      "outputs": [
        {
          "output_type": "execute_result",
          "data": {
            "text/plain": [
              "<bound method NDFrame.as_matrix of    ID ALTURA_MEDIA DAP_MEDIO ALT_MEDIA_PODA DENSIDAD_PODADOS DENSIDAD PLI\n",
              "0  R1         27,8      31,6            6,1              360      360   1\n",
              "1  R2         25,2      28,2              0                0      639   0\n",
              "2  R3         25,9      24,9            2,7             1022     1083   0\n",
              "3  R4         27,6      27,9              0                0      667   0\n",
              "4  R5         24,7      24,6            2,3              975     1075   0\n",
              "5  R6         24,5      26,6              0                0      693   0\n",
              "6  R7         23,2      25,5              0                0      684   0\n",
              "7  R8         31,8      35,6            5,6              700      700   1\n",
              "8  R9         32,2      34,3            5,5              435      442   1>"
            ]
          },
          "metadata": {
            "tags": []
          },
          "execution_count": 153
        }
      ]
    },
    {
      "cell_type": "markdown",
      "metadata": {
        "id": "TVlIVZAMRv0e",
        "colab_type": "text"
      },
      "source": [
        " # Pandas desde Colab\n",
        " fuente: [google colab ML course](https://colab.research.google.com/notebooks/mlcc/intro_to_pandas.ipynb?utm_source=mlcc&utm_campaign=colab-external&utm_medium=referral&utm_content=pandas-colab&hl=en)"
      ]
    },
    {
      "cell_type": "markdown",
      "metadata": {
        "id": "qF2VXwXXSIiL",
        "colab_type": "text"
      },
      "source": [
        "## Intro a pandas"
      ]
    },
    {
      "cell_type": "markdown",
      "metadata": {
        "id": "QFb7EohHSNnG",
        "colab_type": "text"
      },
      "source": [
        "**Learning Objectives:**\n",
        "  * Intro a `DataFrame` y `Series` estructuras de datos con la librería *pandas*.  \n",
        "  * Acceder y manipular datos en `DataFrame` y `Series`\n",
        "  * Importar CSV  con  *pandas*  en  `DataFrame`\n",
        "  * Reindex a `DataFrame` para reordenar datos"
      ]
    },
    {
      "cell_type": "markdown",
      "metadata": {
        "id": "D1cH3Qu8S5J7",
        "colab_type": "text"
      },
      "source": [
        "[*pandas*](http://pandas.pydata.org/) is a column-oriented data analysis API. It's a great tool for handling and analyzing input data, and many ML frameworks support *pandas* data structures as inputs.\n",
        "Although a comprehensive introduction to the *pandas* API would span many pages, the core concepts are fairly straightforward, and we'll present them below. For a more complete reference, the [*pandas* docs site](http://pandas.pydata.org/pandas-docs/stable/index.html) contains extensive documentation and many tutorials.  \n",
        "\n",
        "### Basic Concepts\n",
        "\n",
        "The following line imports the pandas API and prints the API version:\n"
      ]
    },
    {
      "cell_type": "code",
      "metadata": {
        "id": "jB9FENKMS4Mn",
        "colab_type": "code",
        "outputId": "be673b06-fe1d-4e38-deee-96cc6e8e80fe",
        "colab": {
          "base_uri": "https://localhost:8080/",
          "height": 36
        }
      },
      "source": [
        "from __future__ import print_function\n",
        "\n",
        "import pandas as pd\n",
        "pd.__version__"
      ],
      "execution_count": 0,
      "outputs": [
        {
          "output_type": "execute_result",
          "data": {
            "text/plain": [
              "'0.24.2'"
            ]
          },
          "metadata": {
            "tags": []
          },
          "execution_count": 1
        }
      ]
    },
    {
      "cell_type": "markdown",
      "metadata": {
        "id": "EeSG0i0YUK00",
        "colab_type": "text"
      },
      "source": [
        "The primary data structures in *pandas* are implemented as two classes:\n",
        "\n",
        "  * **`DataFrame`**, which you can imagine as a relational data table, with rows and named columns.\n",
        "  * **`Series`**, which is a single column. A `DataFrame` contains one or more `Series` and a name for each `Series`.\n",
        "\n",
        "The data frame is a commonly used abstraction for data manipulation. Similar implementations exist in [Spark](https://spark.apache.org/) and [R](https://www.r-project.org/about.html)."
      ]
    },
    {
      "cell_type": "markdown",
      "metadata": {
        "id": "Zm84sKVLcPmm",
        "colab_type": "text"
      },
      "source": [
        "One way to create a `Series` is to construct a `Series` object. For example:"
      ]
    },
    {
      "cell_type": "code",
      "metadata": {
        "id": "JbLcgtgFcTMQ",
        "colab_type": "code",
        "outputId": "e87af422-fa2d-4812-8284-7d4a9fccf1cb",
        "colab": {
          "base_uri": "https://localhost:8080/",
          "height": 92
        }
      },
      "source": [
        "pd.Series(['Coquimbo', 'La Serena', 'Ovalle'])"
      ],
      "execution_count": 0,
      "outputs": [
        {
          "output_type": "execute_result",
          "data": {
            "text/plain": [
              "0     Coquimbo\n",
              "1    La Serena\n",
              "2       Ovalle\n",
              "dtype: object"
            ]
          },
          "metadata": {
            "tags": []
          },
          "execution_count": 3
        }
      ]
    },
    {
      "cell_type": "markdown",
      "metadata": {
        "id": "emLqvuNcciYf",
        "colab_type": "text"
      },
      "source": [
        "\n",
        "Un `DataFrame` puede ser creado pasando un `dict` que contiene `string`  para los nombres de la `Series`. Si el tamaño de `Series` no es igual, será llenado con valores [NA/NaN](http://pandas.pydata.org/pandas-docs/stable/missing_data.html). Por ejemplo:"
      ]
    },
    {
      "cell_type": "code",
      "metadata": {
        "id": "dPbyitYDdNQ2",
        "colab_type": "code",
        "outputId": "56a4dc2a-499a-46bc-9f8f-f53a4bad8436",
        "colab": {
          "base_uri": "https://localhost:8080/",
          "height": 143
        }
      },
      "source": [
        "nombre_ciudad = pd.Series(['Coquimbo', 'La Serena', 'Ovalle'])\n",
        "poblacion = pd.Series([216000, 205000, 75000])\n",
        "\n",
        "pd.DataFrame({ 'Nombre de ciudad': nombre_ciudad, 'Poblacion': poblacion })"
      ],
      "execution_count": 0,
      "outputs": [
        {
          "output_type": "execute_result",
          "data": {
            "text/html": [
              "<div>\n",
              "<style scoped>\n",
              "    .dataframe tbody tr th:only-of-type {\n",
              "        vertical-align: middle;\n",
              "    }\n",
              "\n",
              "    .dataframe tbody tr th {\n",
              "        vertical-align: top;\n",
              "    }\n",
              "\n",
              "    .dataframe thead th {\n",
              "        text-align: right;\n",
              "    }\n",
              "</style>\n",
              "<table border=\"1\" class=\"dataframe\">\n",
              "  <thead>\n",
              "    <tr style=\"text-align: right;\">\n",
              "      <th></th>\n",
              "      <th>Nombre de ciudad</th>\n",
              "      <th>Poblacion</th>\n",
              "    </tr>\n",
              "  </thead>\n",
              "  <tbody>\n",
              "    <tr>\n",
              "      <th>0</th>\n",
              "      <td>Coquimbo</td>\n",
              "      <td>216000</td>\n",
              "    </tr>\n",
              "    <tr>\n",
              "      <th>1</th>\n",
              "      <td>La Serena</td>\n",
              "      <td>205000</td>\n",
              "    </tr>\n",
              "    <tr>\n",
              "      <th>2</th>\n",
              "      <td>Ovalle</td>\n",
              "      <td>75000</td>\n",
              "    </tr>\n",
              "  </tbody>\n",
              "</table>\n",
              "</div>"
            ],
            "text/plain": [
              "  Nombre de ciudad  Poblacion\n",
              "0         Coquimbo     216000\n",
              "1        La Serena     205000\n",
              "2           Ovalle      75000"
            ]
          },
          "metadata": {
            "tags": []
          },
          "execution_count": 14
        }
      ]
    },
    {
      "cell_type": "markdown",
      "metadata": {
        "id": "HGaxfnCNep4m",
        "colab_type": "text"
      },
      "source": [
        "También se puede cargar un archivo entero como `DataFrame`. El siguiente ejemplo carga los datos de viviendas en California. \n",
        "\n"
      ]
    },
    {
      "cell_type": "code",
      "metadata": {
        "id": "zLwSav-ocPJX",
        "colab_type": "code",
        "outputId": "ca12d098-000f-4d15-d944-a5cf898d470d",
        "colab": {
          "base_uri": "https://localhost:8080/",
          "height": 320
        }
      },
      "source": [
        "california_housing_dataframe = pd.read_csv(\"https://download.mlcc.google.com/mledu-datasets/california_housing_train.csv\", sep=\",\")\n",
        "california_housing_dataframe.describe() # para mostrar un resumen estadistico"
      ],
      "execution_count": 0,
      "outputs": [
        {
          "output_type": "execute_result",
          "data": {
            "text/html": [
              "<div>\n",
              "<style scoped>\n",
              "    .dataframe tbody tr th:only-of-type {\n",
              "        vertical-align: middle;\n",
              "    }\n",
              "\n",
              "    .dataframe tbody tr th {\n",
              "        vertical-align: top;\n",
              "    }\n",
              "\n",
              "    .dataframe thead th {\n",
              "        text-align: right;\n",
              "    }\n",
              "</style>\n",
              "<table border=\"1\" class=\"dataframe\">\n",
              "  <thead>\n",
              "    <tr style=\"text-align: right;\">\n",
              "      <th></th>\n",
              "      <th>longitude</th>\n",
              "      <th>latitude</th>\n",
              "      <th>housing_median_age</th>\n",
              "      <th>total_rooms</th>\n",
              "      <th>total_bedrooms</th>\n",
              "      <th>population</th>\n",
              "      <th>households</th>\n",
              "      <th>median_income</th>\n",
              "      <th>median_house_value</th>\n",
              "    </tr>\n",
              "  </thead>\n",
              "  <tbody>\n",
              "    <tr>\n",
              "      <th>count</th>\n",
              "      <td>17000.000000</td>\n",
              "      <td>17000.000000</td>\n",
              "      <td>17000.000000</td>\n",
              "      <td>17000.000000</td>\n",
              "      <td>17000.000000</td>\n",
              "      <td>17000.000000</td>\n",
              "      <td>17000.000000</td>\n",
              "      <td>17000.000000</td>\n",
              "      <td>17000.000000</td>\n",
              "    </tr>\n",
              "    <tr>\n",
              "      <th>mean</th>\n",
              "      <td>-119.562108</td>\n",
              "      <td>35.625225</td>\n",
              "      <td>28.589353</td>\n",
              "      <td>2643.664412</td>\n",
              "      <td>539.410824</td>\n",
              "      <td>1429.573941</td>\n",
              "      <td>501.221941</td>\n",
              "      <td>3.883578</td>\n",
              "      <td>207300.912353</td>\n",
              "    </tr>\n",
              "    <tr>\n",
              "      <th>std</th>\n",
              "      <td>2.005166</td>\n",
              "      <td>2.137340</td>\n",
              "      <td>12.586937</td>\n",
              "      <td>2179.947071</td>\n",
              "      <td>421.499452</td>\n",
              "      <td>1147.852959</td>\n",
              "      <td>384.520841</td>\n",
              "      <td>1.908157</td>\n",
              "      <td>115983.764387</td>\n",
              "    </tr>\n",
              "    <tr>\n",
              "      <th>min</th>\n",
              "      <td>-124.350000</td>\n",
              "      <td>32.540000</td>\n",
              "      <td>1.000000</td>\n",
              "      <td>2.000000</td>\n",
              "      <td>1.000000</td>\n",
              "      <td>3.000000</td>\n",
              "      <td>1.000000</td>\n",
              "      <td>0.499900</td>\n",
              "      <td>14999.000000</td>\n",
              "    </tr>\n",
              "    <tr>\n",
              "      <th>25%</th>\n",
              "      <td>-121.790000</td>\n",
              "      <td>33.930000</td>\n",
              "      <td>18.000000</td>\n",
              "      <td>1462.000000</td>\n",
              "      <td>297.000000</td>\n",
              "      <td>790.000000</td>\n",
              "      <td>282.000000</td>\n",
              "      <td>2.566375</td>\n",
              "      <td>119400.000000</td>\n",
              "    </tr>\n",
              "    <tr>\n",
              "      <th>50%</th>\n",
              "      <td>-118.490000</td>\n",
              "      <td>34.250000</td>\n",
              "      <td>29.000000</td>\n",
              "      <td>2127.000000</td>\n",
              "      <td>434.000000</td>\n",
              "      <td>1167.000000</td>\n",
              "      <td>409.000000</td>\n",
              "      <td>3.544600</td>\n",
              "      <td>180400.000000</td>\n",
              "    </tr>\n",
              "    <tr>\n",
              "      <th>75%</th>\n",
              "      <td>-118.000000</td>\n",
              "      <td>37.720000</td>\n",
              "      <td>37.000000</td>\n",
              "      <td>3151.250000</td>\n",
              "      <td>648.250000</td>\n",
              "      <td>1721.000000</td>\n",
              "      <td>605.250000</td>\n",
              "      <td>4.767000</td>\n",
              "      <td>265000.000000</td>\n",
              "    </tr>\n",
              "    <tr>\n",
              "      <th>max</th>\n",
              "      <td>-114.310000</td>\n",
              "      <td>41.950000</td>\n",
              "      <td>52.000000</td>\n",
              "      <td>37937.000000</td>\n",
              "      <td>6445.000000</td>\n",
              "      <td>35682.000000</td>\n",
              "      <td>6082.000000</td>\n",
              "      <td>15.000100</td>\n",
              "      <td>500001.000000</td>\n",
              "    </tr>\n",
              "  </tbody>\n",
              "</table>\n",
              "</div>"
            ],
            "text/plain": [
              "          longitude      latitude  ...  median_income  median_house_value\n",
              "count  17000.000000  17000.000000  ...   17000.000000        17000.000000\n",
              "mean    -119.562108     35.625225  ...       3.883578       207300.912353\n",
              "std        2.005166      2.137340  ...       1.908157       115983.764387\n",
              "min     -124.350000     32.540000  ...       0.499900        14999.000000\n",
              "25%     -121.790000     33.930000  ...       2.566375       119400.000000\n",
              "50%     -118.490000     34.250000  ...       3.544600       180400.000000\n",
              "75%     -118.000000     37.720000  ...       4.767000       265000.000000\n",
              "max     -114.310000     41.950000  ...      15.000100       500001.000000\n",
              "\n",
              "[8 rows x 9 columns]"
            ]
          },
          "metadata": {
            "tags": []
          },
          "execution_count": 8
        }
      ]
    },
    {
      "cell_type": "markdown",
      "metadata": {
        "id": "_ZPy_-C9fBZf",
        "colab_type": "text"
      },
      "source": [
        "El ejemplo de arriba usa `DataFrame.describe` para mostrar estadísticas sobre el ``DataFrame``.  Otra función util es `DataFrame.head` que muestra los primeros registros de un ``DataFrame`` ( como ``head()`` en **R**).  "
      ]
    },
    {
      "cell_type": "code",
      "metadata": {
        "id": "6yf6lu61Rvhg",
        "colab_type": "code",
        "outputId": "e9e59973-a2b6-4056-a8c2-835ebacdb74b",
        "colab": {
          "base_uri": "https://localhost:8080/",
          "height": 206
        }
      },
      "source": [
        "california_housing_dataframe.head()\n",
        "\n"
      ],
      "execution_count": 0,
      "outputs": [
        {
          "output_type": "execute_result",
          "data": {
            "text/html": [
              "<div>\n",
              "<style scoped>\n",
              "    .dataframe tbody tr th:only-of-type {\n",
              "        vertical-align: middle;\n",
              "    }\n",
              "\n",
              "    .dataframe tbody tr th {\n",
              "        vertical-align: top;\n",
              "    }\n",
              "\n",
              "    .dataframe thead th {\n",
              "        text-align: right;\n",
              "    }\n",
              "</style>\n",
              "<table border=\"1\" class=\"dataframe\">\n",
              "  <thead>\n",
              "    <tr style=\"text-align: right;\">\n",
              "      <th></th>\n",
              "      <th>longitude</th>\n",
              "      <th>latitude</th>\n",
              "      <th>housing_median_age</th>\n",
              "      <th>total_rooms</th>\n",
              "      <th>total_bedrooms</th>\n",
              "      <th>population</th>\n",
              "      <th>households</th>\n",
              "      <th>median_income</th>\n",
              "      <th>median_house_value</th>\n",
              "    </tr>\n",
              "  </thead>\n",
              "  <tbody>\n",
              "    <tr>\n",
              "      <th>0</th>\n",
              "      <td>-114.31</td>\n",
              "      <td>34.19</td>\n",
              "      <td>15.0</td>\n",
              "      <td>5612.0</td>\n",
              "      <td>1283.0</td>\n",
              "      <td>1015.0</td>\n",
              "      <td>472.0</td>\n",
              "      <td>1.4936</td>\n",
              "      <td>66900.0</td>\n",
              "    </tr>\n",
              "    <tr>\n",
              "      <th>1</th>\n",
              "      <td>-114.47</td>\n",
              "      <td>34.40</td>\n",
              "      <td>19.0</td>\n",
              "      <td>7650.0</td>\n",
              "      <td>1901.0</td>\n",
              "      <td>1129.0</td>\n",
              "      <td>463.0</td>\n",
              "      <td>1.8200</td>\n",
              "      <td>80100.0</td>\n",
              "    </tr>\n",
              "    <tr>\n",
              "      <th>2</th>\n",
              "      <td>-114.56</td>\n",
              "      <td>33.69</td>\n",
              "      <td>17.0</td>\n",
              "      <td>720.0</td>\n",
              "      <td>174.0</td>\n",
              "      <td>333.0</td>\n",
              "      <td>117.0</td>\n",
              "      <td>1.6509</td>\n",
              "      <td>85700.0</td>\n",
              "    </tr>\n",
              "    <tr>\n",
              "      <th>3</th>\n",
              "      <td>-114.57</td>\n",
              "      <td>33.64</td>\n",
              "      <td>14.0</td>\n",
              "      <td>1501.0</td>\n",
              "      <td>337.0</td>\n",
              "      <td>515.0</td>\n",
              "      <td>226.0</td>\n",
              "      <td>3.1917</td>\n",
              "      <td>73400.0</td>\n",
              "    </tr>\n",
              "    <tr>\n",
              "      <th>4</th>\n",
              "      <td>-114.57</td>\n",
              "      <td>33.57</td>\n",
              "      <td>20.0</td>\n",
              "      <td>1454.0</td>\n",
              "      <td>326.0</td>\n",
              "      <td>624.0</td>\n",
              "      <td>262.0</td>\n",
              "      <td>1.9250</td>\n",
              "      <td>65500.0</td>\n",
              "    </tr>\n",
              "  </tbody>\n",
              "</table>\n",
              "</div>"
            ],
            "text/plain": [
              "   longitude  latitude  ...  median_income  median_house_value\n",
              "0    -114.31     34.19  ...         1.4936             66900.0\n",
              "1    -114.47     34.40  ...         1.8200             80100.0\n",
              "2    -114.56     33.69  ...         1.6509             85700.0\n",
              "3    -114.57     33.64  ...         3.1917             73400.0\n",
              "4    -114.57     33.57  ...         1.9250             65500.0\n",
              "\n",
              "[5 rows x 9 columns]"
            ]
          },
          "metadata": {
            "tags": []
          },
          "execution_count": 9
        }
      ]
    },
    {
      "cell_type": "markdown",
      "metadata": {
        "id": "cjoccif6f1B3",
        "colab_type": "text"
      },
      "source": [
        "Another powerful feature of pandas is graphing. For example, ``DataFrame.hist`` lets you quickly study the distribution of values in a column:"
      ]
    },
    {
      "cell_type": "code",
      "metadata": {
        "id": "XysKLnpxf3KB",
        "colab_type": "code",
        "outputId": "d041fe2c-d02a-4993-899d-c77aef5c1bbd",
        "colab": {
          "base_uri": "https://localhost:8080/",
          "height": 318
        }
      },
      "source": [
        "california_housing_dataframe.hist('housing_median_age')"
      ],
      "execution_count": 0,
      "outputs": [
        {
          "output_type": "execute_result",
          "data": {
            "text/plain": [
              "array([[<matplotlib.axes._subplots.AxesSubplot object at 0x7f6674da3908>]],\n",
              "      dtype=object)"
            ]
          },
          "metadata": {
            "tags": []
          },
          "execution_count": 10
        },
        {
          "output_type": "display_data",
          "data": {
            "image/png": "[encoded data removed]",
            "text/plain": [
              "<Figure size 432x288 with 1 Axes>"
            ]
          },
          "metadata": {
            "tags": []
          }
        }
      ]
    },
    {
      "cell_type": "markdown",
      "metadata": {
        "id": "ikIn75lGf9mN",
        "colab_type": "text"
      },
      "source": [
        "## Acceder al DataFrame\n",
        "Se puede acceder DataFrame usando operaciones de dict/list:"
      ]
    },
    {
      "cell_type": "code",
      "metadata": {
        "id": "oUDohJXigh-D",
        "colab_type": "code",
        "outputId": "6a8fcda0-5447-4ffc-acd3-c2db6041951b",
        "colab": {
          "base_uri": "https://localhost:8080/",
          "height": 36
        }
      },
      "source": [
        "ciudades = pd.DataFrame({ 'Nombre ciudad': nombre_ciudad, 'Poblacion': poblacion })\n",
        "print(type(ciudades['Nombre ciudad']))\n"
      ],
      "execution_count": 0,
      "outputs": [
        {
          "output_type": "stream",
          "text": [
            "<class 'pandas.core.series.Series'>\n"
          ],
          "name": "stdout"
        }
      ]
    },
    {
      "cell_type": "code",
      "metadata": {
        "id": "45Qla6rFhllF",
        "colab_type": "code",
        "outputId": "a4a2f943-721d-42ab-cc4f-23c8440fbf62",
        "colab": {
          "base_uri": "https://localhost:8080/",
          "height": 92
        }
      },
      "source": [
        "ciudades['Nombre ciudad']"
      ],
      "execution_count": 0,
      "outputs": [
        {
          "output_type": "execute_result",
          "data": {
            "text/plain": [
              "0     Coquimbo\n",
              "1    La Serena\n",
              "2       Ovalle\n",
              "Name: Nombre ciudad, dtype: object"
            ]
          },
          "metadata": {
            "tags": []
          },
          "execution_count": 17
        }
      ]
    },
    {
      "cell_type": "markdown",
      "metadata": {
        "id": "H9PO3zo-hq4E",
        "colab_type": "text"
      },
      "source": [
        "**NOTA** Para saber más sobre index y selección de Datos visitar:  [indexing and selection](http://pandas.pydata.org/pandas-docs/stable/indexing.html) de pandas"
      ]
    },
    {
      "cell_type": "markdown",
      "metadata": {
        "id": "gyHqtyb4iIEQ",
        "colab_type": "text"
      },
      "source": [
        "## Manipular Datos  \n",
        "\n",
        "Se pueden aplicar aritméticas básicas de Python a las Series: Por ejemplo:  \n"
      ]
    },
    {
      "cell_type": "code",
      "metadata": {
        "id": "VaUSqDGKiVV9",
        "colab_type": "code",
        "outputId": "35d68322-0f76-427e-a196-279ebc0ce23c",
        "colab": {
          "base_uri": "https://localhost:8080/",
          "height": 92
        }
      },
      "source": [
        "poblacion / 1000."
      ],
      "execution_count": 0,
      "outputs": [
        {
          "output_type": "execute_result",
          "data": {
            "text/plain": [
              "0    216.0\n",
              "1    205.0\n",
              "2     75.0\n",
              "dtype: float64"
            ]
          },
          "metadata": {
            "tags": []
          },
          "execution_count": 18
        }
      ]
    },
    {
      "cell_type": "markdown",
      "metadata": {
        "id": "UeT5cjgSibII",
        "colab_type": "text"
      },
      "source": [
        "NumPy is a popular toolkit for scientific computing. pandas Series can be used as arguments to most NumPy functions:"
      ]
    },
    {
      "cell_type": "code",
      "metadata": {
        "id": "dqIJ0YhCia2_",
        "colab_type": "code",
        "outputId": "9063b107-8a79-4dc4-aa72-8d61266d7ae2",
        "colab": {
          "base_uri": "https://localhost:8080/",
          "height": 92
        }
      },
      "source": [
        "import numpy as np\n",
        "\n",
        "np.log(population)"
      ],
      "execution_count": 0,
      "outputs": [
        {
          "output_type": "execute_result",
          "data": {
            "text/plain": [
              "0    12.283034\n",
              "1    12.230765\n",
              "2    11.225243\n",
              "dtype: float64"
            ]
          },
          "metadata": {
            "tags": []
          },
          "execution_count": 19
        }
      ]
    },
    {
      "cell_type": "markdown",
      "metadata": {
        "id": "UVtAptOWiwyE",
        "colab_type": "text"
      },
      "source": [
        "For more complex single-column transformations, you can use `Series.apply`. Like the Python [map function](https://docs.python.org/2/library/functions.html#map), \n",
        "`Series.apply` accepts as an argument a [lambda function](https://docs.python.org/2/tutorial/controlflow.html#lambda-expressions), which is applied to each value.\n",
        "\n",
        "\n",
        "**REVISAR LAS FUNCIONES LAMBDA!**  \n",
        "The example below creates a new `Series` that indicates whether `population` is over one 200.000:"
      ]
    },
    {
      "cell_type": "code",
      "metadata": {
        "id": "Q8yV1jLviwe_",
        "colab_type": "code",
        "outputId": "19fc2b95-5023-4ed4-ec2d-b7468b1cb00c",
        "colab": {
          "base_uri": "https://localhost:8080/",
          "height": 92
        }
      },
      "source": [
        "poblacion.apply(lambda val: val > 200000)"
      ],
      "execution_count": 0,
      "outputs": [
        {
          "output_type": "execute_result",
          "data": {
            "text/plain": [
              "0     True\n",
              "1     True\n",
              "2    False\n",
              "dtype: bool"
            ]
          },
          "metadata": {
            "tags": []
          },
          "execution_count": 21
        }
      ]
    },
    {
      "cell_type": "code",
      "metadata": {
        "id": "qJ9wmqihjDz8",
        "colab_type": "code",
        "outputId": "1885d23b-2d6b-4218-e03f-44a1d06b528a",
        "colab": {
          "base_uri": "https://localhost:8080/",
          "height": 92
        }
      },
      "source": [
        "poblacion> 200000 # lo mismo q lo de arriba... (revisar)"
      ],
      "execution_count": 0,
      "outputs": [
        {
          "output_type": "execute_result",
          "data": {
            "text/plain": [
              "0     True\n",
              "1     True\n",
              "2    False\n",
              "dtype: bool"
            ]
          },
          "metadata": {
            "tags": []
          },
          "execution_count": 22
        }
      ]
    },
    {
      "cell_type": "markdown",
      "metadata": {
        "id": "KDZnwyPWjMHD",
        "colab_type": "text"
      },
      "source": [
        "Modifying `DataFrames` is also straightforward. For example, the following code adds two `Series` to an existing `DataFrame`:"
      ]
    },
    {
      "cell_type": "code",
      "metadata": {
        "id": "fgtNpauQjR4n",
        "colab_type": "code",
        "outputId": "f3598898-1184-4efc-99f7-ea54bff40e60",
        "colab": {
          "base_uri": "https://localhost:8080/",
          "height": 143
        }
      },
      "source": [
        "ciudades['Area square miles'] = pd.Series([46.87, 176.53, 97.92])\n",
        "ciudades['Densidad poblacion'] = ciudades['Poblacion'] / ciudades['Area square miles']\n",
        "ciudades"
      ],
      "execution_count": 0,
      "outputs": [
        {
          "output_type": "execute_result",
          "data": {
            "text/html": [
              "<div>\n",
              "<style scoped>\n",
              "    .dataframe tbody tr th:only-of-type {\n",
              "        vertical-align: middle;\n",
              "    }\n",
              "\n",
              "    .dataframe tbody tr th {\n",
              "        vertical-align: top;\n",
              "    }\n",
              "\n",
              "    .dataframe thead th {\n",
              "        text-align: right;\n",
              "    }\n",
              "</style>\n",
              "<table border=\"1\" class=\"dataframe\">\n",
              "  <thead>\n",
              "    <tr style=\"text-align: right;\">\n",
              "      <th></th>\n",
              "      <th>Nombre ciudad</th>\n",
              "      <th>Poblacion</th>\n",
              "      <th>Area square miles</th>\n",
              "      <th>Densidad poblacion</th>\n",
              "    </tr>\n",
              "  </thead>\n",
              "  <tbody>\n",
              "    <tr>\n",
              "      <th>0</th>\n",
              "      <td>Coquimbo</td>\n",
              "      <td>216000</td>\n",
              "      <td>46.87</td>\n",
              "      <td>4608.491572</td>\n",
              "    </tr>\n",
              "    <tr>\n",
              "      <th>1</th>\n",
              "      <td>La Serena</td>\n",
              "      <td>205000</td>\n",
              "      <td>176.53</td>\n",
              "      <td>1161.275704</td>\n",
              "    </tr>\n",
              "    <tr>\n",
              "      <th>2</th>\n",
              "      <td>Ovalle</td>\n",
              "      <td>75000</td>\n",
              "      <td>97.92</td>\n",
              "      <td>765.931373</td>\n",
              "    </tr>\n",
              "  </tbody>\n",
              "</table>\n",
              "</div>"
            ],
            "text/plain": [
              "  Nombre ciudad  Poblacion  Area square miles  Densidad poblacion\n",
              "0      Coquimbo     216000              46.87         4608.491572\n",
              "1     La Serena     205000             176.53         1161.275704\n",
              "2        Ovalle      75000              97.92          765.931373"
            ]
          },
          "metadata": {
            "tags": []
          },
          "execution_count": 23
        }
      ]
    },
    {
      "cell_type": "markdown",
      "metadata": {
        "id": "1saiFleQjBYH",
        "colab_type": "text"
      },
      "source": [
        "### Ejercicio 1\n",
        "Modify the `cities` table by adding a new boolean column that is True if and only if *both* of the following are True:\n",
        "\n",
        "  * The city is named after a saint. **La**\n",
        "  * The city has an area greater than 50 square miles.\n",
        "\n",
        "**Note:** Boolean `Series` are combined using the bitwise, rather than the traditional boolean, operators. For example, when performing *logical and*, use `&` instead of `and`.\n",
        "\n",
        "**Hint:** \"San\" in Spanish means \"saint.\""
      ]
    },
    {
      "cell_type": "code",
      "metadata": {
        "id": "cGWE0Q53jjPX",
        "colab_type": "code",
        "outputId": "e5f7012a-e948-49af-cece-68be6166ca85",
        "colab": {
          "base_uri": "https://localhost:8080/",
          "height": 143
        }
      },
      "source": [
        "\n",
        "ciudades[\"condicion\"] = (ciudades[\"Area square miles\"] > 50) & ciudades[\"Nombre ciudad\"].apply(lambda nombre: nombre.startswith('La'))\n",
        "ciudades"
      ],
      "execution_count": 0,
      "outputs": [
        {
          "output_type": "execute_result",
          "data": {
            "text/html": [
              "<div>\n",
              "<style scoped>\n",
              "    .dataframe tbody tr th:only-of-type {\n",
              "        vertical-align: middle;\n",
              "    }\n",
              "\n",
              "    .dataframe tbody tr th {\n",
              "        vertical-align: top;\n",
              "    }\n",
              "\n",
              "    .dataframe thead th {\n",
              "        text-align: right;\n",
              "    }\n",
              "</style>\n",
              "<table border=\"1\" class=\"dataframe\">\n",
              "  <thead>\n",
              "    <tr style=\"text-align: right;\">\n",
              "      <th></th>\n",
              "      <th>Nombre ciudad</th>\n",
              "      <th>Poblacion</th>\n",
              "      <th>Area square miles</th>\n",
              "      <th>Densidad poblacion</th>\n",
              "      <th>condicion</th>\n",
              "    </tr>\n",
              "  </thead>\n",
              "  <tbody>\n",
              "    <tr>\n",
              "      <th>0</th>\n",
              "      <td>Coquimbo</td>\n",
              "      <td>216000</td>\n",
              "      <td>46.87</td>\n",
              "      <td>4608.491572</td>\n",
              "      <td>False</td>\n",
              "    </tr>\n",
              "    <tr>\n",
              "      <th>1</th>\n",
              "      <td>La Serena</td>\n",
              "      <td>205000</td>\n",
              "      <td>176.53</td>\n",
              "      <td>1161.275704</td>\n",
              "      <td>True</td>\n",
              "    </tr>\n",
              "    <tr>\n",
              "      <th>2</th>\n",
              "      <td>Ovalle</td>\n",
              "      <td>75000</td>\n",
              "      <td>97.92</td>\n",
              "      <td>765.931373</td>\n",
              "      <td>False</td>\n",
              "    </tr>\n",
              "  </tbody>\n",
              "</table>\n",
              "</div>"
            ],
            "text/plain": [
              "  Nombre ciudad  Poblacion  Area square miles  Densidad poblacion  condicion\n",
              "0      Coquimbo     216000              46.87         4608.491572      False\n",
              "1     La Serena     205000             176.53         1161.275704       True\n",
              "2        Ovalle      75000              97.92          765.931373      False"
            ]
          },
          "metadata": {
            "tags": []
          },
          "execution_count": 34
        }
      ]
    },
    {
      "cell_type": "markdown",
      "metadata": {
        "id": "jXVtcvqjmC9b",
        "colab_type": "text"
      },
      "source": [
        "## Indices\n",
        "Both `Series` and `DataFrame` objects also define an `index` property that assigns an identifier value to each `Series` item or `DataFrame` row. \n",
        "\n",
        "By default, at construction, *pandas* assigns index values that reflect the ordering of the source data. Once created, the index values are stable; that is, they do not change when data is reordered."
      ]
    },
    {
      "cell_type": "code",
      "metadata": {
        "id": "xx4QRlyzmCps",
        "colab_type": "code",
        "outputId": "191bc5c4-59d3-4819-ca55-40dbb677f16f",
        "colab": {
          "base_uri": "https://localhost:8080/",
          "height": 36
        }
      },
      "source": [
        "nombre_ciudad.index"
      ],
      "execution_count": 0,
      "outputs": [
        {
          "output_type": "execute_result",
          "data": {
            "text/plain": [
              "RangeIndex(start=0, stop=3, step=1)"
            ]
          },
          "metadata": {
            "tags": []
          },
          "execution_count": 36
        }
      ]
    },
    {
      "cell_type": "code",
      "metadata": {
        "id": "Li1KUwFzmZLC",
        "colab_type": "code",
        "outputId": "8c1c342f-ae2f-4884-d0ca-98c6563f4e49",
        "colab": {
          "base_uri": "https://localhost:8080/",
          "height": 36
        }
      },
      "source": [
        "ciudades.index"
      ],
      "execution_count": 0,
      "outputs": [
        {
          "output_type": "execute_result",
          "data": {
            "text/plain": [
              "RangeIndex(start=0, stop=3, step=1)"
            ]
          },
          "metadata": {
            "tags": []
          },
          "execution_count": 40
        }
      ]
    },
    {
      "cell_type": "markdown",
      "metadata": {
        "id": "sKDI_P6zmd37",
        "colab_type": "text"
      },
      "source": [
        "Call `DataFrame.reindex` to manually reorder the rows. For example, the following has the same effect as sorting by city name:"
      ]
    },
    {
      "cell_type": "code",
      "metadata": {
        "id": "cVH05onkmk_h",
        "colab_type": "code",
        "outputId": "37afa5fe-fe33-4683-d103-8a8b99b11271",
        "colab": {
          "base_uri": "https://localhost:8080/",
          "height": 143
        }
      },
      "source": [
        "ciudades.reindex([2, 0, 1])"
      ],
      "execution_count": 0,
      "outputs": [
        {
          "output_type": "execute_result",
          "data": {
            "text/html": [
              "<div>\n",
              "<style scoped>\n",
              "    .dataframe tbody tr th:only-of-type {\n",
              "        vertical-align: middle;\n",
              "    }\n",
              "\n",
              "    .dataframe tbody tr th {\n",
              "        vertical-align: top;\n",
              "    }\n",
              "\n",
              "    .dataframe thead th {\n",
              "        text-align: right;\n",
              "    }\n",
              "</style>\n",
              "<table border=\"1\" class=\"dataframe\">\n",
              "  <thead>\n",
              "    <tr style=\"text-align: right;\">\n",
              "      <th></th>\n",
              "      <th>Nombre ciudad</th>\n",
              "      <th>Poblacion</th>\n",
              "      <th>Area square miles</th>\n",
              "      <th>Densidad poblacion</th>\n",
              "      <th>condicion</th>\n",
              "    </tr>\n",
              "  </thead>\n",
              "  <tbody>\n",
              "    <tr>\n",
              "      <th>2</th>\n",
              "      <td>Ovalle</td>\n",
              "      <td>75000</td>\n",
              "      <td>97.92</td>\n",
              "      <td>765.931373</td>\n",
              "      <td>False</td>\n",
              "    </tr>\n",
              "    <tr>\n",
              "      <th>0</th>\n",
              "      <td>Coquimbo</td>\n",
              "      <td>216000</td>\n",
              "      <td>46.87</td>\n",
              "      <td>4608.491572</td>\n",
              "      <td>False</td>\n",
              "    </tr>\n",
              "    <tr>\n",
              "      <th>1</th>\n",
              "      <td>La Serena</td>\n",
              "      <td>205000</td>\n",
              "      <td>176.53</td>\n",
              "      <td>1161.275704</td>\n",
              "      <td>True</td>\n",
              "    </tr>\n",
              "  </tbody>\n",
              "</table>\n",
              "</div>"
            ],
            "text/plain": [
              "  Nombre ciudad  Poblacion  Area square miles  Densidad poblacion  condicion\n",
              "2        Ovalle      75000              97.92          765.931373      False\n",
              "0      Coquimbo     216000              46.87         4608.491572      False\n",
              "1     La Serena     205000             176.53         1161.275704       True"
            ]
          },
          "metadata": {
            "tags": []
          },
          "execution_count": 39
        }
      ]
    },
    {
      "cell_type": "markdown",
      "metadata": {
        "id": "bN_GBJElmrRt",
        "colab_type": "text"
      },
      "source": [
        "For more information, see the [Index documentation](http://pandas.pydata.org/pandas-docs/stable/indexing.html#index-objects)."
      ]
    },
    {
      "cell_type": "markdown",
      "metadata": {
        "id": "nfp4ceLfmtTg",
        "colab_type": "text"
      },
      "source": [
        "### Ejercicio 2  \n",
        "The `reindex` method allows index values that are not in the original `DataFrame`'s index values. Try it and see what happens if you use such values! Why do you think this is allowed?"
      ]
    },
    {
      "cell_type": "code",
      "metadata": {
        "id": "SxZJVIoom5LQ",
        "colab_type": "code",
        "outputId": "f253a93b-ed62-424f-e551-9bdce45c44f4",
        "colab": {
          "base_uri": "https://localhost:8080/",
          "height": 143
        }
      },
      "source": [
        "ciudades.index\n",
        "ciudades"
      ],
      "execution_count": 0,
      "outputs": [
        {
          "output_type": "execute_result",
          "data": {
            "text/html": [
              "<div>\n",
              "<style scoped>\n",
              "    .dataframe tbody tr th:only-of-type {\n",
              "        vertical-align: middle;\n",
              "    }\n",
              "\n",
              "    .dataframe tbody tr th {\n",
              "        vertical-align: top;\n",
              "    }\n",
              "\n",
              "    .dataframe thead th {\n",
              "        text-align: right;\n",
              "    }\n",
              "</style>\n",
              "<table border=\"1\" class=\"dataframe\">\n",
              "  <thead>\n",
              "    <tr style=\"text-align: right;\">\n",
              "      <th></th>\n",
              "      <th>Nombre ciudad</th>\n",
              "      <th>Poblacion</th>\n",
              "      <th>Area square miles</th>\n",
              "      <th>Densidad poblacion</th>\n",
              "      <th>condicion</th>\n",
              "    </tr>\n",
              "  </thead>\n",
              "  <tbody>\n",
              "    <tr>\n",
              "      <th>0</th>\n",
              "      <td>Coquimbo</td>\n",
              "      <td>216000</td>\n",
              "      <td>46.87</td>\n",
              "      <td>4608.491572</td>\n",
              "      <td>False</td>\n",
              "    </tr>\n",
              "    <tr>\n",
              "      <th>1</th>\n",
              "      <td>La Serena</td>\n",
              "      <td>205000</td>\n",
              "      <td>176.53</td>\n",
              "      <td>1161.275704</td>\n",
              "      <td>True</td>\n",
              "    </tr>\n",
              "    <tr>\n",
              "      <th>2</th>\n",
              "      <td>Ovalle</td>\n",
              "      <td>75000</td>\n",
              "      <td>97.92</td>\n",
              "      <td>765.931373</td>\n",
              "      <td>False</td>\n",
              "    </tr>\n",
              "  </tbody>\n",
              "</table>\n",
              "</div>"
            ],
            "text/plain": [
              "  Nombre ciudad  Poblacion  Area square miles  Densidad poblacion  condicion\n",
              "0      Coquimbo     216000              46.87         4608.491572      False\n",
              "1     La Serena     205000             176.53         1161.275704       True\n",
              "2        Ovalle      75000              97.92          765.931373      False"
            ]
          },
          "metadata": {
            "tags": []
          },
          "execution_count": 42
        }
      ]
    },
    {
      "cell_type": "code",
      "metadata": {
        "id": "eCilK2synZu-",
        "colab_type": "code",
        "outputId": "1a339230-dcfd-49fa-eb0f-09d47303344d",
        "colab": {
          "base_uri": "https://localhost:8080/",
          "height": 175
        }
      },
      "source": [
        "ciudades.reindex([2,0,1,5])"
      ],
      "execution_count": 0,
      "outputs": [
        {
          "output_type": "execute_result",
          "data": {
            "text/html": [
              "<div>\n",
              "<style scoped>\n",
              "    .dataframe tbody tr th:only-of-type {\n",
              "        vertical-align: middle;\n",
              "    }\n",
              "\n",
              "    .dataframe tbody tr th {\n",
              "        vertical-align: top;\n",
              "    }\n",
              "\n",
              "    .dataframe thead th {\n",
              "        text-align: right;\n",
              "    }\n",
              "</style>\n",
              "<table border=\"1\" class=\"dataframe\">\n",
              "  <thead>\n",
              "    <tr style=\"text-align: right;\">\n",
              "      <th></th>\n",
              "      <th>Nombre ciudad</th>\n",
              "      <th>Poblacion</th>\n",
              "      <th>Area square miles</th>\n",
              "      <th>Densidad poblacion</th>\n",
              "      <th>condicion</th>\n",
              "    </tr>\n",
              "  </thead>\n",
              "  <tbody>\n",
              "    <tr>\n",
              "      <th>2</th>\n",
              "      <td>Ovalle</td>\n",
              "      <td>75000.0</td>\n",
              "      <td>97.92</td>\n",
              "      <td>765.931373</td>\n",
              "      <td>False</td>\n",
              "    </tr>\n",
              "    <tr>\n",
              "      <th>0</th>\n",
              "      <td>Coquimbo</td>\n",
              "      <td>216000.0</td>\n",
              "      <td>46.87</td>\n",
              "      <td>4608.491572</td>\n",
              "      <td>False</td>\n",
              "    </tr>\n",
              "    <tr>\n",
              "      <th>1</th>\n",
              "      <td>La Serena</td>\n",
              "      <td>205000.0</td>\n",
              "      <td>176.53</td>\n",
              "      <td>1161.275704</td>\n",
              "      <td>True</td>\n",
              "    </tr>\n",
              "    <tr>\n",
              "      <th>5</th>\n",
              "      <td>NaN</td>\n",
              "      <td>NaN</td>\n",
              "      <td>NaN</td>\n",
              "      <td>NaN</td>\n",
              "      <td>NaN</td>\n",
              "    </tr>\n",
              "  </tbody>\n",
              "</table>\n",
              "</div>"
            ],
            "text/plain": [
              "  Nombre ciudad  Poblacion  Area square miles  Densidad poblacion condicion\n",
              "2        Ovalle    75000.0              97.92          765.931373     False\n",
              "0      Coquimbo   216000.0              46.87         4608.491572     False\n",
              "1     La Serena   205000.0             176.53         1161.275704      True\n",
              "5           NaN        NaN                NaN                 NaN       NaN"
            ]
          },
          "metadata": {
            "tags": []
          },
          "execution_count": 43
        }
      ]
    },
    {
      "cell_type": "markdown",
      "metadata": {
        "id": "syEErTRIni4U",
        "colab_type": "text"
      },
      "source": [
        "This behavior is desirable because indexes are often strings pulled from the actual data (see the [*pandas* reindex\n",
        "documentation](http://pandas.pydata.org/pandas-docs/stable/generated/pandas.DataFrame.reindex.html) for an example\n",
        "in which the index values are browser names).\n",
        "\n",
        "In this case, allowing \"missing\" indices makes it easy to reindex using an external list, as you don't have to worry about\n",
        "sanitizing the input."
      ]
    },
    {
      "cell_type": "markdown",
      "metadata": {
        "id": "LeRYsD2yWD7D",
        "colab_type": "text"
      },
      "source": [
        "## (PENDIENTE) BUSCAR ALGUNA LIBRERIA DE VISUALIZACIÓN"
      ]
    }
  ]
}
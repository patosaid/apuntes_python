{
  "nbformat": 4,
  "nbformat_minor": 0,
  "metadata": {
    "colab": {
      "name": "Fuentes de cursos .ipynb",
      "version": "0.3.2",
      "provenance": [],
      "collapsed_sections": [],
      "include_colab_link": true
    },
    "kernelspec": {
      "name": "python3",
      "display_name": "Python 3"
    },
    "accelerator": "GPU"
  },
  "cells": [
    {
      "cell_type": "markdown",
      "metadata": {
        "id": "view-in-github",
        "colab_type": "text"
      },
      "source": [
        "<a href=\"https://colab.research.google.com/github/patosaid/apuntes_python/blob/master/Fuentes_de_cursos_.ipynb\" target=\"_parent\"><img src=\"https://colab.research.google.com/assets/colab-badge.svg\" alt=\"Open In Colab\"/></a>"
      ]
    },
    {
      "cell_type": "markdown",
      "metadata": {
        "id": "GQg5Liw69GqT",
        "colab_type": "text"
      },
      "source": [
        "# Apuntes de Curso IA de Google y Data Science de edx\n",
        "\n",
        "### Fuentes:\n",
        "- [La página web](//developers.google.com/machine-learning/crash-course/prereqs-and-prework) (curso intensivo de Google en ML)\n",
        "- [Vocabulario](https://developers.google.com/machine-learning/glossary/)\n",
        "- [Python for Data Science](https://courses.edx.org/courses/course-v1:UCSanDiegoX+DSE200x+1T2019a/course/)\n",
        "- [Tutorial en python.org](https://docs.python.org/3/tutorial/index.html)\n",
        "- [fast.ai](https://www.fast.ai/) o [usar colab](https://course.fast.ai/start_colab.html)\n",
        "- [tutorial de colab en medium](https://towardsdatascience.com/getting-started-with-google-colab-f2fff97f594c) \n",
        "- [otro tuto de colab en medium (2018)](https://medium.com/lean-in-women-in-tech-india/google-colab-the-beginners-guide-5ad3b417dfa)\n"
      ]
    },
    {
      "cell_type": "markdown",
      "metadata": {
        "id": "8tkr9IkpGn5E",
        "colab_type": "text"
      },
      "source": [
        "## Regresión Lineal\n",
        "\n",
        "- Understand \"loss\" in general and squared loss in particular. \n",
        "\n",
        "L2 **Loss**  for a given example is also called **squared error**:   \n",
        "\n",
        "      = Square of the difference between prediction and label   \n",
        "      = (observation - prediction)2  \n",
        "      = (y - y')2\n",
        "### Un ejemplo de regresion linal y redes neuronales:\n",
        "\n",
        "\"Es sabido que los grillos cantan con más frecuencias en los días de más calor\".  \n",
        "* *y = mx + b*  \n",
        "donde:\n",
        "  - *y* es la temperatura en celcius (el valor a estimar).  \n",
        "  - *m* la pendiente de la recta.  \n",
        "  - *x* el número de cantos por minuto.  \n",
        "  - *b* la intersección en el eje y.  \n",
        "\n",
        "En machine learning, la ec. anterior se escribe de la siguiente manera:   \n",
        "* *y'= w1 x1 + b*  \n",
        "donde:  \n",
        "  - *y'* es la etiqueta predicha o salida deseada.  \n",
        "  - *w1* es el peso del atributo 1.  \n",
        "  - *x1* es el atributo, o entrada 1.\n",
        "  - *b* es el *bias* a veces llamado *w0*.  \n",
        "  \n",
        "  \n",
        "\n",
        "\n",
        "\n",
        "\n",
        "\n",
        "\n",
        "\n"
      ]
    },
    {
      "cell_type": "markdown",
      "metadata": {
        "id": "SYz2RQRqJruF",
        "colab_type": "text"
      },
      "source": [
        "## continuar [aca](https://developers.google.com/machine-learning/crash-course/descending-into-ml/training-and-loss) sobre metodo de entrenamiento"
      ]
    },
    {
      "cell_type": "markdown",
      "metadata": {
        "id": "Lrce_O15NYVJ",
        "colab_type": "text"
      },
      "source": [
        "# continuando curso edx...\n"
      ]
    },
    {
      "cell_type": "markdown",
      "metadata": {
        "id": "9w34SQP-SeUY",
        "colab_type": "text"
      },
      "source": [
        "# Import Libraries \n",
        "# deberia borrarlo y empezar un tuto de como usar google colab."
      ]
    },
    {
      "cell_type": "markdown",
      "metadata": {
        "id": "OyTQ71s1ytir",
        "colab_type": "text"
      },
      "source": [
        "##  Configuring your notebook instance ([fuente](https://course.fast.ai/start_colab.html#step-2-configuring-your-notebook-instance))\n",
        "\n",
        "\n",
        "1.  Before you start using your notebook, you need to install the necessary packages. You can do this by creating a code cell, and running:\n"
      ]
    },
    {
      "cell_type": "code",
      "metadata": {
        "id": "mStjMtE9y_1x",
        "colab_type": "code",
        "outputId": "14d6ac73-68d9-449a-9a4f-7eeb74be0d69",
        "colab": {
          "base_uri": "https://localhost:8080/",
          "height": 54
        }
      },
      "source": [
        "  !curl -s https://course.fast.ai/setup/colab | bash"
      ],
      "execution_count": 0,
      "outputs": [
        {
          "output_type": "stream",
          "text": [
            "Updating fastai...\n",
            "Done.\n"
          ],
          "name": "stdout"
        }
      ]
    },
    {
      "cell_type": "code",
      "metadata": {
        "id": "PBSbSfXs4VeT",
        "colab_type": "code",
        "colab": {}
      },
      "source": [
        "!pip install -q matplotlib-venn"
      ],
      "execution_count": 0,
      "outputs": []
    },
    {
      "cell_type": "code",
      "metadata": {
        "id": "YGZXyDOM4VdE",
        "colab_type": "code",
        "colab": {}
      },
      "source": [
        "!apt-get -qq install -y libfluidsynth1"
      ],
      "execution_count": 0,
      "outputs": []
    },
    {
      "cell_type": "code",
      "metadata": {
        "id": "LNrivHQJ4l0p",
        "colab_type": "code",
        "colab": {}
      },
      "source": [
        "# Install the PyDrive wrapper & import libraries.\n",
        "# This only needs to be done once per notebook.\n",
        "!pip install -U -q PyDrive\n",
        "from pydrive.auth import GoogleAuth\n",
        "from pydrive.drive import GoogleDrive\n",
        "from google.colab import auth\n",
        "from oauth2client.client import GoogleCredentials\n",
        "\n",
        "# Authenticate and create the PyDrive client.\n",
        "# This only needs to be done once per notebook.\n",
        "auth.authenticate_user()\n",
        "gauth = GoogleAuth()\n",
        "gauth.credentials = GoogleCredentials.get_application_default()\n",
        "drive = GoogleDrive(gauth)\n",
        "\n",
        "# Download a file based on its file ID.\n",
        "#\n",
        "# A file ID looks like: laggVyWshwcyP6kEI-y_W3P8D26sz\n",
        "file_id = 'REPLACE_WITH_YOUR_FILE_ID'\n",
        "downloaded = drive.CreateFile({'id': file_id})\n",
        "print('Downloaded content \"{}\"'.format(downloaded.GetContentString()))"
      ],
      "execution_count": 0,
      "outputs": []
    }
  ]
}
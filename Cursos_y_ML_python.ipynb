{
  "nbformat": 4,
  "nbformat_minor": 0,
  "metadata": {
    "colab": {
      "name": "Cursos y ML python.ipynb",
      "version": "0.3.2",
      "provenance": [],
      "collapsed_sections": [],
      "include_colab_link": true
    },
    "kernelspec": {
      "name": "python3",
      "display_name": "Python 3"
    },
    "accelerator": "GPU"
  },
  "cells": [
    {
      "cell_type": "markdown",
      "metadata": {
        "id": "view-in-github",
        "colab_type": "text"
      },
      "source": [
        "<a href=\"https://colab.research.google.com/github/patosaid/apuntes_python/blob/master/Cursos_y_ML_python.ipynb\" target=\"_parent\"><img src=\"https://colab.research.google.com/assets/colab-badge.svg\" alt=\"Open In Colab\"/></a>"
      ]
    },
    {
      "cell_type": "markdown",
      "metadata": {
        "id": "GQg5Liw69GqT",
        "colab_type": "text"
      },
      "source": [
        "# Apuntes de Curso IA de Google y Data Science de edx\n",
        "\n",
        "### Fuentes:\n",
        "- [La página web](//developers.google.com/machine-learning/crash-course/prereqs-and-prework) (curso intensivo de Google en ML)\n",
        "- [Vocabulario](https://developers.google.com/machine-learning/glossary/)\n",
        "- [Python for Data Science](https://courses.edx.org/courses/course-v1:UCSanDiegoX+DSE200x+1T2019a/course/)\n",
        "- [Tutorial en python.org](https://docs.python.org/3/tutorial/index.html)\n",
        "- [fast.ai](https://www.fast.ai/) o [usar colab](https://course.fast.ai/start_colab.html)\n",
        "- [tutorial de colab en medium](https://towardsdatascience.com/getting-started-with-google-colab-f2fff97f594c) \n",
        "- [otro tuto de colab en medium (2018)](https://medium.com/lean-in-women-in-tech-india/google-colab-the-beginners-guide-5ad3b417dfa)  \n",
        "- [instalar python en máquina local](https://developers.google.com/machine-learning/crash-course/running-exercises-locally)\n",
        "- [sitio de la librería pandas y tutoriales](http://pandas.pydata.org/pandas-docs/stable/index.html) \n"
      ]
    },
    {
      "cell_type": "markdown",
      "metadata": {
        "id": "8tkr9IkpGn5E",
        "colab_type": "text"
      },
      "source": [
        "## Regresión Lineal\n",
        "\n",
        "- Understand \"loss\" in general and squared loss in particular. \n",
        "\n",
        "L2 **Loss**  for a given example is also called **squared error**:   \n",
        "\n",
        "      = Square of the difference between prediction and label   \n",
        "      = (observation - prediction)2  \n",
        "      = (y - y')2\n",
        "### Un ejemplo de regresion linal y redes neuronales:\n",
        "\n",
        "\"Es sabido que los grillos cantan con más frecuencias en los días de más calor\".  \n",
        "* *y = mx + b*  \n",
        "donde:\n",
        "  - *y* es la temperatura en celcius (el valor a estimar).  \n",
        "  - *m* la pendiente de la recta.  \n",
        "  - *x* el número de cantos por minuto.  \n",
        "  - *b* la intersección en el eje y.  \n",
        "\n",
        "En machine learning, la ec. anterior se escribe de la siguiente manera:   \n",
        "* *y'= w1 x1 + b*  \n",
        "donde:  \n",
        "  - *y'* es la etiqueta predicha o salida deseada.  \n",
        "  - *w1* es el peso del atributo 1.  \n",
        "  - *x1* es el atributo, o entrada 1.\n",
        "  - *b* es el *bias* a veces llamado *w0*.  \n",
        "  \n",
        "  \n",
        "\n",
        "\n",
        "\n",
        "\n",
        "\n",
        "\n",
        "\n"
      ]
    },
    {
      "cell_type": "markdown",
      "metadata": {
        "id": "SYz2RQRqJruF",
        "colab_type": "text"
      },
      "source": [
        "## continuar [aca](https://developers.google.com/machine-learning/crash-course/descending-into-ml/training-and-loss) sobre metodo de entrenamiento"
      ]
    },
    {
      "cell_type": "markdown",
      "metadata": {
        "id": "Lrce_O15NYVJ",
        "colab_type": "text"
      },
      "source": [
        "# continuando curso edx...\n"
      ]
    },
    {
      "cell_type": "markdown",
      "metadata": {
        "id": "9w34SQP-SeUY",
        "colab_type": "text"
      },
      "source": [
        "# Import Libraries \n",
        "# deberia borrarlo y empezar un tuto de como usar google colab."
      ]
    },
    {
      "cell_type": "markdown",
      "metadata": {
        "id": "OyTQ71s1ytir",
        "colab_type": "text"
      },
      "source": [
        "##  Configuring your notebook instance ([fuente](https://course.fast.ai/start_colab.html#step-2-configuring-your-notebook-instance))\n",
        "\n",
        "\n",
        "1.  Before you start using your notebook, you need to install the necessary packages. You can do this by creating a code cell, and running:\n"
      ]
    },
    {
      "cell_type": "code",
      "metadata": {
        "id": "mStjMtE9y_1x",
        "colab_type": "code",
        "outputId": "14d6ac73-68d9-449a-9a4f-7eeb74be0d69",
        "colab": {
          "base_uri": "https://localhost:8080/",
          "height": 54
        }
      },
      "source": [
        "  !curl -s https://course.fast.ai/setup/colab | bash"
      ],
      "execution_count": 0,
      "outputs": [
        {
          "output_type": "stream",
          "text": [
            "Updating fastai...\n",
            "Done.\n"
          ],
          "name": "stdout"
        }
      ]
    },
    {
      "cell_type": "code",
      "metadata": {
        "id": "PBSbSfXs4VeT",
        "colab_type": "code",
        "colab": {}
      },
      "source": [
        "!pip install -q matplotlib-venn"
      ],
      "execution_count": 0,
      "outputs": []
    },
    {
      "cell_type": "code",
      "metadata": {
        "id": "YGZXyDOM4VdE",
        "colab_type": "code",
        "colab": {}
      },
      "source": [
        "!apt-get -qq install -y libfluidsynth1"
      ],
      "execution_count": 0,
      "outputs": []
    },
    {
      "cell_type": "code",
      "metadata": {
        "id": "LNrivHQJ4l0p",
        "colab_type": "code",
        "colab": {}
      },
      "source": [
        "# Install the PyDrive wrapper & import libraries.\n",
        "# This only needs to be done once per notebook.\n",
        "!pip install -U -q PyDrive\n",
        "from pydrive.auth import GoogleAuth\n",
        "from pydrive.drive import GoogleDrive\n",
        "from google.colab import auth\n",
        "from oauth2client.client import GoogleCredentials\n",
        "\n",
        "# Authenticate and create the PyDrive client.\n",
        "# This only needs to be done once per notebook.\n",
        "auth.authenticate_user()\n",
        "gauth = GoogleAuth()\n",
        "gauth.credentials = GoogleCredentials.get_application_default()\n",
        "drive = GoogleDrive(gauth)\n",
        "\n",
        "# Download a file based on its file ID.\n",
        "#\n",
        "# A file ID looks like: laggVyWshwcyP6kEI-y_W3P8D26sz\n",
        "file_id = 'REPLACE_WITH_YOUR_FILE_ID'\n",
        "downloaded = drive.CreateFile({'id': file_id})\n",
        "print('Downloaded content \"{}\"'.format(downloaded.GetContentString()))"
      ],
      "execution_count": 0,
      "outputs": []
    },
    {
      "cell_type": "markdown",
      "metadata": {
        "id": "rrF4xdXNMmqI",
        "colab_type": "text"
      },
      "source": [
        "# Primeros pasos en TensorFlow\n",
        "https://developers.google.com/machine-learning/crash-course/first-steps-with-tensorflow/video-lecture\n",
        "\n",
        "## First Steps with TensorFlow: Toolkit   \n",
        "Tensorflow is a computational framework for building machine learning models. TensorFlow provides a variety of different toolkits that allow you to construct models at your preferred level of abstraction. You can use lower-level APIs to build models by defining a series of mathematical operations. Alternatively, you can use higher-level APIs (like tf.estimator) to specify predefined architectures, such as linear regressors or neural networks.\n",
        "\n",
        "The following figure shows the current hierarchy of TensorFlow toolkits:\n",
        "\n",
        "![texto alternativo](https://developers.google.com/machine-learning/crash-course/images/TFHierarchy.svg)  \n",
        "**Figure 1. TensorFlow toolkit hierarchy.**  \n",
        "\n",
        "The following table summarizes the purposes of the different layers:  \n",
        "\n",
        "1.   **Estimator (tf.estimator)** \tHigh-level, OOP API.\n",
        "2.   **tf.layers/tf.losses/tf.metrics** \tLibraries for common model components.\n",
        "3.   **TensorFlow** \tLower-level APIs\n",
        "\n",
        "Very broadly speaking, here's the pseudocode for a linear classification program implemented in tf.estimator:\n",
        "\n",
        "```\n",
        "import tensorflow as tf\n",
        "\n",
        "# Set up a linear classifier.\n",
        "classifier = tf.estimator.LinearClassifier(feature_columns)\n",
        "\n",
        "# Train the model on some example data.\n",
        "classifier.train(input_fn=train_input_fn, steps=2000)\n",
        "\n",
        "# Use it to predict.\n",
        "predictions = classifier.predict(input_fn=predict_input_fn)\n",
        "```\n",
        "\n",
        "\n",
        "\n",
        "\n",
        "\n"
      ]
    },
    {
      "cell_type": "markdown",
      "metadata": {
        "id": "AvdrP9LdOv-o",
        "colab_type": "text"
      },
      "source": [
        "Run the following three exercises in the provided order:\n",
        "\n",
        "*    [Quick Introduction to pandas](https://colab.research.google.com/notebooks/mlcc/intro_to_pandas.ipynb?utm_source=mlcc&utm_campaign=colab-external&utm_medium=referral&utm_content=pandas-colab&hl=en) : pandas is an important library for data analysis and modeling, and is widely used in TensorFlow coding. This tutorial provides all the pandas information you need for this course. If you already know pandas, you can skip this exercise. (se corrió en documento [ **librerias_python.ipynb**](https://github.com/patosaid/apuntes_python/blob/master/librerias_python.ipynb) )\n",
        "*   [First Steps with TensorFlow](https://colab.research.google.com/notebooks/mlcc/first_steps_with_tensor_flow.ipynb?utm_source=mlcc&utm_campaign=colab-external&utm_medium=referral&utm_content=firststeps-colab&hl=en): This exercise explores linear regression. (a continuación)\n",
        "*   Synthetic Features and Outliers: This exercise explores synthetic features and the effect of input outliers.\n"
      ]
    },
    {
      "cell_type": "markdown",
      "metadata": {
        "id": "D0cEQ_UZp-8P",
        "colab_type": "text"
      },
      "source": [
        "## First Steps with TensorFlow\n",
        "**Learning Objectives:**\n",
        "  * Learn fundamental TensorFlow concepts\n",
        "  * Use the `LinearRegressor` class in TensorFlow to predict median housing price, at the granularity of city blocks, based on one input feature\n",
        "  * Evaluate the accuracy of a model's predictions using Root Mean Squared Error (RMSE)\n",
        "  * Improve the accuracy of a model by tuning its hyperparameters  \n",
        "  \n",
        "The [data](https://developers.google.com/machine-learning/crash-course/california-housing-data-description) is based on 1990 census data from California."
      ]
    },
    {
      "cell_type": "markdown",
      "metadata": {
        "id": "6jkShOMMqKI1",
        "colab_type": "text"
      },
      "source": [
        "## Setup\n",
        "In this first cell, we'll load the necessary libraries."
      ]
    },
    {
      "cell_type": "code",
      "metadata": {
        "id": "4iWzeqsGqMoN",
        "colab_type": "code",
        "colab": {}
      },
      "source": [
        "from __future__ import print_function\n",
        "\n",
        "import math\n",
        "\n",
        "from IPython import display\n",
        "from matplotlib import cm\n",
        "from matplotlib import gridspec\n",
        "from matplotlib import pyplot as plt\n",
        "import numpy as np\n",
        "import pandas as pd\n",
        "from sklearn import metrics\n",
        "import tensorflow as tf\n",
        "from tensorflow.python.data import Dataset\n",
        "\n",
        "\n",
        "tf.logging.set_verbosity(tf.logging.ERROR)\n",
        "pd.options.display.max_rows = 10\n",
        "pd.options.display.float_format = '{:.1f}'.format\n"
      ],
      "execution_count": 0,
      "outputs": []
    },
    {
      "cell_type": "markdown",
      "metadata": {
        "id": "kySAIiS1qjeL",
        "colab_type": "text"
      },
      "source": [
        "Next, we'll load our data set."
      ]
    },
    {
      "cell_type": "code",
      "metadata": {
        "id": "gRiXDazDqlYT",
        "colab_type": "code",
        "colab": {
          "base_uri": "https://localhost:8080/",
          "height": 206
        },
        "outputId": "de47bf28-cc6d-43e6-c570-07f03447b7a0"
      },
      "source": [
        "california_housing_dataframe = pd.read_csv(\"https://download.mlcc.google.com/mledu-datasets/california_housing_train.csv\", sep=\",\")\n",
        "california_housing_dataframe.head()"
      ],
      "execution_count": 9,
      "outputs": [
        {
          "output_type": "execute_result",
          "data": {
            "text/html": [
              "<div>\n",
              "<style scoped>\n",
              "    .dataframe tbody tr th:only-of-type {\n",
              "        vertical-align: middle;\n",
              "    }\n",
              "\n",
              "    .dataframe tbody tr th {\n",
              "        vertical-align: top;\n",
              "    }\n",
              "\n",
              "    .dataframe thead th {\n",
              "        text-align: right;\n",
              "    }\n",
              "</style>\n",
              "<table border=\"1\" class=\"dataframe\">\n",
              "  <thead>\n",
              "    <tr style=\"text-align: right;\">\n",
              "      <th></th>\n",
              "      <th>longitude</th>\n",
              "      <th>latitude</th>\n",
              "      <th>housing_median_age</th>\n",
              "      <th>total_rooms</th>\n",
              "      <th>total_bedrooms</th>\n",
              "      <th>population</th>\n",
              "      <th>households</th>\n",
              "      <th>median_income</th>\n",
              "      <th>median_house_value</th>\n",
              "    </tr>\n",
              "  </thead>\n",
              "  <tbody>\n",
              "    <tr>\n",
              "      <th>0</th>\n",
              "      <td>-114.3</td>\n",
              "      <td>34.2</td>\n",
              "      <td>15.0</td>\n",
              "      <td>5612.0</td>\n",
              "      <td>1283.0</td>\n",
              "      <td>1015.0</td>\n",
              "      <td>472.0</td>\n",
              "      <td>1.5</td>\n",
              "      <td>66900.0</td>\n",
              "    </tr>\n",
              "    <tr>\n",
              "      <th>1</th>\n",
              "      <td>-114.5</td>\n",
              "      <td>34.4</td>\n",
              "      <td>19.0</td>\n",
              "      <td>7650.0</td>\n",
              "      <td>1901.0</td>\n",
              "      <td>1129.0</td>\n",
              "      <td>463.0</td>\n",
              "      <td>1.8</td>\n",
              "      <td>80100.0</td>\n",
              "    </tr>\n",
              "    <tr>\n",
              "      <th>2</th>\n",
              "      <td>-114.6</td>\n",
              "      <td>33.7</td>\n",
              "      <td>17.0</td>\n",
              "      <td>720.0</td>\n",
              "      <td>174.0</td>\n",
              "      <td>333.0</td>\n",
              "      <td>117.0</td>\n",
              "      <td>1.7</td>\n",
              "      <td>85700.0</td>\n",
              "    </tr>\n",
              "    <tr>\n",
              "      <th>3</th>\n",
              "      <td>-114.6</td>\n",
              "      <td>33.6</td>\n",
              "      <td>14.0</td>\n",
              "      <td>1501.0</td>\n",
              "      <td>337.0</td>\n",
              "      <td>515.0</td>\n",
              "      <td>226.0</td>\n",
              "      <td>3.2</td>\n",
              "      <td>73400.0</td>\n",
              "    </tr>\n",
              "    <tr>\n",
              "      <th>4</th>\n",
              "      <td>-114.6</td>\n",
              "      <td>33.6</td>\n",
              "      <td>20.0</td>\n",
              "      <td>1454.0</td>\n",
              "      <td>326.0</td>\n",
              "      <td>624.0</td>\n",
              "      <td>262.0</td>\n",
              "      <td>1.9</td>\n",
              "      <td>65500.0</td>\n",
              "    </tr>\n",
              "  </tbody>\n",
              "</table>\n",
              "</div>"
            ],
            "text/plain": [
              "   longitude  latitude  ...  median_income  median_house_value\n",
              "0     -114.3      34.2  ...            1.5             66900.0\n",
              "1     -114.5      34.4  ...            1.8             80100.0\n",
              "2     -114.6      33.7  ...            1.7             85700.0\n",
              "3     -114.6      33.6  ...            3.2             73400.0\n",
              "4     -114.6      33.6  ...            1.9             65500.0\n",
              "\n",
              "[5 rows x 9 columns]"
            ]
          },
          "metadata": {
            "tags": []
          },
          "execution_count": 9
        }
      ]
    },
    {
      "cell_type": "markdown",
      "metadata": {
        "id": "FS4RQ78Cqn-c",
        "colab_type": "text"
      },
      "source": [
        "We'll randomize the data, just to be sure not to get any pathological ordering effects that might harm the performance of Stochastic Gradient Descent. Additionally, we'll scale `median_house_value` to be in units of thousands, so it can be learned a little more easily with learning rates in a range that we usually use."
      ]
    },
    {
      "cell_type": "code",
      "metadata": {
        "id": "qNUtnb4PqqPO",
        "colab_type": "code",
        "colab": {
          "base_uri": "https://localhost:8080/",
          "height": 444
        },
        "outputId": "fa443ef6-a98c-4dfb-d686-bcad12b9a43b"
      },
      "source": [
        "california_housing_dataframe = california_housing_dataframe.reindex(\n",
        "    np.random.permutation(california_housing_dataframe.index))\n",
        "california_housing_dataframe[\"median_house_value\"] /= 1000.0\n",
        "california_housing_dataframe"
      ],
      "execution_count": 6,
      "outputs": [
        {
          "output_type": "execute_result",
          "data": {
            "text/html": [
              "<div>\n",
              "<style scoped>\n",
              "    .dataframe tbody tr th:only-of-type {\n",
              "        vertical-align: middle;\n",
              "    }\n",
              "\n",
              "    .dataframe tbody tr th {\n",
              "        vertical-align: top;\n",
              "    }\n",
              "\n",
              "    .dataframe thead th {\n",
              "        text-align: right;\n",
              "    }\n",
              "</style>\n",
              "<table border=\"1\" class=\"dataframe\">\n",
              "  <thead>\n",
              "    <tr style=\"text-align: right;\">\n",
              "      <th></th>\n",
              "      <th>longitude</th>\n",
              "      <th>latitude</th>\n",
              "      <th>housing_median_age</th>\n",
              "      <th>total_rooms</th>\n",
              "      <th>total_bedrooms</th>\n",
              "      <th>population</th>\n",
              "      <th>households</th>\n",
              "      <th>median_income</th>\n",
              "      <th>median_house_value</th>\n",
              "    </tr>\n",
              "  </thead>\n",
              "  <tbody>\n",
              "    <tr>\n",
              "      <th>10239</th>\n",
              "      <td>-120.0</td>\n",
              "      <td>39.0</td>\n",
              "      <td>22.0</td>\n",
              "      <td>1058.0</td>\n",
              "      <td>352.0</td>\n",
              "      <td>851.0</td>\n",
              "      <td>269.0</td>\n",
              "      <td>2.0</td>\n",
              "      <td>87.5</td>\n",
              "    </tr>\n",
              "    <tr>\n",
              "      <th>11771</th>\n",
              "      <td>-121.3</td>\n",
              "      <td>38.6</td>\n",
              "      <td>22.0</td>\n",
              "      <td>3902.0</td>\n",
              "      <td>845.0</td>\n",
              "      <td>1870.0</td>\n",
              "      <td>763.0</td>\n",
              "      <td>2.8</td>\n",
              "      <td>190.2</td>\n",
              "    </tr>\n",
              "    <tr>\n",
              "      <th>10689</th>\n",
              "      <td>-120.6</td>\n",
              "      <td>35.1</td>\n",
              "      <td>27.0</td>\n",
              "      <td>3055.0</td>\n",
              "      <td>677.0</td>\n",
              "      <td>1407.0</td>\n",
              "      <td>610.0</td>\n",
              "      <td>2.2</td>\n",
              "      <td>179.7</td>\n",
              "    </tr>\n",
              "    <tr>\n",
              "      <th>16411</th>\n",
              "      <td>-122.5</td>\n",
              "      <td>37.6</td>\n",
              "      <td>31.0</td>\n",
              "      <td>1331.0</td>\n",
              "      <td>245.0</td>\n",
              "      <td>598.0</td>\n",
              "      <td>225.0</td>\n",
              "      <td>4.2</td>\n",
              "      <td>345.5</td>\n",
              "    </tr>\n",
              "    <tr>\n",
              "      <th>16298</th>\n",
              "      <td>-122.5</td>\n",
              "      <td>37.5</td>\n",
              "      <td>15.0</td>\n",
              "      <td>3456.0</td>\n",
              "      <td>545.0</td>\n",
              "      <td>1527.0</td>\n",
              "      <td>535.0</td>\n",
              "      <td>6.3</td>\n",
              "      <td>368.0</td>\n",
              "    </tr>\n",
              "    <tr>\n",
              "      <th>...</th>\n",
              "      <td>...</td>\n",
              "      <td>...</td>\n",
              "      <td>...</td>\n",
              "      <td>...</td>\n",
              "      <td>...</td>\n",
              "      <td>...</td>\n",
              "      <td>...</td>\n",
              "      <td>...</td>\n",
              "      <td>...</td>\n",
              "    </tr>\n",
              "    <tr>\n",
              "      <th>9805</th>\n",
              "      <td>-119.7</td>\n",
              "      <td>36.8</td>\n",
              "      <td>17.0</td>\n",
              "      <td>1897.0</td>\n",
              "      <td>433.0</td>\n",
              "      <td>1207.0</td>\n",
              "      <td>384.0</td>\n",
              "      <td>1.8</td>\n",
              "      <td>55.9</td>\n",
              "    </tr>\n",
              "    <tr>\n",
              "      <th>2701</th>\n",
              "      <td>-117.7</td>\n",
              "      <td>33.5</td>\n",
              "      <td>5.0</td>\n",
              "      <td>3621.0</td>\n",
              "      <td>632.0</td>\n",
              "      <td>1546.0</td>\n",
              "      <td>567.0</td>\n",
              "      <td>5.8</td>\n",
              "      <td>322.8</td>\n",
              "    </tr>\n",
              "    <tr>\n",
              "      <th>8785</th>\n",
              "      <td>-118.6</td>\n",
              "      <td>34.2</td>\n",
              "      <td>23.0</td>\n",
              "      <td>3098.0</td>\n",
              "      <td>542.0</td>\n",
              "      <td>1486.0</td>\n",
              "      <td>492.0</td>\n",
              "      <td>5.8</td>\n",
              "      <td>235.8</td>\n",
              "    </tr>\n",
              "    <tr>\n",
              "      <th>9473</th>\n",
              "      <td>-119.3</td>\n",
              "      <td>34.4</td>\n",
              "      <td>22.0</td>\n",
              "      <td>3527.0</td>\n",
              "      <td>711.0</td>\n",
              "      <td>1483.0</td>\n",
              "      <td>640.0</td>\n",
              "      <td>2.7</td>\n",
              "      <td>234.7</td>\n",
              "    </tr>\n",
              "    <tr>\n",
              "      <th>14657</th>\n",
              "      <td>-122.2</td>\n",
              "      <td>38.3</td>\n",
              "      <td>18.0</td>\n",
              "      <td>1953.0</td>\n",
              "      <td>265.0</td>\n",
              "      <td>658.0</td>\n",
              "      <td>270.0</td>\n",
              "      <td>8.0</td>\n",
              "      <td>393.0</td>\n",
              "    </tr>\n",
              "  </tbody>\n",
              "</table>\n",
              "<p>17000 rows × 9 columns</p>\n",
              "</div>"
            ],
            "text/plain": [
              "       longitude  latitude  ...  median_income  median_house_value\n",
              "10239     -120.0      39.0  ...            2.0                87.5\n",
              "11771     -121.3      38.6  ...            2.8               190.2\n",
              "10689     -120.6      35.1  ...            2.2               179.7\n",
              "16411     -122.5      37.6  ...            4.2               345.5\n",
              "16298     -122.5      37.5  ...            6.3               368.0\n",
              "...          ...       ...  ...            ...                 ...\n",
              "9805      -119.7      36.8  ...            1.8                55.9\n",
              "2701      -117.7      33.5  ...            5.8               322.8\n",
              "8785      -118.6      34.2  ...            5.8               235.8\n",
              "9473      -119.3      34.4  ...            2.7               234.7\n",
              "14657     -122.2      38.3  ...            8.0               393.0\n",
              "\n",
              "[17000 rows x 9 columns]"
            ]
          },
          "metadata": {
            "tags": []
          },
          "execution_count": 6
        }
      ]
    }
  ]
}
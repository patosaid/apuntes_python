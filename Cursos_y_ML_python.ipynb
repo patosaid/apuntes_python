{
  "nbformat": 4,
  "nbformat_minor": 0,
  "metadata": {
    "colab": {
      "name": "Cursos y ML python.ipynb",
      "version": "0.3.2",
      "provenance": [],
      "collapsed_sections": [],
      "include_colab_link": true
    },
    "kernelspec": {
      "name": "python3",
      "display_name": "Python 3"
    },
    "accelerator": "GPU"
  },
  "cells": [
    {
      "cell_type": "markdown",
      "metadata": {
        "id": "view-in-github",
        "colab_type": "text"
      },
      "source": [
        "<a href=\"https://colab.research.google.com/github/patosaid/apuntes_python/blob/master/Cursos_y_ML_python.ipynb\" target=\"_parent\"><img src=\"https://colab.research.google.com/assets/colab-badge.svg\" alt=\"Open In Colab\"/></a>"
      ]
    },
    {
      "cell_type": "markdown",
      "metadata": {
        "id": "GQg5Liw69GqT",
        "colab_type": "text"
      },
      "source": [
        "# Apuntes de Curso IA de Google y Data Science de edx\n",
        "\n",
        "### Fuentes:\n",
        "- [La página web](//developers.google.com/machine-learning/crash-course/prereqs-and-prework) (curso intensivo de Google en ML)\n",
        "- [Vocabulario](https://developers.google.com/machine-learning/glossary/)\n",
        "- [Python for Data Science](https://courses.edx.org/courses/course-v1:UCSanDiegoX+DSE200x+1T2019a/course/)\n",
        "- [Tutorial en python.org](https://docs.python.org/3/tutorial/index.html)\n",
        "- [fast.ai](https://www.fast.ai/) o [usar colab](https://course.fast.ai/start_colab.html)\n",
        "- [tutorial de colab en medium](https://towardsdatascience.com/getting-started-with-google-colab-f2fff97f594c) \n",
        "- [otro tuto de colab en medium (2018)](https://medium.com/lean-in-women-in-tech-india/google-colab-the-beginners-guide-5ad3b417dfa)  \n",
        "- [instalar python en máquina local](https://developers.google.com/machine-learning/crash-course/running-exercises-locally)\n",
        "- [sitio de la librería pandas y tutoriales](http://pandas.pydata.org/pandas-docs/stable/index.html) \n"
      ]
    },
    {
      "cell_type": "markdown",
      "metadata": {
        "id": "8tkr9IkpGn5E",
        "colab_type": "text"
      },
      "source": [
        "## Regresión Lineal\n",
        "\n",
        "- Understand \"loss\" in general and squared loss in particular. \n",
        "\n",
        "L2 **Loss**  for a given example is also called **squared error**:   \n",
        "\n",
        "      = Square of the difference between prediction and label   \n",
        "      = (observation - prediction)2  \n",
        "      = (y - y')2\n",
        "### Un ejemplo de regresion linal y redes neuronales:\n",
        "\n",
        "\"Es sabido que los grillos cantan con más frecuencias en los días de más calor\".  \n",
        "* *y = mx + b*  \n",
        "donde:\n",
        "  - *y* es la temperatura en celcius (el valor a estimar).  \n",
        "  - *m* la pendiente de la recta.  \n",
        "  - *x* el número de cantos por minuto.  \n",
        "  - *b* la intersección en el eje y.  \n",
        "\n",
        "En machine learning, la ec. anterior se escribe de la siguiente manera:   \n",
        "* *y'= w1 x1 + b*  \n",
        "donde:  \n",
        "  - *y'* es la etiqueta predicha o salida deseada.  \n",
        "  - *w1* es el peso del atributo 1.  \n",
        "  - *x1* es el atributo, o entrada 1.\n",
        "  - *b* es el *bias* a veces llamado *w0*.  \n",
        "  \n",
        "  \n",
        "\n",
        "\n",
        "\n",
        "\n",
        "\n",
        "\n",
        "\n"
      ]
    },
    {
      "cell_type": "markdown",
      "metadata": {
        "id": "SYz2RQRqJruF",
        "colab_type": "text"
      },
      "source": [
        "## continuar [aca](https://developers.google.com/machine-learning/crash-course/descending-into-ml/training-and-loss) sobre metodo de entrenamiento"
      ]
    },
    {
      "cell_type": "markdown",
      "metadata": {
        "id": "Lrce_O15NYVJ",
        "colab_type": "text"
      },
      "source": [
        "# continuando curso edx...\n"
      ]
    },
    {
      "cell_type": "markdown",
      "metadata": {
        "id": "9w34SQP-SeUY",
        "colab_type": "text"
      },
      "source": [
        "# Import Libraries \n",
        "# deberia borrarlo y empezar un tuto de como usar google colab."
      ]
    },
    {
      "cell_type": "markdown",
      "metadata": {
        "id": "OyTQ71s1ytir",
        "colab_type": "text"
      },
      "source": [
        "##  Configuring your notebook instance ([fuente](https://course.fast.ai/start_colab.html#step-2-configuring-your-notebook-instance))\n",
        "\n",
        "\n",
        "1.  Before you start using your notebook, you need to install the necessary packages. You can do this by creating a code cell, and running:\n"
      ]
    },
    {
      "cell_type": "code",
      "metadata": {
        "id": "mStjMtE9y_1x",
        "colab_type": "code",
        "outputId": "14d6ac73-68d9-449a-9a4f-7eeb74be0d69",
        "colab": {
          "base_uri": "https://localhost:8080/",
          "height": 54
        }
      },
      "source": [
        "  !curl -s https://course.fast.ai/setup/colab | bash"
      ],
      "execution_count": 0,
      "outputs": [
        {
          "output_type": "stream",
          "text": [
            "Updating fastai...\n",
            "Done.\n"
          ],
          "name": "stdout"
        }
      ]
    },
    {
      "cell_type": "code",
      "metadata": {
        "id": "PBSbSfXs4VeT",
        "colab_type": "code",
        "colab": {}
      },
      "source": [
        "!pip install -q matplotlib-venn"
      ],
      "execution_count": 0,
      "outputs": []
    },
    {
      "cell_type": "code",
      "metadata": {
        "id": "YGZXyDOM4VdE",
        "colab_type": "code",
        "colab": {}
      },
      "source": [
        "!apt-get -qq install -y libfluidsynth1"
      ],
      "execution_count": 0,
      "outputs": []
    },
    {
      "cell_type": "code",
      "metadata": {
        "id": "LNrivHQJ4l0p",
        "colab_type": "code",
        "colab": {}
      },
      "source": [
        "# Install the PyDrive wrapper & import libraries.\n",
        "# This only needs to be done once per notebook.\n",
        "!pip install -U -q PyDrive\n",
        "from pydrive.auth import GoogleAuth\n",
        "from pydrive.drive import GoogleDrive\n",
        "from google.colab import auth\n",
        "from oauth2client.client import GoogleCredentials\n",
        "\n",
        "# Authenticate and create the PyDrive client.\n",
        "# This only needs to be done once per notebook.\n",
        "auth.authenticate_user()\n",
        "gauth = GoogleAuth()\n",
        "gauth.credentials = GoogleCredentials.get_application_default()\n",
        "drive = GoogleDrive(gauth)\n",
        "\n",
        "# Download a file based on its file ID.\n",
        "#\n",
        "# A file ID looks like: laggVyWshwcyP6kEI-y_W3P8D26sz\n",
        "file_id = 'REPLACE_WITH_YOUR_FILE_ID'\n",
        "downloaded = drive.CreateFile({'id': file_id})\n",
        "print('Downloaded content \"{}\"'.format(downloaded.GetContentString()))"
      ],
      "execution_count": 0,
      "outputs": []
    },
    {
      "cell_type": "markdown",
      "metadata": {
        "id": "rrF4xdXNMmqI",
        "colab_type": "text"
      },
      "source": [
        "# Primeros pasos en TensorFlow\n",
        "https://developers.google.com/machine-learning/crash-course/first-steps-with-tensorflow/video-lecture\n",
        "\n",
        "## First Steps with TensorFlow: Toolkit   \n",
        "Tensorflow is a computational framework for building machine learning models. TensorFlow provides a variety of different toolkits that allow you to construct models at your preferred level of abstraction. You can use lower-level APIs to build models by defining a series of mathematical operations. Alternatively, you can use higher-level APIs (like tf.estimator) to specify predefined architectures, such as linear regressors or neural networks.\n",
        "\n",
        "The following figure shows the current hierarchy of TensorFlow toolkits:\n",
        "\n",
        "![texto alternativo](https://developers.google.com/machine-learning/crash-course/images/TFHierarchy.svg)  \n",
        "**Figure 1. TensorFlow toolkit hierarchy.**  \n",
        "\n",
        "The following table summarizes the purposes of the different layers:  \n",
        "\n",
        "1.   **Estimator (tf.estimator)** \tHigh-level, OOP API.\n",
        "2.   **tf.layers/tf.losses/tf.metrics** \tLibraries for common model components.\n",
        "3.   **TensorFlow** \tLower-level APIs\n",
        "\n",
        "Very broadly speaking, here's the pseudocode for a linear classification program implemented in tf.estimator:\n",
        "\n",
        "```\n",
        "import tensorflow as tf\n",
        "\n",
        "# Set up a linear classifier.\n",
        "classifier = tf.estimator.LinearClassifier(feature_columns)\n",
        "\n",
        "# Train the model on some example data.\n",
        "classifier.train(input_fn=train_input_fn, steps=2000)\n",
        "\n",
        "# Use it to predict.\n",
        "predictions = classifier.predict(input_fn=predict_input_fn)\n",
        "```\n",
        "\n",
        "\n",
        "\n",
        "\n",
        "\n"
      ]
    },
    {
      "cell_type": "markdown",
      "metadata": {
        "id": "AvdrP9LdOv-o",
        "colab_type": "text"
      },
      "source": [
        "Run the following three exercises in the provided order:\n",
        "\n",
        "*    [Quick Introduction to pandas](https://colab.research.google.com/notebooks/mlcc/intro_to_pandas.ipynb?utm_source=mlcc&utm_campaign=colab-external&utm_medium=referral&utm_content=pandas-colab&hl=en) : pandas is an important library for data analysis and modeling, and is widely used in TensorFlow coding. This tutorial provides all the pandas information you need for this course. If you already know pandas, you can skip this exercise. (se corrió en documento [ **librerias_python.ipynb**](https://github.com/patosaid/apuntes_python/blob/master/librerias_python.ipynb) )\n",
        "*   [First Steps with TensorFlow](https://colab.research.google.com/notebooks/mlcc/first_steps_with_tensor_flow.ipynb?utm_source=mlcc&utm_campaign=colab-external&utm_medium=referral&utm_content=firststeps-colab&hl=en): This exercise explores linear regression. (a continuación)\n",
        "*   Synthetic Features and Outliers: This exercise explores synthetic features and the effect of input outliers.\n"
      ]
    },
    {
      "cell_type": "markdown",
      "metadata": {
        "id": "D0cEQ_UZp-8P",
        "colab_type": "text"
      },
      "source": [
        "## First Steps with TensorFlow\n",
        "**Learning Objectives:**\n",
        "  * Learn fundamental TensorFlow concepts\n",
        "  * Use the `LinearRegressor` class in TensorFlow to predict median housing price, at the granularity of city blocks, based on one input feature\n",
        "  * Evaluate the accuracy of a model's predictions using Root Mean Squared Error (RMSE)\n",
        "  * Improve the accuracy of a model by tuning its hyperparameters  \n",
        "  \n",
        "The [data](https://developers.google.com/machine-learning/crash-course/california-housing-data-description) is based on 1990 census data from California."
      ]
    },
    {
      "cell_type": "markdown",
      "metadata": {
        "id": "6jkShOMMqKI1",
        "colab_type": "text"
      },
      "source": [
        "## Setup (preparación)\n",
        "In this first cell, we'll load the necessary libraries."
      ]
    },
    {
      "cell_type": "code",
      "metadata": {
        "id": "4iWzeqsGqMoN",
        "colab_type": "code",
        "colab": {}
      },
      "source": [
        "from __future__ import print_function\n",
        "\n",
        "import math\n",
        "\n",
        "from IPython import display\n",
        "from matplotlib import cm\n",
        "from matplotlib import gridspec\n",
        "from matplotlib import pyplot as plt\n",
        "import numpy as np\n",
        "import pandas as pd\n",
        "from sklearn import metrics\n",
        "import tensorflow as tf\n",
        "from tensorflow.python.data import Dataset\n",
        "\n",
        "\n",
        "tf.logging.set_verbosity(tf.logging.ERROR)\n",
        "pd.options.display.max_rows = 10\n",
        "pd.options.display.float_format = '{:.1f}'.format\n"
      ],
      "execution_count": 0,
      "outputs": []
    },
    {
      "cell_type": "markdown",
      "metadata": {
        "id": "kySAIiS1qjeL",
        "colab_type": "text"
      },
      "source": [
        "Next, we'll load our data set."
      ]
    },
    {
      "cell_type": "code",
      "metadata": {
        "id": "gRiXDazDqlYT",
        "colab_type": "code",
        "outputId": "3ec937d1-d48f-4e9f-e02b-83d02fa08bb7",
        "colab": {
          "base_uri": "https://localhost:8080/",
          "height": 206
        }
      },
      "source": [
        "california_housing_dataframe = pd.read_csv(\"https://download.mlcc.google.com/mledu-datasets/california_housing_train.csv\", sep=\",\")\n",
        "california_housing_dataframe.head()"
      ],
      "execution_count": 0,
      "outputs": [
        {
          "output_type": "execute_result",
          "data": {
            "text/html": [
              "<div>\n",
              "<style scoped>\n",
              "    .dataframe tbody tr th:only-of-type {\n",
              "        vertical-align: middle;\n",
              "    }\n",
              "\n",
              "    .dataframe tbody tr th {\n",
              "        vertical-align: top;\n",
              "    }\n",
              "\n",
              "    .dataframe thead th {\n",
              "        text-align: right;\n",
              "    }\n",
              "</style>\n",
              "<table border=\"1\" class=\"dataframe\">\n",
              "  <thead>\n",
              "    <tr style=\"text-align: right;\">\n",
              "      <th></th>\n",
              "      <th>longitude</th>\n",
              "      <th>latitude</th>\n",
              "      <th>housing_median_age</th>\n",
              "      <th>total_rooms</th>\n",
              "      <th>total_bedrooms</th>\n",
              "      <th>population</th>\n",
              "      <th>households</th>\n",
              "      <th>median_income</th>\n",
              "      <th>median_house_value</th>\n",
              "    </tr>\n",
              "  </thead>\n",
              "  <tbody>\n",
              "    <tr>\n",
              "      <th>0</th>\n",
              "      <td>-114.3</td>\n",
              "      <td>34.2</td>\n",
              "      <td>15.0</td>\n",
              "      <td>5612.0</td>\n",
              "      <td>1283.0</td>\n",
              "      <td>1015.0</td>\n",
              "      <td>472.0</td>\n",
              "      <td>1.5</td>\n",
              "      <td>66900.0</td>\n",
              "    </tr>\n",
              "    <tr>\n",
              "      <th>1</th>\n",
              "      <td>-114.5</td>\n",
              "      <td>34.4</td>\n",
              "      <td>19.0</td>\n",
              "      <td>7650.0</td>\n",
              "      <td>1901.0</td>\n",
              "      <td>1129.0</td>\n",
              "      <td>463.0</td>\n",
              "      <td>1.8</td>\n",
              "      <td>80100.0</td>\n",
              "    </tr>\n",
              "    <tr>\n",
              "      <th>2</th>\n",
              "      <td>-114.6</td>\n",
              "      <td>33.7</td>\n",
              "      <td>17.0</td>\n",
              "      <td>720.0</td>\n",
              "      <td>174.0</td>\n",
              "      <td>333.0</td>\n",
              "      <td>117.0</td>\n",
              "      <td>1.7</td>\n",
              "      <td>85700.0</td>\n",
              "    </tr>\n",
              "    <tr>\n",
              "      <th>3</th>\n",
              "      <td>-114.6</td>\n",
              "      <td>33.6</td>\n",
              "      <td>14.0</td>\n",
              "      <td>1501.0</td>\n",
              "      <td>337.0</td>\n",
              "      <td>515.0</td>\n",
              "      <td>226.0</td>\n",
              "      <td>3.2</td>\n",
              "      <td>73400.0</td>\n",
              "    </tr>\n",
              "    <tr>\n",
              "      <th>4</th>\n",
              "      <td>-114.6</td>\n",
              "      <td>33.6</td>\n",
              "      <td>20.0</td>\n",
              "      <td>1454.0</td>\n",
              "      <td>326.0</td>\n",
              "      <td>624.0</td>\n",
              "      <td>262.0</td>\n",
              "      <td>1.9</td>\n",
              "      <td>65500.0</td>\n",
              "    </tr>\n",
              "  </tbody>\n",
              "</table>\n",
              "</div>"
            ],
            "text/plain": [
              "   longitude  latitude  ...  median_income  median_house_value\n",
              "0     -114.3      34.2  ...            1.5             66900.0\n",
              "1     -114.5      34.4  ...            1.8             80100.0\n",
              "2     -114.6      33.7  ...            1.7             85700.0\n",
              "3     -114.6      33.6  ...            3.2             73400.0\n",
              "4     -114.6      33.6  ...            1.9             65500.0\n",
              "\n",
              "[5 rows x 9 columns]"
            ]
          },
          "metadata": {
            "tags": []
          },
          "execution_count": 3
        }
      ]
    },
    {
      "cell_type": "markdown",
      "metadata": {
        "id": "FS4RQ78Cqn-c",
        "colab_type": "text"
      },
      "source": [
        "We'll randomize the data, just to be sure not to get any pathological ordering effects that might harm the performance of Stochastic Gradient Descent. Additionally, we'll scale `median_house_value` to be in units of thousands, so it can be learned a little more easily with learning rates in a range that we usually use."
      ]
    },
    {
      "cell_type": "code",
      "metadata": {
        "id": "qNUtnb4PqqPO",
        "colab_type": "code",
        "outputId": "88817322-36b1-4ba9-83fa-a56849641838",
        "colab": {
          "base_uri": "https://localhost:8080/",
          "height": 444
        }
      },
      "source": [
        "california_housing_dataframe = california_housing_dataframe.reindex(\n",
        "    np.random.permutation(california_housing_dataframe.index))\n",
        "california_housing_dataframe[\"median_house_value\"] /= 1000.0\n",
        "california_housing_dataframe"
      ],
      "execution_count": 0,
      "outputs": [
        {
          "output_type": "execute_result",
          "data": {
            "text/html": [
              "<div>\n",
              "<style scoped>\n",
              "    .dataframe tbody tr th:only-of-type {\n",
              "        vertical-align: middle;\n",
              "    }\n",
              "\n",
              "    .dataframe tbody tr th {\n",
              "        vertical-align: top;\n",
              "    }\n",
              "\n",
              "    .dataframe thead th {\n",
              "        text-align: right;\n",
              "    }\n",
              "</style>\n",
              "<table border=\"1\" class=\"dataframe\">\n",
              "  <thead>\n",
              "    <tr style=\"text-align: right;\">\n",
              "      <th></th>\n",
              "      <th>longitude</th>\n",
              "      <th>latitude</th>\n",
              "      <th>housing_median_age</th>\n",
              "      <th>total_rooms</th>\n",
              "      <th>total_bedrooms</th>\n",
              "      <th>population</th>\n",
              "      <th>households</th>\n",
              "      <th>median_income</th>\n",
              "      <th>median_house_value</th>\n",
              "    </tr>\n",
              "  </thead>\n",
              "  <tbody>\n",
              "    <tr>\n",
              "      <th>3565</th>\n",
              "      <td>-117.9</td>\n",
              "      <td>34.0</td>\n",
              "      <td>15.0</td>\n",
              "      <td>8749.0</td>\n",
              "      <td>1761.0</td>\n",
              "      <td>5278.0</td>\n",
              "      <td>1691.0</td>\n",
              "      <td>4.6</td>\n",
              "      <td>168.8</td>\n",
              "    </tr>\n",
              "    <tr>\n",
              "      <th>13768</th>\n",
              "      <td>-122.0</td>\n",
              "      <td>38.0</td>\n",
              "      <td>25.0</td>\n",
              "      <td>1476.0</td>\n",
              "      <td>336.0</td>\n",
              "      <td>777.0</td>\n",
              "      <td>297.0</td>\n",
              "      <td>3.5</td>\n",
              "      <td>165.5</td>\n",
              "    </tr>\n",
              "    <tr>\n",
              "      <th>7970</th>\n",
              "      <td>-118.4</td>\n",
              "      <td>34.0</td>\n",
              "      <td>24.0</td>\n",
              "      <td>3711.0</td>\n",
              "      <td>1192.0</td>\n",
              "      <td>1764.0</td>\n",
              "      <td>1147.0</td>\n",
              "      <td>3.2</td>\n",
              "      <td>366.7</td>\n",
              "    </tr>\n",
              "    <tr>\n",
              "      <th>14361</th>\n",
              "      <td>-122.1</td>\n",
              "      <td>37.7</td>\n",
              "      <td>42.0</td>\n",
              "      <td>1472.0</td>\n",
              "      <td>310.0</td>\n",
              "      <td>768.0</td>\n",
              "      <td>309.0</td>\n",
              "      <td>3.5</td>\n",
              "      <td>160.9</td>\n",
              "    </tr>\n",
              "    <tr>\n",
              "      <th>15783</th>\n",
              "      <td>-122.4</td>\n",
              "      <td>37.8</td>\n",
              "      <td>52.0</td>\n",
              "      <td>361.0</td>\n",
              "      <td>76.0</td>\n",
              "      <td>168.0</td>\n",
              "      <td>55.0</td>\n",
              "      <td>3.2</td>\n",
              "      <td>275.0</td>\n",
              "    </tr>\n",
              "    <tr>\n",
              "      <th>...</th>\n",
              "      <td>...</td>\n",
              "      <td>...</td>\n",
              "      <td>...</td>\n",
              "      <td>...</td>\n",
              "      <td>...</td>\n",
              "      <td>...</td>\n",
              "      <td>...</td>\n",
              "      <td>...</td>\n",
              "      <td>...</td>\n",
              "    </tr>\n",
              "    <tr>\n",
              "      <th>10165</th>\n",
              "      <td>-119.8</td>\n",
              "      <td>36.5</td>\n",
              "      <td>19.0</td>\n",
              "      <td>1310.0</td>\n",
              "      <td>241.0</td>\n",
              "      <td>702.0</td>\n",
              "      <td>217.0</td>\n",
              "      <td>2.4</td>\n",
              "      <td>78.2</td>\n",
              "    </tr>\n",
              "    <tr>\n",
              "      <th>15428</th>\n",
              "      <td>-122.3</td>\n",
              "      <td>37.5</td>\n",
              "      <td>40.0</td>\n",
              "      <td>1833.0</td>\n",
              "      <td>308.0</td>\n",
              "      <td>751.0</td>\n",
              "      <td>306.0</td>\n",
              "      <td>6.0</td>\n",
              "      <td>384.2</td>\n",
              "    </tr>\n",
              "    <tr>\n",
              "      <th>9903</th>\n",
              "      <td>-119.7</td>\n",
              "      <td>36.8</td>\n",
              "      <td>19.0</td>\n",
              "      <td>1699.0</td>\n",
              "      <td>356.0</td>\n",
              "      <td>994.0</td>\n",
              "      <td>368.0</td>\n",
              "      <td>2.8</td>\n",
              "      <td>79.7</td>\n",
              "    </tr>\n",
              "    <tr>\n",
              "      <th>8365</th>\n",
              "      <td>-118.5</td>\n",
              "      <td>34.0</td>\n",
              "      <td>52.0</td>\n",
              "      <td>888.0</td>\n",
              "      <td>206.0</td>\n",
              "      <td>376.0</td>\n",
              "      <td>194.0</td>\n",
              "      <td>3.9</td>\n",
              "      <td>372.0</td>\n",
              "    </tr>\n",
              "    <tr>\n",
              "      <th>12779</th>\n",
              "      <td>-121.8</td>\n",
              "      <td>38.7</td>\n",
              "      <td>11.0</td>\n",
              "      <td>3851.0</td>\n",
              "      <td>892.0</td>\n",
              "      <td>1847.0</td>\n",
              "      <td>747.0</td>\n",
              "      <td>3.4</td>\n",
              "      <td>120.6</td>\n",
              "    </tr>\n",
              "  </tbody>\n",
              "</table>\n",
              "<p>17000 rows × 9 columns</p>\n",
              "</div>"
            ],
            "text/plain": [
              "       longitude  latitude  ...  median_income  median_house_value\n",
              "3565      -117.9      34.0  ...            4.6               168.8\n",
              "13768     -122.0      38.0  ...            3.5               165.5\n",
              "7970      -118.4      34.0  ...            3.2               366.7\n",
              "14361     -122.1      37.7  ...            3.5               160.9\n",
              "15783     -122.4      37.8  ...            3.2               275.0\n",
              "...          ...       ...  ...            ...                 ...\n",
              "10165     -119.8      36.5  ...            2.4                78.2\n",
              "15428     -122.3      37.5  ...            6.0               384.2\n",
              "9903      -119.7      36.8  ...            2.8                79.7\n",
              "8365      -118.5      34.0  ...            3.9               372.0\n",
              "12779     -121.8      38.7  ...            3.4               120.6\n",
              "\n",
              "[17000 rows x 9 columns]"
            ]
          },
          "metadata": {
            "tags": []
          },
          "execution_count": 4
        }
      ]
    },
    {
      "cell_type": "markdown",
      "metadata": {
        "id": "xWyCuHqUWxXl",
        "colab_type": "text"
      },
      "source": [
        "## Análisis de los datos\n",
        "\n",
        "Antes de construir un modelo es importante explorar los datos, conocer los min y max , medias , etc. (las estadísticas descriptivas)."
      ]
    },
    {
      "cell_type": "code",
      "metadata": {
        "id": "kNr8Pd7sXHRo",
        "colab_type": "code",
        "outputId": "8a576794-b1fb-4cc8-e0e6-c745b3044ee1",
        "colab": {
          "base_uri": "https://localhost:8080/",
          "height": 320
        }
      },
      "source": [
        "california_housing_dataframe.describe()"
      ],
      "execution_count": 0,
      "outputs": [
        {
          "output_type": "execute_result",
          "data": {
            "text/html": [
              "<div>\n",
              "<style scoped>\n",
              "    .dataframe tbody tr th:only-of-type {\n",
              "        vertical-align: middle;\n",
              "    }\n",
              "\n",
              "    .dataframe tbody tr th {\n",
              "        vertical-align: top;\n",
              "    }\n",
              "\n",
              "    .dataframe thead th {\n",
              "        text-align: right;\n",
              "    }\n",
              "</style>\n",
              "<table border=\"1\" class=\"dataframe\">\n",
              "  <thead>\n",
              "    <tr style=\"text-align: right;\">\n",
              "      <th></th>\n",
              "      <th>longitude</th>\n",
              "      <th>latitude</th>\n",
              "      <th>housing_median_age</th>\n",
              "      <th>total_rooms</th>\n",
              "      <th>total_bedrooms</th>\n",
              "      <th>population</th>\n",
              "      <th>households</th>\n",
              "      <th>median_income</th>\n",
              "      <th>median_house_value</th>\n",
              "    </tr>\n",
              "  </thead>\n",
              "  <tbody>\n",
              "    <tr>\n",
              "      <th>count</th>\n",
              "      <td>17000.0</td>\n",
              "      <td>17000.0</td>\n",
              "      <td>17000.0</td>\n",
              "      <td>17000.0</td>\n",
              "      <td>17000.0</td>\n",
              "      <td>17000.0</td>\n",
              "      <td>17000.0</td>\n",
              "      <td>17000.0</td>\n",
              "      <td>17000.0</td>\n",
              "    </tr>\n",
              "    <tr>\n",
              "      <th>mean</th>\n",
              "      <td>-119.6</td>\n",
              "      <td>35.6</td>\n",
              "      <td>28.6</td>\n",
              "      <td>2643.7</td>\n",
              "      <td>539.4</td>\n",
              "      <td>1429.6</td>\n",
              "      <td>501.2</td>\n",
              "      <td>3.9</td>\n",
              "      <td>207.3</td>\n",
              "    </tr>\n",
              "    <tr>\n",
              "      <th>std</th>\n",
              "      <td>2.0</td>\n",
              "      <td>2.1</td>\n",
              "      <td>12.6</td>\n",
              "      <td>2179.9</td>\n",
              "      <td>421.5</td>\n",
              "      <td>1147.9</td>\n",
              "      <td>384.5</td>\n",
              "      <td>1.9</td>\n",
              "      <td>116.0</td>\n",
              "    </tr>\n",
              "    <tr>\n",
              "      <th>min</th>\n",
              "      <td>-124.3</td>\n",
              "      <td>32.5</td>\n",
              "      <td>1.0</td>\n",
              "      <td>2.0</td>\n",
              "      <td>1.0</td>\n",
              "      <td>3.0</td>\n",
              "      <td>1.0</td>\n",
              "      <td>0.5</td>\n",
              "      <td>15.0</td>\n",
              "    </tr>\n",
              "    <tr>\n",
              "      <th>25%</th>\n",
              "      <td>-121.8</td>\n",
              "      <td>33.9</td>\n",
              "      <td>18.0</td>\n",
              "      <td>1462.0</td>\n",
              "      <td>297.0</td>\n",
              "      <td>790.0</td>\n",
              "      <td>282.0</td>\n",
              "      <td>2.6</td>\n",
              "      <td>119.4</td>\n",
              "    </tr>\n",
              "    <tr>\n",
              "      <th>50%</th>\n",
              "      <td>-118.5</td>\n",
              "      <td>34.2</td>\n",
              "      <td>29.0</td>\n",
              "      <td>2127.0</td>\n",
              "      <td>434.0</td>\n",
              "      <td>1167.0</td>\n",
              "      <td>409.0</td>\n",
              "      <td>3.5</td>\n",
              "      <td>180.4</td>\n",
              "    </tr>\n",
              "    <tr>\n",
              "      <th>75%</th>\n",
              "      <td>-118.0</td>\n",
              "      <td>37.7</td>\n",
              "      <td>37.0</td>\n",
              "      <td>3151.2</td>\n",
              "      <td>648.2</td>\n",
              "      <td>1721.0</td>\n",
              "      <td>605.2</td>\n",
              "      <td>4.8</td>\n",
              "      <td>265.0</td>\n",
              "    </tr>\n",
              "    <tr>\n",
              "      <th>max</th>\n",
              "      <td>-114.3</td>\n",
              "      <td>42.0</td>\n",
              "      <td>52.0</td>\n",
              "      <td>37937.0</td>\n",
              "      <td>6445.0</td>\n",
              "      <td>35682.0</td>\n",
              "      <td>6082.0</td>\n",
              "      <td>15.0</td>\n",
              "      <td>500.0</td>\n",
              "    </tr>\n",
              "  </tbody>\n",
              "</table>\n",
              "</div>"
            ],
            "text/plain": [
              "       longitude  latitude  ...  median_income  median_house_value\n",
              "count    17000.0   17000.0  ...        17000.0             17000.0\n",
              "mean      -119.6      35.6  ...            3.9               207.3\n",
              "std          2.0       2.1  ...            1.9               116.0\n",
              "min       -124.3      32.5  ...            0.5                15.0\n",
              "25%       -121.8      33.9  ...            2.6               119.4\n",
              "50%       -118.5      34.2  ...            3.5               180.4\n",
              "75%       -118.0      37.7  ...            4.8               265.0\n",
              "max       -114.3      42.0  ...           15.0               500.0\n",
              "\n",
              "[8 rows x 9 columns]"
            ]
          },
          "metadata": {
            "tags": []
          },
          "execution_count": 6
        }
      ]
    },
    {
      "cell_type": "markdown",
      "metadata": {
        "id": "2XtObdV0XQRT",
        "colab_type": "text"
      },
      "source": [
        "## Creación del modelo\n",
        "\n",
        "El objetivo de este ejemplo es estimar el `median_house_value` ( este vendría siendo el *label* o *target* ). Se usará `total_rooms` como la variable de entrada.  \n",
        "**NOTA:** Nuestros datos están a nivel de manzana, de manera que este atributo representa el número total de habitaciones en esa manzana.\n",
        "\n",
        "Para entrenar nuestro modelo, usaremos la interfaz de [LinearRegressor](https://www.tensorflow.org/api_docs/python/tf/estimator/LinearRegressor) que proporciona la API de [Estimator](https://www.tensorflow.org/get_started/estimator) de TensorFlow. Esta API se ocupa en gran medida del ajuste del modelo de bajo nivel y presenta métodos convenientes para realizar el entrenamiento, la evaluación y la inferencia del modelo."
      ]
    },
    {
      "cell_type": "markdown",
      "metadata": {
        "id": "ywS-HDJBYhsJ",
        "colab_type": "text"
      },
      "source": [
        "### Paso 1: Define atributos y configura columnas de atributos"
      ]
    },
    {
      "cell_type": "markdown",
      "metadata": {
        "id": "QpltXW1JYi0u",
        "colab_type": "text"
      },
      "source": [
        "Se debe especificar el tipo de dato de cada atributo. Hay dos tipos de datos :\n",
        "\n",
        "* **Datos categóricos**: Datos que son textuales. En este ejercicio, nuestro conjunto de datos de viviendas no contiene atributos categóricos, pero los ejemplos que podrías ver son el estilo de la casa o las palabras en un anuncio de bienes raíces.\n",
        "\n",
        "* **Datos numéricos**: Datos que son un número (entero o de punto flotante) y que quieres tratar como un número. Como se analizará más adelante, a veces quieres tratar los datos numéricos (p. ej., un código postal) como si fueran categóricos.\n",
        "\n",
        "En TensorFlow, indicamos el tipo de datos de un atributo a través de un constructo denominado **feature column**. Las columnas de atributos almacenan solo una descripción de los datos de los atributos; no contienen los datos de los atributos en sí.\n",
        "\n",
        "Para comenzar, usaremos solo un atributo de entrada numérica, `total_rooms`. El siguiente código extrae los datos de `total_rooms` de nuestro `california_housing_dataframe` y define la columna de atributos con `numeric_column`, que especifica que los datos son numéricos:"
      ]
    },
    {
      "cell_type": "code",
      "metadata": {
        "id": "tRc3xaxTYhSb",
        "colab_type": "code",
        "colab": {}
      },
      "source": [
        "# Define the input feature: total_rooms.\n",
        "my_feature = california_housing_dataframe[[\"total_rooms\"]]\n",
        "\n",
        "# Configure a numeric feature column for total_rooms.\n",
        "feature_columns = [tf.feature_column.numeric_column(\"total_rooms\")]"
      ],
      "execution_count": 0,
      "outputs": []
    },
    {
      "cell_type": "markdown",
      "metadata": {
        "id": "bD52Ees5ZQCa",
        "colab_type": "text"
      },
      "source": [
        "**NOTA** : La forma de nuestros datos de total_rooms es una matriz de una dimensión (una lista del número total de habitaciones por cada manzana). Esta es la forma predeterminada para numeric_column, de manera que no tenemos que pasarla como un argumento.\n"
      ]
    },
    {
      "cell_type": "code",
      "metadata": {
        "id": "OA7r-NM3WveY",
        "colab_type": "code",
        "outputId": "c8051eff-626f-4765-da7d-b1ff3803e378",
        "colab": {
          "base_uri": "https://localhost:8080/",
          "height": 148
        }
      },
      "source": [
        "print(my_feature.head())\n",
        "print(feature_columns)\n"
      ],
      "execution_count": 0,
      "outputs": [
        {
          "output_type": "stream",
          "text": [
            "       total_rooms\n",
            "3565        8749.0\n",
            "13768       1476.0\n",
            "7970        3711.0\n",
            "14361       1472.0\n",
            "15783        361.0\n",
            "[NumericColumn(key='total_rooms', shape=(1,), default_value=None, dtype=tf.float32, normalizer_fn=None)]\n"
          ],
          "name": "stdout"
        }
      ]
    },
    {
      "cell_type": "markdown",
      "metadata": {
        "id": "p0W4lMhtZtT_",
        "colab_type": "text"
      },
      "source": [
        "**Paso 2**: Define el objetivo (target)"
      ]
    },
    {
      "cell_type": "markdown",
      "metadata": {
        "id": "6G6FkRbvZ3TZ",
        "colab_type": "text"
      },
      "source": [
        " A continuación, definiremos nuestro objetivo, que es `median_house_value`. Nuevamente, podemos extraerlo de nuestro `california_housing_dataframe`:"
      ]
    },
    {
      "cell_type": "code",
      "metadata": {
        "id": "J-YHMob1Z_Kt",
        "colab_type": "code",
        "outputId": "a141f821-1958-439c-ec06-481b0e6677bf",
        "colab": {
          "base_uri": "https://localhost:8080/",
          "height": 129
        }
      },
      "source": [
        "# Define the label.\n",
        "targets = california_housing_dataframe[\"median_house_value\"]\n",
        "targets.head()"
      ],
      "execution_count": 0,
      "outputs": [
        {
          "output_type": "execute_result",
          "data": {
            "text/plain": [
              "3565    168.8\n",
              "13768   165.5\n",
              "7970    366.7\n",
              "14361   160.9\n",
              "15783   275.0\n",
              "Name: median_house_value, dtype: float64"
            ]
          },
          "metadata": {
            "tags": []
          },
          "execution_count": 15
        }
      ]
    },
    {
      "cell_type": "markdown",
      "metadata": {
        "id": "-kQivXoWaMXa",
        "colab_type": "text"
      },
      "source": [
        "### Step 3: Configure the LinearRegressor"
      ]
    },
    {
      "cell_type": "markdown",
      "metadata": {
        "id": "v3uYQnf2aM1W",
        "colab_type": "text"
      },
      "source": [
        "Next, we'll configure a linear regression model using LinearRegressor. We'll train this model using the `GradientDescentOptimizer`, which implements Mini-Batch Stochastic Gradient Descent (SGD). The `learning_rate` argument controls the size of the gradient step.\n",
        "\n",
        "**NOTE:** To be safe, we also apply [gradient clipping](https://developers.google.com/machine-learning/glossary/#gradient_clipping) to our optimizer via `clip_gradients_by_norm`. Gradient clipping ensures the magnitude of the gradients do not become too large during training, which can cause gradient descent to fail. "
      ]
    },
    {
      "cell_type": "code",
      "metadata": {
        "id": "VOzqcyzsbuFd",
        "colab_type": "code",
        "outputId": "c04397e2-91a9-40d1-82d1-dd42235139ff",
        "colab": {
          "base_uri": "https://localhost:8080/",
          "height": 36
        }
      },
      "source": [
        "# Use gradient descent as the optimizer for training the model.\n",
        "my_optimizer = tf.train.GradientDescentOptimizer(learning_rate=0.0000001)\n",
        "my_optimizer = tf.contrib.estimator.clip_gradients_by_norm(my_optimizer, 5.0)\n",
        "\n",
        "# Configure the linear regression model with our feature columns and optimizer.\n",
        "# Set a learning rate of 0.0000001 for Gradient Descent.\n",
        "linear_regressor = tf.estimator.LinearRegressor(\n",
        "    feature_columns=feature_columns,\n",
        "    optimizer=my_optimizer\n",
        ")\n",
        "type(my_optimizer)"
      ],
      "execution_count": 0,
      "outputs": [
        {
          "output_type": "execute_result",
          "data": {
            "text/plain": [
              "tensorflow_estimator.contrib.estimator.python.estimator.extenders._TransformGradients"
            ]
          },
          "metadata": {
            "tags": []
          },
          "execution_count": 21
        }
      ]
    },
    {
      "cell_type": "markdown",
      "metadata": {
        "id": "Bpxi_Exnchrr",
        "colab_type": "text"
      },
      "source": [
        "### Step 4: Define the Input Function\n"
      ]
    },
    {
      "cell_type": "markdown",
      "metadata": {
        "id": "Mf6MMzPpckyr",
        "colab_type": "text"
      },
      "source": [
        "To import our California housing data into our `LinearRegressor`, we need to define an input function, which instructs TensorFlow how to preprocess\n",
        "the data , as well as how to batch (lotes), shuffle (aleatorizarlos), and repeat it during model training.\n",
        "\n",
        "First, we'll convert our *pandas* feature data into a dict of NumPy arrays. We can then use the TensorFlow [Dataset API](https://www.tensorflow.org/programmers_guide/datasets) to construct a dataset object from our data, and then break\n",
        "our data into batches of `batch_size`, to be repeated for the specified number of epochs (num_epochs). \n",
        "\n",
        "**NOTE:** When the default value of `num_epochs=None` is passed to `repeat()`, the input data will be repeated indefinitely.\n",
        "\n",
        "Next, if `shuffle` is set to `True`, we'll shuffle the data so that it's passed to the model randomly during training. The `buffer_size` argument specifies\n",
        "the size of the dataset from which `shuffle` will randomly sample.\n",
        "\n",
        "Finally, our input function constructs an iterator for the dataset and returns the next batch of data to the LinearRegressor."
      ]
    },
    {
      "cell_type": "code",
      "metadata": {
        "id": "2lcL5eJdcjQR",
        "colab_type": "code",
        "colab": {}
      },
      "source": [
        "def my_input_fn(features, targets, batch_size=1, shuffle=True, num_epochs=None):\n",
        "    \"\"\"Trains a linear regression model of one feature.\n",
        "  \n",
        "    Args:\n",
        "      features: pandas DataFrame of features\n",
        "      targets: pandas DataFrame of targets\n",
        "      batch_size: Size of batches to be passed to the model\n",
        "      shuffle: True or False. Whether to shuffle the data.\n",
        "      num_epochs: Number of epochs for which data should be repeated. None = repeat indefinitely\n",
        "    Returns:\n",
        "      Tuple of (features, labels) for next data batch\n",
        "    \"\"\"\n",
        "  \n",
        "    # Convert pandas data into a dict of np arrays.\n",
        "    features = {key:np.array(value) for key,value in dict(features).items()}                                           \n",
        " \n",
        "    # Construct a dataset, and configure batching/repeating.\n",
        "    ds = Dataset.from_tensor_slices((features,targets)) # warning: 2GB limit\n",
        "    ds = ds.batch(batch_size).repeat(num_epochs)\n",
        "    \n",
        "    # Shuffle the data, if specified.\n",
        "    if shuffle:\n",
        "      ds = ds.shuffle(buffer_size=10000)\n",
        "    \n",
        "    # Return the next batch of data.\n",
        "    features, labels = ds.make_one_shot_iterator().get_next()\n",
        "    return features, labels"
      ],
      "execution_count": 0,
      "outputs": []
    },
    {
      "cell_type": "markdown",
      "metadata": {
        "id": "dqL0szfefeWF",
        "colab_type": "text"
      },
      "source": [
        "**NOTE:** We'll continue to use this same input function in later exercises. For more\n",
        "detailed documentation of input functions and the `Dataset` API, see the [TensorFlow Programmer's Guide](https://www.tensorflow.org/programmers_guide/datasets)."
      ]
    },
    {
      "cell_type": "markdown",
      "metadata": {
        "id": "vJpNg-gPfwYW",
        "colab_type": "text"
      },
      "source": [
        "### Step 5: Train the Model\n"
      ]
    },
    {
      "cell_type": "markdown",
      "metadata": {
        "id": "Pcl_SwE8gLNZ",
        "colab_type": "text"
      },
      "source": [
        " Ahora podemos llamar a `train()` en nuestro `linear_regressor` para entrenar el modelo. Uniremos `my_input_fn` en una `lambda` para poder pasar `my_feature` y `target` como argumentos (para obtener más detalles, consulta este [instructivo sobre funciones de entrada de TensorFlow](https://www.tensorflow.org/get_started/input_fn#passing_input_fn_data_to_your_model)) y, para comenzar, entrenaremos el modelo para 100 pasos."
      ]
    },
    {
      "cell_type": "code",
      "metadata": {
        "id": "YNTbqjcSgcab",
        "colab_type": "code",
        "colab": {}
      },
      "source": [
        "_ = linear_regressor.train(\n",
        "    input_fn = lambda:my_input_fn(my_feature, targets),\n",
        "    steps=100\n",
        ")"
      ],
      "execution_count": 0,
      "outputs": []
    },
    {
      "cell_type": "markdown",
      "metadata": {
        "id": "_8zS9hSVgJyg",
        "colab_type": "text"
      },
      "source": [
        "# (pendiente) Evaluar modelo...."
      ]
    },
    {
      "cell_type": "markdown",
      "metadata": {
        "id": "SHF1ekqJgH4i",
        "colab_type": "text"
      },
      "source": [
        ""
      ]
    }
  ]
}
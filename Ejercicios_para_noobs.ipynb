{
  "nbformat": 4,
  "nbformat_minor": 0,
  "metadata": {
    "colab": {
      "name": "Ejercicios para noobs.ipynb",
      "version": "0.3.2",
      "provenance": [],
      "collapsed_sections": [],
      "include_colab_link": true
    },
    "kernelspec": {
      "name": "python3",
      "display_name": "Python 3"
    }
  },
  "cells": [
    {
      "cell_type": "markdown",
      "metadata": {
        "id": "view-in-github",
        "colab_type": "text"
      },
      "source": [
        "<a href=\"https://colab.research.google.com/github/patosaid/apuntes_python/blob/master/Ejercicios_para_noobs.ipynb\" target=\"_parent\"><img src=\"https://colab.research.google.com/assets/colab-badge.svg\" alt=\"Open In Colab\"/></a>"
      ]
    },
    {
      "cell_type": "markdown",
      "metadata": {
        "id": "vwPWnaC8eDDT",
        "colab_type": "text"
      },
      "source": [
        "# Ejercicio 1: Fibonacci <3"
      ]
    },
    {
      "cell_type": "markdown",
      "metadata": {
        "id": "KoeF4mC_eZB8",
        "colab_type": "text"
      },
      "source": [
        "Imprimir la sequencia del Fibonacci:  1, 1, 2, 3, 5, 8, 13, … . \n",
        "Pedir que se ingrese un número para imprimir esa cantidad.  \n",
        "tag: loop , for , input, serie ,  for, while, funcion, list"
      ]
    },
    {
      "cell_type": "code",
      "metadata": {
        "id": "73BjtDqAeABH",
        "colab_type": "code",
        "colab": {
          "base_uri": "https://localhost:8080/",
          "height": 73
        },
        "outputId": "e7eac3e1-2f80-470b-d25b-d4e7a177752c"
      },
      "source": [
        "numero = input(\"Introduce un numero: \")\n",
        "a = 0\n",
        "b = 1\n",
        "c = 1\n",
        "for i in range(int(numero)):\n",
        "  print(c)\n",
        "  c = a+b\n",
        "  a = b\n",
        "  b = c"
      ],
      "execution_count": 17,
      "outputs": [
        {
          "output_type": "stream",
          "text": [
            "Introduce un numero: 2\n",
            "1\n",
            "1\n"
          ],
          "name": "stdout"
        }
      ]
    },
    {
      "cell_type": "code",
      "metadata": {
        "id": "Rxu8EXDlsSHt",
        "colab_type": "code",
        "colab": {
          "base_uri": "https://localhost:8080/",
          "height": 36
        },
        "outputId": "9122fd46-93ac-4913-c93f-5ec8be514b52"
      },
      "source": [
        "  n=5\n",
        "  i=1\n",
        "  fib = [1,1]\n",
        "  while i < int(n)-1:\n",
        "    fib.append(fib[i-1]+fib[i])\n",
        "    i +=1\n",
        "print(fib)"
      ],
      "execution_count": 75,
      "outputs": [
        {
          "output_type": "stream",
          "text": [
            "[1, 1, 2, 3, 5]\n"
          ],
          "name": "stdout"
        }
      ]
    },
    {
      "cell_type": "markdown",
      "metadata": {
        "id": "C6_H_k95v2Nx",
        "colab_type": "text"
      },
      "source": [
        "### Usando funcion ,while, y list"
      ]
    },
    {
      "cell_type": "code",
      "metadata": {
        "id": "fyGstGSOuAgF",
        "colab_type": "code",
        "colab": {
          "base_uri": "https://localhost:8080/",
          "height": 92
        },
        "outputId": "90710e98-9d44-4f33-b3a1-cda88ddc19a1"
      },
      "source": [
        "def fibo():\n",
        "  n = int(input(\"Ingrese un numero \"))\n",
        "  if n <= 0:\n",
        "    fib =[]\n",
        "  elif n == 1:\n",
        "    fib = [1]\n",
        "  elif n>1:\n",
        "    i=1\n",
        "    fib = [1,1]\n",
        "    while i < int(n)-1:\n",
        "      fib.append(fib[i-1]+fib[i])\n",
        "      i +=1\n",
        "  return fib\n",
        "\n",
        "print(fibo())\n",
        "\n",
        "x = fibo()\n",
        "type(x)"
      ],
      "execution_count": 74,
      "outputs": [
        {
          "output_type": "stream",
          "text": [
            "Ingrese un numero 4\n",
            "[1, 1, 2, 3]\n",
            "Ingrese un numero 4\n"
          ],
          "name": "stdout"
        },
        {
          "output_type": "execute_result",
          "data": {
            "text/plain": [
              "list"
            ]
          },
          "metadata": {
            "tags": []
          },
          "execution_count": 74
        }
      ]
    },
    {
      "cell_type": "markdown",
      "metadata": {
        "id": "XNZc7ZFswfpj",
        "colab_type": "text"
      },
      "source": [
        " # Ejercicio 2 Crear funcion `menorque()`\n",
        " Define una función llamada `menorque()` que nos devuelva en pantalla el número menor entre dos enteros. \n",
        " tag: if, ifelse, else: , %d, funcion\n",
        " "
      ]
    },
    {
      "cell_type": "code",
      "metadata": {
        "id": "I2foQAXewt_P",
        "colab_type": "code",
        "colab": {
          "base_uri": "https://localhost:8080/",
          "height": 73
        },
        "outputId": "86f09b4d-4693-44e5-b10d-c4ddcb5a95e1"
      },
      "source": [
        "a = int(input(\"Ingrese un número a: \"))\n",
        "b = int(input(\"Ingrese un número b: \"))\n",
        "\n",
        "def menorque(x,y):\n",
        "  if x < y:\n",
        "    print(\"%d es menor que %d\" %(x,y))\n",
        "  elif x > y:\n",
        "    print(str(x)+ \" es mayor que \" + str(y))\n",
        "  else:\n",
        "    print(\"son iguales\")\n",
        "    \n",
        "menorque(a,b)"
      ],
      "execution_count": 89,
      "outputs": [
        {
          "output_type": "stream",
          "text": [
            "Ingrese un número a: 4\n",
            "Ingrese un número b: 5\n",
            "4 es menor que 5\n"
          ],
          "name": "stdout"
        }
      ]
    },
    {
      "cell_type": "markdown",
      "metadata": {
        "id": "ET3RSc3nzCUW",
        "colab_type": "text"
      },
      "source": [
        "# Ejercicio 3 Número máximo y mínimo"
      ]
    },
    {
      "cell_type": "markdown",
      "metadata": {
        "id": "tYeDTIcgzQuM",
        "colab_type": "text"
      },
      "source": [
        "Define una función llamada `num_max_min()` que nos devuelva en pantalla el número mayor y menor entre 3 diferentes enteros. \n",
        "tag: funcion, if , elif, else"
      ]
    },
    {
      "cell_type": "code",
      "metadata": {
        "id": "9N9Er1GPzT4U",
        "colab_type": "code",
        "colab": {
          "base_uri": "https://localhost:8080/",
          "height": 36
        },
        "outputId": "54cf340c-79eb-4701-f060-fb2265b0adf0"
      },
      "source": [
        "# me salió largo pero q le vamo hacerle\n",
        "def num_max_min(x,y,z):\n",
        "  if x>y and x>z:\n",
        "    max=x\n",
        "    if(y>z):\n",
        "      min=z\n",
        "    else:\n",
        "      min=y\n",
        "  elif y>x and y>z:\n",
        "    max=y\n",
        "    if x>z:\n",
        "      min = z\n",
        "    else:\n",
        "      min = x\n",
        "  elif z> x and z>y:\n",
        "    max= z\n",
        "    if x>y:\n",
        "      min=y\n",
        "    else:\n",
        "      min=x\n",
        "  print(\"El mayor es %d y el menor %d\" %(max,min))\n",
        "  \n",
        "num_max_min(20,2,99999)\n"
      ],
      "execution_count": 129,
      "outputs": [
        {
          "output_type": "stream",
          "text": [
            "El mayor es 99999 y el menor 2\n"
          ],
          "name": "stdout"
        }
      ]
    },
    {
      "cell_type": "markdown",
      "metadata": {
        "id": "3vq7fjWU9GZV",
        "colab_type": "text"
      },
      "source": [
        "**Fuentes de ejercicios:**  \n",
        "*  https://www.w3schools.com/python/python_conditions.asp  \n",
        "*  https://www.tutorialspoint.com/python/python_matplotlib.htm  \n",
        "*  https://realpython.com/tutorials/data-science/  \n",
        "*  http://www.pythondiario.com/p/ejercicios-de-programacion-python.html  \n",
        "*  https://www.practicepython.org/exercise/2014/01/29/01-character-input.html  \n",
        "*  https://pynative.com/python-basic-exercise-for-beginners/  "
      ]
    }
  ]
}
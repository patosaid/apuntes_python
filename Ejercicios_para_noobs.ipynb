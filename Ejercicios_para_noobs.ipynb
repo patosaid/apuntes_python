{
  "nbformat": 4,
  "nbformat_minor": 0,
  "metadata": {
    "colab": {
      "name": "Ejercicios para noobs.ipynb",
      "version": "0.3.2",
      "provenance": [],
      "collapsed_sections": [],
      "include_colab_link": true
    },
    "kernelspec": {
      "name": "python3",
      "display_name": "Python 3"
    }
  },
  "cells": [
    {
      "cell_type": "markdown",
      "metadata": {
        "id": "view-in-github",
        "colab_type": "text"
      },
      "source": [
        "<a href=\"https://colab.research.google.com/github/patosaid/apuntes_python/blob/master/Ejercicios_para_noobs.ipynb\" target=\"_parent\"><img src=\"https://colab.research.google.com/assets/colab-badge.svg\" alt=\"Open In Colab\"/></a>"
      ]
    },
    {
      "cell_type": "markdown",
      "metadata": {
        "id": "vwPWnaC8eDDT",
        "colab_type": "text"
      },
      "source": [
        "# Ejercicio 1: Fibonacci <3"
      ]
    },
    {
      "cell_type": "markdown",
      "metadata": {
        "id": "KoeF4mC_eZB8",
        "colab_type": "text"
      },
      "source": [
        "Imprimir la sequencia del Fibonacci:  1, 1, 2, 3, 5, 8, 13, … . \n",
        "Pedir que se ingrese un número para imprimir esa cantidad.  \n",
        "tag: loop , for , input, serie ,  for, while, funcion, list"
      ]
    },
    {
      "cell_type": "code",
      "metadata": {
        "id": "73BjtDqAeABH",
        "colab_type": "code",
        "outputId": "1b168538-aa79-46ce-c015-1fe335a27426",
        "colab": {
          "base_uri": "https://localhost:8080/",
          "height": 148
        }
      },
      "source": [
        "numero = input(\"Introduce un numero: \")\n",
        "a = 0\n",
        "b = 1\n",
        "c = 1\n",
        "for i in range(int(numero)):\n",
        "  print(c)\n",
        "  c = a+b\n",
        "  a = b\n",
        "  b = c"
      ],
      "execution_count": 0,
      "outputs": [
        {
          "output_type": "stream",
          "text": [
            "Introduce un numero: 6\n",
            "1\n",
            "1\n",
            "2\n",
            "3\n",
            "5\n",
            "8\n"
          ],
          "name": "stdout"
        }
      ]
    },
    {
      "cell_type": "code",
      "metadata": {
        "id": "Rxu8EXDlsSHt",
        "colab_type": "code",
        "outputId": "fa686e1e-9f80-4acd-a885-1201f774d39c",
        "colab": {
          "base_uri": "https://localhost:8080/",
          "height": 36
        }
      },
      "source": [
        "  n=5\n",
        "  i=1\n",
        "  fib = [1,1]\n",
        "  while i < int(n)-1:\n",
        "    fib.append(fib[i-1]+fib[i])\n",
        "    i +=1\n",
        "print(fib)"
      ],
      "execution_count": 0,
      "outputs": [
        {
          "output_type": "stream",
          "text": [
            "[1, 1, 2, 3, 5]\n"
          ],
          "name": "stdout"
        }
      ]
    },
    {
      "cell_type": "markdown",
      "metadata": {
        "id": "C6_H_k95v2Nx",
        "colab_type": "text"
      },
      "source": [
        "### Usando funcion ,while, y list"
      ]
    },
    {
      "cell_type": "code",
      "metadata": {
        "id": "fyGstGSOuAgF",
        "colab_type": "code",
        "outputId": "cc3eccb5-96ee-4ebc-da33-b1a36146f41c",
        "colab": {
          "base_uri": "https://localhost:8080/",
          "height": 92
        }
      },
      "source": [
        "def fibo():\n",
        "  n = int(input(\"Ingrese un numero \"))\n",
        "  if n <= 0:\n",
        "    fib =[]\n",
        "  elif n == 1:\n",
        "    fib = [1]\n",
        "  elif n>1:\n",
        "    i=1\n",
        "    fib = [1,1]\n",
        "    while i < int(n)-1:\n",
        "      fib.append(fib[i-1]+fib[i])\n",
        "      i +=1\n",
        "  return fib\n",
        "\n",
        "print(fibo())\n",
        "\n",
        "x = fibo()\n",
        "type(x)"
      ],
      "execution_count": 0,
      "outputs": [
        {
          "output_type": "stream",
          "text": [
            "Ingrese un numero 6\n",
            "[1, 1, 2, 3, 5, 8]\n",
            "Ingrese un numero 6\n"
          ],
          "name": "stdout"
        },
        {
          "output_type": "execute_result",
          "data": {
            "text/plain": [
              "list"
            ]
          },
          "metadata": {
            "tags": []
          },
          "execution_count": 3
        }
      ]
    },
    {
      "cell_type": "markdown",
      "metadata": {
        "id": "XNZc7ZFswfpj",
        "colab_type": "text"
      },
      "source": [
        " # Ejercicio 2 Crear funcion `menorque()`\n",
        " Define una función llamada `menorque()` que nos devuelva en pantalla el número menor entre dos enteros. \n",
        " tag: if, ifelse, else: , %d, funcion\n",
        " "
      ]
    },
    {
      "cell_type": "code",
      "metadata": {
        "id": "I2foQAXewt_P",
        "colab_type": "code",
        "outputId": "b40bf3e8-0580-42a5-cbf5-839e841937f8",
        "colab": {
          "base_uri": "https://localhost:8080/",
          "height": 73
        }
      },
      "source": [
        "a = int(input(\"Ingrese un número a: \"))\n",
        "b = int(input(\"Ingrese un número b: \"))\n",
        "\n",
        "def menorque(x,y):\n",
        "  if x < y:\n",
        "    print(\"%d es menor que %d\" %(x,y))\n",
        "  elif x > y:\n",
        "    print(str(x)+ \" es mayor que \" + str(y))\n",
        "  else:\n",
        "    print(\"son iguales\")\n",
        "    \n",
        "menorque(a,b)"
      ],
      "execution_count": 0,
      "outputs": [
        {
          "output_type": "stream",
          "text": [
            "Ingrese un número a: 6\n",
            "Ingrese un número b: 5\n",
            "6 es mayor que 5\n"
          ],
          "name": "stdout"
        }
      ]
    },
    {
      "cell_type": "markdown",
      "metadata": {
        "id": "ET3RSc3nzCUW",
        "colab_type": "text"
      },
      "source": [
        "# Ejercicio 3 Número máximo y mínimo"
      ]
    },
    {
      "cell_type": "markdown",
      "metadata": {
        "id": "tYeDTIcgzQuM",
        "colab_type": "text"
      },
      "source": [
        "Define una función llamada `num_max_min()` que nos devuelva en pantalla el número mayor y menor entre 3 diferentes enteros. \n",
        "tag: funcion, if , elif, else"
      ]
    },
    {
      "cell_type": "code",
      "metadata": {
        "id": "9N9Er1GPzT4U",
        "colab_type": "code",
        "outputId": "1be3aad3-71a6-4842-b15b-4932307f0157",
        "colab": {
          "base_uri": "https://localhost:8080/",
          "height": 36
        }
      },
      "source": [
        "# me salió largo pero q le vamo hacerle\n",
        "def num_max_min(x,y,z):\n",
        "  if x>y and x>z:\n",
        "    max=x\n",
        "    if(y>z):\n",
        "      min=z\n",
        "    else:\n",
        "      min=y\n",
        "  elif y>x and y>z:\n",
        "    max=y\n",
        "    if x>z:\n",
        "      min = z\n",
        "    else:\n",
        "      min = x\n",
        "  elif z> x and z>y:\n",
        "    max= z\n",
        "    if x>y:\n",
        "      min=y\n",
        "    else:\n",
        "      min=x\n",
        "  print(\"El mayor es %d y el menor %d\" %(max,min))\n",
        "  \n",
        "num_max_min(20,2,99999)\n"
      ],
      "execution_count": 0,
      "outputs": [
        {
          "output_type": "stream",
          "text": [
            "El mayor es 99999 y el menor 2\n"
          ],
          "name": "stdout"
        }
      ]
    },
    {
      "cell_type": "markdown",
      "metadata": {
        "id": "TcZibFyCo1o7",
        "colab_type": "text"
      },
      "source": [
        "# Ejercicio 4 ¿Es vocal?"
      ]
    },
    {
      "cell_type": "markdown",
      "metadata": {
        "id": "aES001hCo_3R",
        "colab_type": "text"
      },
      "source": [
        "Escribir una función que tome un carácter y devuelva True si es una vocal, de lo contrario devuelve False."
      ]
    },
    {
      "cell_type": "code",
      "metadata": {
        "id": "CpMXR3tZpAlh",
        "colab_type": "code",
        "outputId": "01442294-399b-4b86-941f-258527f85fb7",
        "colab": {
          "base_uri": "https://localhost:8080/",
          "height": 54
        }
      },
      "source": [
        "def esvocal(x):\n",
        "  \n",
        "  vocales = [\"a\",\"e\",\"i\",\"o\",\"u\"]\n",
        "  if x in vocales:\n",
        "    return True\n",
        "  else:\n",
        "    return False\n",
        "  \n",
        "x = input(\"Ingrese un caracter : \")\n",
        "\n",
        "esvocal(x)\n",
        "  "
      ],
      "execution_count": 0,
      "outputs": [
        {
          "output_type": "stream",
          "text": [
            "Ingrese un caracter : r\n"
          ],
          "name": "stdout"
        },
        {
          "output_type": "execute_result",
          "data": {
            "text/plain": [
              "False"
            ]
          },
          "metadata": {
            "tags": []
          },
          "execution_count": 6
        }
      ]
    },
    {
      "cell_type": "markdown",
      "metadata": {
        "id": "9GEjCSttqK3D",
        "colab_type": "text"
      },
      "source": [
        "# Ejercicio 5 Longitud de cadena"
      ]
    },
    {
      "cell_type": "markdown",
      "metadata": {
        "id": "zCFB-YTFqPJR",
        "colab_type": "text"
      },
      "source": [
        "Definir una función que calcule la longitud de una lista o una cadena dada. "
      ]
    },
    {
      "cell_type": "code",
      "metadata": {
        "id": "WVznqU97qPn2",
        "colab_type": "code",
        "outputId": "3c71e56e-e283-4f17-87e3-c2873f96c977",
        "colab": {
          "base_uri": "https://localhost:8080/",
          "height": 36
        }
      },
      "source": [
        "\n",
        "lista = [3,3,3,3,3,3,3,3,3]\n",
        "def largo(a):\n",
        "  x=0\n",
        "  for i in a:\n",
        "    x = x + 1\n",
        "  return x\n",
        "\n",
        "largo(lista)"
      ],
      "execution_count": 0,
      "outputs": [
        {
          "output_type": "execute_result",
          "data": {
            "text/plain": [
              "9"
            ]
          },
          "metadata": {
            "tags": []
          },
          "execution_count": 7
        }
      ]
    },
    {
      "cell_type": "markdown",
      "metadata": {
        "id": "Q1Wuab-lsX7H",
        "colab_type": "text"
      },
      "source": [
        "# Ejercicio 6 Función suma y multiplocación"
      ]
    },
    {
      "cell_type": "markdown",
      "metadata": {
        "id": "j3nTMDmpsdpg",
        "colab_type": "text"
      },
      "source": [
        "Escribir una funcion sum() y una función multip() que sumen y multipliquen respectivamente todos los números de una lista. Por ejemplo: sum([1,2,3,4]) debería devolver 10 y multip([1,2,3,4]) debería devolver 24."
      ]
    },
    {
      "cell_type": "code",
      "metadata": {
        "id": "Mla0_wa9se4-",
        "colab_type": "code",
        "outputId": "be4c5085-ec29-4e32-a6d5-a0d236e6f3bc",
        "colab": {
          "base_uri": "https://localhost:8080/",
          "height": 54
        }
      },
      "source": [
        "lista = [1,2,3,4]\n",
        "def sumatoria(a):\n",
        "  x = 0\n",
        "  for i in a:\n",
        "    x = x + i \n",
        "  return x\n",
        "\n",
        "def multiplicacion(a):\n",
        "  x=1\n",
        "  for i in a:\n",
        "    x = x * i\n",
        "  return x\n",
        "\n",
        "\n",
        "\n",
        "print(sumatoria(lista))\n",
        "print(multiplicacion(lista))"
      ],
      "execution_count": 0,
      "outputs": [
        {
          "output_type": "stream",
          "text": [
            "10\n",
            "24\n"
          ],
          "name": "stdout"
        }
      ]
    },
    {
      "cell_type": "markdown",
      "metadata": {
        "id": "H0ahkvx2jp3x",
        "colab_type": "text"
      },
      "source": [
        "# Ejercicio 7 Inverir frase\n"
      ]
    },
    {
      "cell_type": "markdown",
      "metadata": {
        "id": "Bj3qfZWNj51M",
        "colab_type": "text"
      },
      "source": [
        "Definir una función inversa() que calcule la inversión de una cadena. Por ejemplo la cadena \"estoy probando\" debería devolver la cadena \"odnaborp yotse\""
      ]
    },
    {
      "cell_type": "code",
      "metadata": {
        "id": "Cn8LPGyqj9mH",
        "colab_type": "code",
        "outputId": "6b74da54-6442-45ad-e71d-c0dc4d1b1dbc",
        "colab": {
          "base_uri": "https://localhost:8080/",
          "height": 36
        }
      },
      "source": [
        "def inversa(frase):\n",
        "  inv = \"\"\n",
        "  i=1\n",
        "  while i <= len(frase):\n",
        "    inv = inv + frase[-i]\n",
        "    i = i+1\n",
        "  return inv\n",
        "\n",
        "print(inversa(\"Do you know the way?\"))\n"
      ],
      "execution_count": 0,
      "outputs": [
        {
          "output_type": "stream",
          "text": [
            "?yaw eht wonk uoy oD\n"
          ],
          "name": "stdout"
        }
      ]
    },
    {
      "cell_type": "markdown",
      "metadata": {
        "id": "f1ClsZWGoJ0T",
        "colab_type": "text"
      },
      "source": [
        "Usando slicing"
      ]
    },
    {
      "cell_type": "code",
      "metadata": {
        "id": "JtoHDV7hoUgs",
        "colab_type": "code",
        "outputId": "0386bae0-3d84-49ee-f338-2c585c991252",
        "colab": {
          "base_uri": "https://localhost:8080/",
          "height": 36
        }
      },
      "source": [
        "def inversa(frase):\n",
        "  return frase[::-1]\n",
        "\n",
        "print(inversa(\"Do you know the way?\"))\n",
        "\n"
      ],
      "execution_count": 0,
      "outputs": [
        {
          "output_type": "stream",
          "text": [
            "?yaw eht wonk uoy oD\n"
          ],
          "name": "stdout"
        }
      ]
    },
    {
      "cell_type": "markdown",
      "metadata": {
        "id": "WbCVsvaej1xL",
        "colab_type": "text"
      },
      "source": [
        "# Ejercicio 8 Palíndromo\n"
      ]
    },
    {
      "cell_type": "markdown",
      "metadata": {
        "id": "WHs9zbBNm8sD",
        "colab_type": "text"
      },
      "source": [
        "Definir una función es_palindromo() que reconoce palíndromos (es decir, palabras que tienen el mismo aspecto escritas invertidas), ejemplo: es_palindromo (\"radar\") tendría que devolver True."
      ]
    },
    {
      "cell_type": "code",
      "metadata": {
        "id": "UUOhCoHinBfU",
        "colab_type": "code",
        "outputId": "3ab35136-76cd-4cd7-e803-b451da92b35a",
        "colab": {
          "base_uri": "https://localhost:8080/",
          "height": 36
        }
      },
      "source": [
        "def es_palindromo(x):\n",
        "  if x == x[::-1]:\n",
        "    return True\n",
        "  else:\n",
        "    return False\n",
        "\n",
        "es_palindromo(\"hannah\")"
      ],
      "execution_count": 0,
      "outputs": [
        {
          "output_type": "execute_result",
          "data": {
            "text/plain": [
              "True"
            ]
          },
          "metadata": {
            "tags": []
          },
          "execution_count": 11
        }
      ]
    },
    {
      "cell_type": "markdown",
      "metadata": {
        "id": "faWjP_eFnBMA",
        "colab_type": "text"
      },
      "source": [
        "# Ejercicio 9 Buscar una semejanza en listas\n"
      ]
    },
    {
      "cell_type": "markdown",
      "metadata": {
        "id": "2VGfO5kpqBi9",
        "colab_type": "text"
      },
      "source": [
        "Definir una función superposicion() que tome dos listas y devuelva True si tienen al menos 1 miembro en común o devuelva False de lo contrario. Escribir la función usando el bucle for anidado. "
      ]
    },
    {
      "cell_type": "code",
      "metadata": {
        "id": "P9XMhLbKqE8k",
        "colab_type": "code",
        "outputId": "9433b209-8d34-44bf-d82a-ff3062657bd1",
        "colab": {
          "base_uri": "https://localhost:8080/",
          "height": 36
        }
      },
      "source": [
        "def superposicion(a,b):\n",
        "  x = False\n",
        "  for i in a:\n",
        "    for j in b:\n",
        "       if i == j:\n",
        "        return True\n",
        "  return False\n",
        "  \n",
        "\n",
        "superposicion([1,1,1,1], [2,2,2,2])\n"
      ],
      "execution_count": 0,
      "outputs": [
        {
          "output_type": "execute_result",
          "data": {
            "text/plain": [
              "False"
            ]
          },
          "metadata": {
            "tags": []
          },
          "execution_count": 12
        }
      ]
    },
    {
      "cell_type": "markdown",
      "metadata": {
        "id": "w7F8p1GUsHLA",
        "colab_type": "text"
      },
      "source": [
        "# Ejercicio 10 Generar caracteres\n"
      ]
    },
    {
      "cell_type": "markdown",
      "metadata": {
        "id": "fkpfAW23sJOM",
        "colab_type": "text"
      },
      "source": [
        "Definir una función generar_n_caracteres() que tome un entero n y devuelva el caracter multiplicado por n. Por ejemplo: generar_n_caracteres(5, \"x\") debería devolver \"xxxxx\"."
      ]
    },
    {
      "cell_type": "code",
      "metadata": {
        "id": "p0Zdzmh3sQ2z",
        "colab_type": "code",
        "outputId": "c5df629a-7d2a-41cc-9b1e-72456f308e19",
        "colab": {
          "base_uri": "https://localhost:8080/",
          "height": 36
        }
      },
      "source": [
        "def generar_n_caracteres(n,s):\n",
        "  return str(s)*n\n",
        "\n",
        "generar_n_caracteres(5,\"x\")\n",
        "#ohhh la weaaa facil"
      ],
      "execution_count": 0,
      "outputs": [
        {
          "output_type": "execute_result",
          "data": {
            "text/plain": [
              "'xxxxx'"
            ]
          },
          "metadata": {
            "tags": []
          },
          "execution_count": 13
        }
      ]
    },
    {
      "cell_type": "markdown",
      "metadata": {
        "id": "HxsuZIxOtCxv",
        "colab_type": "text"
      },
      "source": [
        "# Ejercicio 11 Histograma\n"
      ]
    },
    {
      "cell_type": "markdown",
      "metadata": {
        "id": "vsHfHBlLtFy0",
        "colab_type": "text"
      },
      "source": [
        "Definir un histograma procedimiento() que tome una lista de números enteros e imprima un histograma en la pantalla. Ejemplo: procedimiento([4, 9, 7]) debería imprimir lo siguiente:  \n",
        "```\n",
        "****\n",
        "*********\n",
        "*******\n",
        "```\n",
        "\n"
      ]
    },
    {
      "cell_type": "code",
      "metadata": {
        "id": "6tM8inFrtL8W",
        "colab_type": "code",
        "outputId": "9ab82431-d5aa-4054-b6cf-ce0df7fff385",
        "colab": {
          "base_uri": "https://localhost:8080/",
          "height": 148
        }
      },
      "source": [
        "def histograma(a):\n",
        "  for i in a:\n",
        "    print(\"x\"*i)\n",
        "    \n",
        "histograma([1,2,4,50,4,2,1])"
      ],
      "execution_count": 0,
      "outputs": [
        {
          "output_type": "stream",
          "text": [
            "x\n",
            "xx\n",
            "xxxx\n",
            "xxxxxxxxxxxxxxxxxxxxxxxxxxxxxxxxxxxxxxxxxxxxxxxxxx\n",
            "xxxx\n",
            "xx\n",
            "x\n"
          ],
          "name": "stdout"
        }
      ]
    },
    {
      "cell_type": "markdown",
      "metadata": {
        "id": "F4qodSV1uFvL",
        "colab_type": "text"
      },
      "source": [
        "# Ejercicio 12 Palabra más larga\n"
      ]
    },
    {
      "cell_type": "markdown",
      "metadata": {
        "id": "5j72OExguI37",
        "colab_type": "text"
      },
      "source": [
        "Escribir una función mas_larga() que tome una lista de palabras y devuelva la mas larga. "
      ]
    },
    {
      "cell_type": "code",
      "metadata": {
        "id": "SjV1dve0uE32",
        "colab_type": "code",
        "outputId": "0cbd7eba-bccf-4c70-cc98-657846a90e22",
        "colab": {
          "base_uri": "https://localhost:8080/",
          "height": 73
        }
      },
      "source": [
        "def mas_larga(lista):\n",
        "  pos = 0\n",
        "  for i in range(len(lista)):\n",
        "    if i<1:\n",
        "      pos = 0\n",
        "      mayor = len(lista[pos])\n",
        "    elif mayor < len(lista[i]):\n",
        "      pos = i\n",
        "      mayor = len(lista[pos])\n",
        "  return print(lista[pos])\n",
        "\n",
        "mas_larga([\"holaaaaaa\", \"que\" , \"tal\"])\n",
        "mas_larga([\"hola\", \"queeeeeee\", \"tal\"])\n",
        "mas_larga([\"hola\", \"que\", \"taaaaaaal\"])\n"
      ],
      "execution_count": 0,
      "outputs": [
        {
          "output_type": "stream",
          "text": [
            "holaaaaaa\n",
            "queeeeeee\n",
            "taaaaaaal\n"
          ],
          "name": "stdout"
        }
      ]
    },
    {
      "cell_type": "markdown",
      "metadata": {
        "id": "YHT0tVZ1QZxk",
        "colab_type": "text"
      },
      "source": [
        "# Ejercicio 13 Filtrar parabras"
      ]
    },
    {
      "cell_type": "markdown",
      "metadata": {
        "id": "F-7ifLXUQces",
        "colab_type": "text"
      },
      "source": [
        "Escribir una función filtrar_palabras() que tome una lista de palabras y un entero n, y devuelva las palabras que tengan mas de n caracteres."
      ]
    },
    {
      "cell_type": "code",
      "metadata": {
        "id": "QOIYeaXeQkY8",
        "colab_type": "code",
        "outputId": "41b412cb-5916-4ba2-cb2c-b71c42524bd4",
        "colab": {
          "base_uri": "https://localhost:8080/",
          "height": 36
        }
      },
      "source": [
        "def filtrar_palabras(lista, n):\n",
        "  dev = []\n",
        "  for i in lista:\n",
        "    if len(i) >n :\n",
        "      dev.append(i)\n",
        "  return dev\n",
        "\n",
        "filtrar_palabras([\"hola\", \"q\", \"ace\"],3)\n"
      ],
      "execution_count": 0,
      "outputs": [
        {
          "output_type": "execute_result",
          "data": {
            "text/plain": [
              "['hola']"
            ]
          },
          "metadata": {
            "tags": []
          },
          "execution_count": 4
        }
      ]
    },
    {
      "cell_type": "markdown",
      "metadata": {
        "id": "ptSIXNyuextu",
        "colab_type": "text"
      },
      "source": [
        "# Ejercicio 14 Contar mayus\n"
      ]
    },
    {
      "cell_type": "markdown",
      "metadata": {
        "id": "YzsRls27e1ii",
        "colab_type": "text"
      },
      "source": [
        "Escribir un programa que le diga al usuario que ingrese una cadena. El programa tiene que evaluar la cadena y decir cuantas letras mayúsculas tiene. \n"
      ]
    },
    {
      "cell_type": "code",
      "metadata": {
        "id": "u9_vDD2Ke6Xu",
        "colab_type": "code",
        "outputId": "edac329c-7e07-4f36-d868-b74f7159a391",
        "colab": {
          "base_uri": "https://localhost:8080/",
          "height": 36
        }
      },
      "source": [
        "def contar_mayus(s):\n",
        "  cont=0\n",
        "  for i in range(len(s)):\n",
        "    if s[i] != s[i].lower():\n",
        "      cont = cont + 1\n",
        "  return cont\n",
        "\n",
        "contar_mayus(\"Hola , Que Tal\")\n",
        "    "
      ],
      "execution_count": 0,
      "outputs": [
        {
          "output_type": "execute_result",
          "data": {
            "text/plain": [
              "3"
            ]
          },
          "metadata": {
            "tags": []
          },
          "execution_count": 110
        }
      ]
    },
    {
      "cell_type": "markdown",
      "metadata": {
        "id": "zqjQjh-rw9hN",
        "colab_type": "text"
      },
      "source": [
        "# Ejercicio 15 Tuplas edades\n"
      ]
    },
    {
      "cell_type": "markdown",
      "metadata": {
        "id": "a0u5buB8xAes",
        "colab_type": "text"
      },
      "source": [
        "Definir una tupla con 10 edades de personas. Imprimir la cantidad de personas con edades superiores a 20.\n",
        "Puedes variar el ejercicio para que sea el usuario quien ingrese las edades."
      ]
    },
    {
      "cell_type": "code",
      "metadata": {
        "id": "4a4_8f47xCy7",
        "colab_type": "code",
        "outputId": "e638e12d-06c2-48a8-fe6d-dada22b70190",
        "colab": {
          "base_uri": "https://localhost:8080/",
          "height": 73
        }
      },
      "source": [
        "def mayores(tupla):\n",
        "  for i in tupla:\n",
        "    if i >20:\n",
        "      print(i)\n",
        "    \n",
        "mayores((80,12,21,24,9))"
      ],
      "execution_count": 0,
      "outputs": [
        {
          "output_type": "stream",
          "text": [
            "80\n",
            "21\n",
            "24\n"
          ],
          "name": "stdout"
        }
      ]
    },
    {
      "cell_type": "markdown",
      "metadata": {
        "id": "a4ZFg8NjERaP",
        "colab_type": "text"
      },
      "source": [
        "# Ejercicio 16 Buscar nombres por letra\n"
      ]
    },
    {
      "cell_type": "markdown",
      "metadata": {
        "id": "O6CJOUfjEVxL",
        "colab_type": "text"
      },
      "source": [
        "Definir una lista con un conjunto de nombres, imprimir la cantidad de comienzan con la letra a.\n",
        "También se puede hacer elegir al usuario la letra a buscar.  (Un poco mas emocionante)\n",
        "\n",
        "tag: append(), upper(), lower(),"
      ]
    },
    {
      "cell_type": "code",
      "metadata": {
        "id": "GzYag2i_EWgc",
        "colab_type": "code",
        "outputId": "84b64770-f281-4b7d-9d12-3cb35ef7bbd9",
        "colab": {
          "base_uri": "https://localhost:8080/",
          "height": 73
        }
      },
      "source": [
        "letra = str(input(\"Ingrese una letra : \")).lower()\n",
        "nombres = [\"Andrea\", \"Arturo\", \"Bernardo\", \"Carla\", \"Catalina\", \"Dario\", \"Daniela\"]\n",
        "cont = 0\n",
        "nombres_filtrado=[]\n",
        "for i in nombres:\n",
        "  if i[0].lower() == letra:\n",
        "    cont = cont +1\n",
        "    nombres_filtrado.append(i)\n",
        "\n",
        "\n",
        "if cont > 0:\n",
        "  print(\"Se encontradon %d nombres que inician con %s :\\n%s\" %(cont, letra, nombres_filtrado))\n",
        "else:\n",
        "  print(\"No se encontraron nombres que inician con %s \"%(letra))"
      ],
      "execution_count": 0,
      "outputs": [
        {
          "output_type": "stream",
          "text": [
            "Ingrese una letra : a\n",
            "Se encontradon 2 nombres que inician con a :\n",
            "['Andrea', 'Arturo']\n"
          ],
          "name": "stdout"
        }
      ]
    },
    {
      "cell_type": "markdown",
      "metadata": {
        "id": "TlGx2sYkhnRa",
        "colab_type": "text"
      },
      "source": [
        "# Cuál es la salida?"
      ]
    },
    {
      "cell_type": "code",
      "metadata": {
        "id": "aN_OH-d_U_aZ",
        "colab_type": "code",
        "outputId": "73ff4b5a-530e-4e96-ec87-0f885876ee78",
        "colab": {
          "base_uri": "https://localhost:8080/",
          "height": 36
        }
      },
      "source": [
        "# Cual es el numero mas alto que imprime print_nums() ?\n",
        "\n",
        "def print_nums(x):\n",
        "  for i in range(x):\n",
        "    print(i)\n",
        "    return\n",
        "print_nums(10)\n"
      ],
      "execution_count": 0,
      "outputs": [
        {
          "output_type": "stream",
          "text": [
            "0\n"
          ],
          "name": "stdout"
        }
      ]
    },
    {
      "cell_type": "code",
      "metadata": {
        "id": "1lJYdMmeVXSO",
        "colab_type": "code",
        "outputId": "719f86d1-0e6d-4235-e46f-567ad2d40b8c",
        "colab": {
          "base_uri": "https://localhost:8080/",
          "height": 36
        }
      },
      "source": [
        "# Cual es la salida de este codigo?\n",
        "\n",
        "x = {1:0, 0:1}\n",
        "y = [1,[4,6,5,4,3],2]\n",
        "print(list(set(y[x[0]]))[1]) "
      ],
      "execution_count": 0,
      "outputs": [
        {
          "output_type": "stream",
          "text": [
            "4\n"
          ],
          "name": "stdout"
        }
      ]
    },
    {
      "cell_type": "code",
      "metadata": {
        "id": "nwS8BizDVou4",
        "colab_type": "code",
        "outputId": "94d15577-5ee5-4662-9112-7a0bca8fd73d",
        "colab": {
          "base_uri": "https://localhost:8080/",
          "height": 36
        }
      },
      "source": [
        "set([4,5,6,6,7,7,3,3]) # set ordena los numeros y elimina los repetidos"
      ],
      "execution_count": 0,
      "outputs": [
        {
          "output_type": "execute_result",
          "data": {
            "text/plain": [
              "{3, 4, 5, 6, 7}"
            ]
          },
          "metadata": {
            "tags": []
          },
          "execution_count": 32
        }
      ]
    },
    {
      "cell_type": "code",
      "metadata": {
        "id": "E_Vx6bgxXFDw",
        "colab_type": "code",
        "outputId": "68d43abc-5039-4eb7-b904-e12ad6ad0d98",
        "colab": {
          "base_uri": "https://localhost:8080/",
          "height": 54
        }
      },
      "source": [
        "#Cual es la salida de esto?\n",
        "a = [1,2,3]\n",
        "b= a\n",
        "a[0] = 5\n",
        "print(b[0], end=\"\")\n",
        "a= [6,7,8]\n",
        "print(b[0], end = \"\\n\")\n",
        "print(b[0], end = \"3\")\n",
        "print(b)\n"
      ],
      "execution_count": 0,
      "outputs": [
        {
          "output_type": "stream",
          "text": [
            "55\n",
            "53[5, 2, 3]\n"
          ],
          "name": "stdout"
        }
      ]
    },
    {
      "cell_type": "code",
      "metadata": {
        "id": "YfzFebx1XskH",
        "colab_type": "code",
        "outputId": "91c2f074-7005-481c-bdf3-a82e5a79b80d",
        "colab": {
          "base_uri": "https://localhost:8080/",
          "height": 73
        }
      },
      "source": [
        "# Cual es la salida?\n",
        "arr = list(range(15))\n",
        "print(arr)\n",
        "arr = arr[3:13:3]\n",
        "print(arr)\n",
        "print(len(arr)*3)\n",
        "\n"
      ],
      "execution_count": 0,
      "outputs": [
        {
          "output_type": "stream",
          "text": [
            "[0, 1, 2, 3, 4, 5, 6, 7, 8, 9, 10, 11, 12, 13, 14]\n",
            "[3, 6, 9, 12]\n",
            "12\n"
          ],
          "name": "stdout"
        }
      ]
    },
    {
      "cell_type": "code",
      "metadata": {
        "id": "96-L47J_Y1HS",
        "colab_type": "code",
        "outputId": "8753c40f-bf08-482e-f8ba-5c637ed17bc6",
        "colab": {
          "base_uri": "https://localhost:8080/",
          "height": 92
        }
      },
      "source": [
        "# Cual es la salida?\n",
        "a = [7,3,9,5,1]\n",
        "b = [6,4,99,0,1]\n",
        "if a > b:       # parece q solo compara el primer elemento\n",
        "  print(len(a))\n",
        "  print(True)\n",
        "else:\n",
        "  print(len(b))\n",
        "  print(False)\n",
        "  \n",
        "print(type(a))\n",
        "\n",
        "import numpy as np\n",
        "\n",
        "np_a = np.array(a)\n",
        "np_b = np.array(b)\n",
        "print(np_a > np_b ) # el array de numpy compara todos los elementos, y deben tener la misma dimencion\n"
      ],
      "execution_count": 0,
      "outputs": [
        {
          "output_type": "stream",
          "text": [
            "5\n",
            "True\n",
            "<class 'list'>\n",
            "[ True False False  True False]\n"
          ],
          "name": "stdout"
        }
      ]
    },
    {
      "cell_type": "markdown",
      "metadata": {
        "id": "3vq7fjWU9GZV",
        "colab_type": "text"
      },
      "source": [
        "**Fuentes de ejercicios:**  \n",
        "*  https://www.w3schools.com/python/python_conditions.asp  \n",
        "*  https://www.tutorialspoint.com/python/python_matplotlib.htm  \n",
        "*  https://realpython.com/tutorials/data-science/  \n",
        "*  http://www.pythondiario.com/p/ejercicios-de-programacion-python.html  \n",
        "*  https://www.practicepython.org/exercise/2014/01/29/01-character-input.html  \n",
        "*  https://pynative.com/python-basic-exercise-for-beginners/  "
      ]
    }
  ]
}
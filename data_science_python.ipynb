{
  "nbformat": 4,
  "nbformat_minor": 0,
  "metadata": {
    "colab": {
      "name": "data_science_python.ipynb",
      "version": "0.3.2",
      "provenance": [],
      "collapsed_sections": [],
      "include_colab_link": true
    },
    "kernelspec": {
      "name": "python3",
      "display_name": "Python 3"
    }
  },
  "cells": [
    {
      "cell_type": "markdown",
      "metadata": {
        "id": "view-in-github",
        "colab_type": "text"
      },
      "source": [
        "<a href=\"https://colab.research.google.com/github/patosaid/apuntes_python/blob/master/data_science_python.ipynb\" target=\"_parent\"><img src=\"https://colab.research.google.com/assets/colab-badge.svg\" alt=\"Open In Colab\"/></a>"
      ]
    },
    {
      "cell_type": "markdown",
      "metadata": {
        "id": "2LjdYkJCSeXt",
        "colab_type": "text"
      },
      "source": [
        "# Data Science Tutorials\n",
        "\n",
        "## Numpy Arrays\n",
        "### Getting started\n",
        "\n",
        "Numpy arrays are great alternatives to Python Lists. Some of the key advantages of Numpy arrays are that they are fast, easy to work with, and give users the opportunity to perform calculations across entire arrays.\n",
        "\n",
        "In the following example, you will first create two Python lists. Then, you will import the numpy package and create numpy arrays out of the newly created lists."
      ]
    },
    {
      "cell_type": "code",
      "metadata": {
        "id": "DLp_y2f4Sqzz",
        "colab_type": "code",
        "colab": {}
      },
      "source": [
        "# Create 2 new lists height and weight\n",
        "height = [1.87,  1.87, 1.82, 1.91, 1.90, 1.85]\n",
        "weight = [81.65, 97.52, 95.25, 92.98, 86.18, 88.45]\n",
        "\n",
        "# Import the numpy package as np\n",
        "import numpy as np\n",
        "\n",
        "# Create 2 numpy arrays from height and weight\n",
        "np_height = np.array(height)\n",
        "np_weight = np.array(weight)"
      ],
      "execution_count": 0,
      "outputs": []
    },
    {
      "cell_type": "code",
      "metadata": {
        "id": "zKVhmn9sS2d3",
        "colab_type": "code",
        "outputId": "0e877ba8-54d4-4862-dada-f470c3a092ab",
        "colab": {
          "base_uri": "https://localhost:8080/",
          "height": 92
        }
      },
      "source": [
        "print(np_height) # np array\n",
        "print(height)    # list\n",
        "\n",
        "#Print out the type of np_height\n",
        "\n",
        "print(type(np_height))\n",
        "print(type(height))"
      ],
      "execution_count": 0,
      "outputs": [
        {
          "output_type": "stream",
          "text": [
            "[1.87 1.87 1.82 1.91 1.9  1.85]\n",
            "[1.87, 1.87, 1.82, 1.91, 1.9, 1.85]\n",
            "<class 'numpy.ndarray'>\n",
            "<class 'list'>\n"
          ],
          "name": "stdout"
        }
      ]
    },
    {
      "cell_type": "markdown",
      "metadata": {
        "id": "lyq2AAqITOQd",
        "colab_type": "text"
      },
      "source": [
        "## Element-wise calculations\n",
        "\n",
        "Now we can perform element-wise calculations on height and weight. For example, you could take all 6 of the height and weight observations above, and calculate the BMI for each observation with a single equation. These operations are very fast and computationally efficient. They are particularly helpful when you have 1000s of observations in your data."
      ]
    },
    {
      "cell_type": "code",
      "metadata": {
        "id": "p6JULK-LT2iM",
        "colab_type": "code",
        "outputId": "38b35272-1d21-4063-8c5e-8b3b1290d555",
        "colab": {
          "base_uri": "https://localhost:8080/",
          "height": 36
        }
      },
      "source": [
        "# Calculate bmi\n",
        "bmi = np_weight / np_height ** 2\n",
        "\n",
        "# Print the result\n",
        "print(bmi)"
      ],
      "execution_count": 0,
      "outputs": [
        {
          "output_type": "stream",
          "text": [
            "[23.34925219 27.88755755 28.75558507 25.48723993 23.87257618 25.84368152]\n"
          ],
          "name": "stdout"
        }
      ]
    },
    {
      "cell_type": "markdown",
      "metadata": {
        "id": "LJJiyjYrT6Uu",
        "colab_type": "text"
      },
      "source": [
        "## Subsetting\n",
        "\n",
        "Another great feature of Numpy arrays is the ability to subset. For instance, if you wanted to know which observations in our BMI array are above 23, we could quickly subset it to find out."
      ]
    },
    {
      "cell_type": "code",
      "metadata": {
        "id": "-xHOGYHuUQZy",
        "colab_type": "code",
        "outputId": "bae12b1a-c29c-483b-e4f1-63eb4bbde839",
        "colab": {
          "base_uri": "https://localhost:8080/",
          "height": 54
        }
      },
      "source": [
        "# For a boolean response\n",
        "print(bmi > 24)\n",
        "\n",
        "# Print only those observations above 24\n",
        "bmi[bmi > 24]"
      ],
      "execution_count": 0,
      "outputs": [
        {
          "output_type": "stream",
          "text": [
            "[False  True  True  True False  True]\n"
          ],
          "name": "stdout"
        },
        {
          "output_type": "execute_result",
          "data": {
            "text/plain": [
              "array([27.88755755, 28.75558507, 25.48723993, 25.84368152])"
            ]
          },
          "metadata": {
            "tags": []
          },
          "execution_count": 10
        }
      ]
    },
    {
      "cell_type": "markdown",
      "metadata": {
        "id": "Yq9HK2vAUqlQ",
        "colab_type": "text"
      },
      "source": [
        "## Exercise\n",
        "\n",
        "First, convert the list of weights from a list to a Numpy array. Then, convert all of the weights from kilograms to pounds. Use the scalar conversion of 2.2 lbs per kilogram to make your conversion. Lastly, print the resulting array of weights in pounds."
      ]
    },
    {
      "cell_type": "code",
      "metadata": {
        "id": "MU3ESZFFU4cs",
        "colab_type": "code",
        "outputId": "de2f76b3-141e-4b1c-9aef-9c0ba87b442a",
        "colab": {
          "base_uri": "https://localhost:8080/",
          "height": 73
        }
      },
      "source": [
        "weight_kg = [81.65, 97.52, 95.25, 92.98, 86.18, 88.45]\n",
        "\n",
        "import numpy as np\n",
        "\n",
        "# Create a numpy array np_weight_kg from weight_kg\n",
        "print(type(weight_kg))\n",
        "np_weight_kg = np.array(weight_kg)\n",
        "print(type(np_weight_kg))\n",
        "\n",
        "# Create np_weight_lbs from np_weight_kg\n",
        "np_weight_lbs = np_weight_kg * 2.2 \n",
        "\n",
        "# Print out np_weight_lbs\n",
        "print(np_weight_lbs)"
      ],
      "execution_count": 0,
      "outputs": [
        {
          "output_type": "stream",
          "text": [
            "<class 'list'>\n",
            "<class 'numpy.ndarray'>\n",
            "[179.63  214.544 209.55  204.556 189.596 194.59 ]\n"
          ],
          "name": "stdout"
        }
      ]
    },
    {
      "cell_type": "markdown",
      "metadata": {
        "id": "tsh1V6NGh0Va",
        "colab_type": "text"
      },
      "source": [
        "# Pandas Basics\n",
        "## Pandas DataFrames\n",
        "\n",
        "Pandas is a high-level data manipulation tool developed by Wes McKinney. It is built on the Numpy package and its key data structure is called the DataFrame. DataFrames allow you to store and manipulate tabular data in rows of observations and columns of variables.\n",
        "\n",
        "There are several ways to create a DataFrame. One way way is to use a dictionary. For example:"
      ]
    },
    {
      "cell_type": "code",
      "metadata": {
        "id": "7wsQoBOuiFoj",
        "colab_type": "code",
        "outputId": "29608945-5144-4801-f678-faa782c09f80",
        "colab": {
          "base_uri": "https://localhost:8080/",
          "height": 167
        }
      },
      "source": [
        "dict = {\"country\": [\"Brazil\", \"Russia\", \"India\", \"China\", \"South Africa\"],\n",
        "       \"capital\": [\"Brasilia\", \"Moscow\", \"New Dehli\", \"Beijing\", \"Pretoria\"],\n",
        "       \"area\": [8.516, 17.10, 3.286, 9.597, 1.221],\n",
        "       \"population\": [200.4, 143.5, 1252, 1357, 52.98] }\n",
        "\n",
        "print(type(dict))\n",
        "import pandas as pd\n",
        "brics = pd.DataFrame(dict)\n",
        "print(brics)\n",
        "print(type(brics))"
      ],
      "execution_count": 0,
      "outputs": [
        {
          "output_type": "stream",
          "text": [
            "<class 'dict'>\n",
            "        country    capital    area  population\n",
            "0        Brazil   Brasilia   8.516      200.40\n",
            "1        Russia     Moscow  17.100      143.50\n",
            "2         India  New Dehli   3.286     1252.00\n",
            "3         China    Beijing   9.597     1357.00\n",
            "4  South Africa   Pretoria   1.221       52.98\n",
            "<class 'pandas.core.frame.DataFrame'>\n"
          ],
          "name": "stdout"
        }
      ]
    },
    {
      "cell_type": "markdown",
      "metadata": {
        "id": "8ofZ07k1idXZ",
        "colab_type": "text"
      },
      "source": [
        "As you can see with the new brics DataFrame, Pandas has assigned a key for each country as the numerical values 0 through 4. If you would like to have different index values, say, the two letter country code, you can do that easily as well."
      ]
    },
    {
      "cell_type": "code",
      "metadata": {
        "id": "nSvW05fFhz8V",
        "colab_type": "code",
        "outputId": "3da63e6f-219d-427c-de64-e4f69a3b2aa9",
        "colab": {
          "base_uri": "https://localhost:8080/",
          "height": 129
        }
      },
      "source": [
        "# Set the index for brics\n",
        "brics.index = [\"BR\", \"RU\", \"IN\", \"CH\", \"SA\"]\n",
        "\n",
        "# Print out brics with new index values\n",
        "print(brics)"
      ],
      "execution_count": 0,
      "outputs": [
        {
          "output_type": "stream",
          "text": [
            "         country    capital    area  population\n",
            "BR        Brazil   Brasilia   8.516      200.40\n",
            "RU        Russia     Moscow  17.100      143.50\n",
            "IN         India  New Dehli   3.286     1252.00\n",
            "CH         China    Beijing   9.597     1357.00\n",
            "SA  South Africa   Pretoria   1.221       52.98\n"
          ],
          "name": "stdout"
        }
      ]
    },
    {
      "cell_type": "markdown",
      "metadata": {
        "id": "QBwq5eJ1ioja",
        "colab_type": "text"
      },
      "source": [
        "Another way to create a DataFrame is by importing a csv file using Pandas. Now, the csv cars.csv is stored and can be imported using `pd.read_csv`:"
      ]
    },
    {
      "cell_type": "code",
      "metadata": {
        "id": "QgV2GetBiuZJ",
        "colab_type": "code",
        "colab": {}
      },
      "source": [
        "# Import pandas as pd\n",
        "import pandas as pd\n",
        "\n",
        "# Import the cars.csv data: cars\n",
        "cars = pd.read_csv('cars.csv')\n",
        "\n",
        "# Print out cars\n",
        "print(cars)"
      ],
      "execution_count": 0,
      "outputs": []
    },
    {
      "cell_type": "markdown",
      "metadata": {
        "id": "CLD38xDtiyib",
        "colab_type": "text"
      },
      "source": [
        "## Indexing DataFrames\n",
        "There are several ways to index a Pandas DataFrame. One of the easiest ways to do this is by using square bracket notation.\n",
        "\n",
        "In the example below, you can use square brackets to select one column of the cars DataFrame. You can either use a single bracket or a double bracket. The single bracket with output a Pandas Series, while a double bracket will output a Pandas DataFrame.\n"
      ]
    },
    {
      "cell_type": "code",
      "metadata": {
        "id": "YMYyWFzQjFre",
        "colab_type": "code",
        "colab": {}
      },
      "source": [
        "# Import pandas and cars.csv\n",
        "import pandas as pd\n",
        "cars = pd.read_csv('cars.csv', index_col = 0)\n",
        "\n",
        "# Print out country column as Pandas Series\n",
        "print(cars['cars_per_cap'])\n",
        "\n",
        "# Print out country column as Pandas DataFrame\n",
        "print(cars[['cars_per_cap']])\n",
        "\n",
        "# Print out DataFrame with country and drives_right columns\n",
        "print(cars[['cars_per_cap', 'country']])"
      ],
      "execution_count": 0,
      "outputs": []
    },
    {
      "cell_type": "markdown",
      "metadata": {
        "id": "Tpoc4Ox0jWJ_",
        "colab_type": "text"
      },
      "source": [
        "Square brackets can also be used to access observations (rows) from a DataFrame. For example:"
      ]
    },
    {
      "cell_type": "code",
      "metadata": {
        "id": "nFDCkuI6jYk8",
        "colab_type": "code",
        "colab": {}
      },
      "source": [
        "# Import cars data\n",
        "import pandas as pd\n",
        "cars = pd.read_csv('cars.csv', index_col = 0)\n",
        "\n",
        "# Print out first 4 observations\n",
        "print(cars[0:4])\n",
        "\n",
        "# Print out fifth, sixth, and seventh observation ???? no creo\n",
        "print(cars[4:6])"
      ],
      "execution_count": 0,
      "outputs": []
    },
    {
      "cell_type": "markdown",
      "metadata": {
        "id": "UoB-J9QXkB4i",
        "colab_type": "text"
      },
      "source": [
        "You can also use loc and iloc to perform just about any data selection operation. loc is label-based, which means that you have to specify rows and columns based on their row and column labels. iloc is integer index based, so you have to specify rows and columns by their integer index like you did in the previous exercise."
      ]
    },
    {
      "cell_type": "code",
      "metadata": {
        "id": "U4jx4OqqkfMy",
        "colab_type": "code",
        "colab": {}
      },
      "source": [
        "# Import cars data\n",
        "import pandas as pd\n",
        "cars = pd.read_csv('cars.csv', index_col = 0)\n",
        "\n",
        "# Print out observation for Japan\n",
        "print(cars.iloc[2])\n",
        "\n",
        "# Print out observations for Australia and Egypt\n",
        "print(cars.loc[['AUS', 'EG']])"
      ],
      "execution_count": 0,
      "outputs": []
    },
    {
      "cell_type": "code",
      "metadata": {
        "id": "6efFIxHxkuUX",
        "colab_type": "code",
        "outputId": "a94b0576-d62b-43d7-b17c-3c28cdb11799",
        "colab": {
          "base_uri": "https://localhost:8080/",
          "height": 36
        }
      },
      "source": [
        "! pwd"
      ],
      "execution_count": 0,
      "outputs": [
        {
          "output_type": "stream",
          "text": [
            "/content\n"
          ],
          "name": "stdout"
        }
      ]
    }
  ]
}
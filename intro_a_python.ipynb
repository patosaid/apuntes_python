{
  "nbformat": 4,
  "nbformat_minor": 0,
  "metadata": {
    "colab": {
      "name": "intro_a_python.ipynb",
      "version": "0.3.2",
      "provenance": [],
      "collapsed_sections": [],
      "include_colab_link": true
    },
    "kernelspec": {
      "name": "python3",
      "display_name": "Python 3"
    }
  },
  "cells": [
    {
      "cell_type": "markdown",
      "metadata": {
        "id": "view-in-github",
        "colab_type": "text"
      },
      "source": [
        "<a href=\"https://colab.research.google.com/github/patosaid/apuntes_python/blob/master/intro_a_python.ipynb\" target=\"_parent\"><img src=\"https://colab.research.google.com/assets/colab-badge.svg\" alt=\"Open In Colab\"/></a>"
      ]
    },
    {
      "cell_type": "markdown",
      "metadata": {
        "id": "LK0up_3m46r7",
        "colab_type": "text"
      },
      "source": [
        "# Desde learnpython.org"
      ]
    },
    {
      "cell_type": "markdown",
      "metadata": {
        "id": "YQ-rFfzw6cyK",
        "colab_type": "text"
      },
      "source": [
        "### Python como calculadora  \n",
        "Python is perfectly suited to do basic calculations. Apart from addition, subtraction, multiplication and division, there is also support for more advanced operations such as:\n",
        "\n",
        "- Potencia: ```**```. Este operador eleva el número to its left to the power of the number to its right. For example ```4**2``` will give 16.\n",
        "- Módulo: ```%```. This operator returns the remainder of the division of the number to the left by the number on its right. For example ```18 % 7``` equals 4."
      ]
    },
    {
      "cell_type": "markdown",
      "metadata": {
        "id": "UROviXB_8rO4",
        "colab_type": "text"
      },
      "source": [
        "### Other variable types\n",
        "\n",
        "- ```int```, or integer: a number without a fractional part. savings, with the value 100, is an example of an integer.\n",
        "- ```float```, or floating point: a number that has both an integer and fractional part, separated by a point. growth_multiplier, with the value 1.1, is an example of a float.\n",
        "\n",
        "Next to numerical data types, there are two other very common data types:\n",
        "\n",
        "- ```str```, or string: a type to represent text. You can use single or double quotes to build a string.\n",
        "- ```bool```, or boolean: a type to represent logical values. Can only be True or False (the capitalization is important!).\n"
      ]
    },
    {
      "cell_type": "markdown",
      "metadata": {
        "id": "og_QWRzk6v7z",
        "colab_type": "text"
      },
      "source": [
        "###Guess the type\n",
        "\n",
        "To find out the type of a value or a variable that refers to that value, you can use the type() function. Suppose you've defined a variable a, but you forgot the type of this variable. To determine the type of a, simply execute:\n",
        "\n",
        "> type(a)\n"
      ]
    },
    {
      "cell_type": "code",
      "metadata": {
        "id": "5HuRmUc89fn-",
        "colab_type": "code",
        "colab": {}
      },
      "source": [
        "a = 213231.23121234325\n",
        "b = True\n",
        "c = \"hello\""
      ],
      "execution_count": 0,
      "outputs": []
    },
    {
      "cell_type": "code",
      "metadata": {
        "id": "UYPsJSQU9jWh",
        "colab_type": "code",
        "outputId": "0318d96e-b1d3-49cb-b039-1a55068fc2b9",
        "colab": {
          "base_uri": "https://localhost:8080/",
          "height": 72
        }
      },
      "source": [
        "print(type(a))\n",
        "print(type(b))\n",
        "print(type(c))"
      ],
      "execution_count": 0,
      "outputs": [
        {
          "output_type": "stream",
          "text": [
            "<class 'float'>\n",
            "<class 'bool'>\n",
            "<class 'str'>\n"
          ],
          "name": "stdout"
        }
      ]
    },
    {
      "cell_type": "markdown",
      "metadata": {
        "id": "5dU9RZPc-T1Y",
        "colab_type": "text"
      },
      "source": [
        "##Operations with other types \n",
        "When you sum two strings, for example, you'll get different behavior than when you sum two integers or two booleans.\n",
        "\n",
        "In the script some variables with different types have already been created. It's up to you to use them."
      ]
    },
    {
      "cell_type": "code",
      "metadata": {
        "id": "7f3AIJE--ajz",
        "colab_type": "code",
        "outputId": "2f4f9317-89b2-49cb-8280-2e3bac9e2f08",
        "colab": {
          "base_uri": "https://localhost:8080/",
          "height": 54
        }
      },
      "source": [
        "savings = 100\n",
        "growth_multiplier = 1.1\n",
        "desc = \"compound interest\"\n",
        "\n",
        "# Assign product of growth_multiplier and savings to year1\n",
        "\n",
        "year1 = savings *growth_multiplier\n",
        "# Print the type of year1\n",
        "print(type(year1))\n",
        "# Assign sum of desc and desc to doubledesc\n",
        "doubledesc = desc + desc\n",
        "\n",
        "# Print out doubledesc\n",
        "print(doubledesc)"
      ],
      "execution_count": 0,
      "outputs": [
        {
          "output_type": "stream",
          "text": [
            "<class 'float'>\n",
            "compound interestcompound interest\n"
          ],
          "name": "stdout"
        }
      ]
    },
    {
      "cell_type": "markdown",
      "metadata": {
        "id": "tgchQF7e_HM-",
        "colab_type": "text"
      },
      "source": [
        "### Type conversion\n",
        "\n",
        "Using the ```+``` operator to paste together two strings can be very useful in building custom messages.\n",
        "\n",
        "Suppose, for example, that you've calculated the return of your investment and want to summarize the results in a string. Assuming the floats savings and result are defined, you can try something like this:\n",
        "\n",
        "> ```print(\"I started with $\" + savings + \" and now have $\" + result + \". Awesome!\")```\n",
        "\n",
        "This will not work, though, as you cannot simply sum strings and floats.\n",
        "\n",
        "To fix the error, you'll need to explicitly convert the types of your variables. More specifically, you'll need``` str()```, to convert a value into a string. ```str(savings)```, for example, will convert the float savings to a string.\n",
        "\n",
        "Similar functions such as ```int()```, ```float()``` and ```bool()``` will help you convert Python values into any type."
      ]
    },
    {
      "cell_type": "code",
      "metadata": {
        "id": "N8SZlQre-ubA",
        "colab_type": "code",
        "outputId": "a45d8bd2-4307-4a54-89ab-ddb261c096c3",
        "colab": {
          "base_uri": "https://localhost:8080/",
          "height": 35
        }
      },
      "source": [
        "factor = 1.1\n",
        "result = savings * factor**7\n"
      ],
      "execution_count": 0,
      "outputs": [
        {
          "output_type": "stream",
          "text": [
            "I started with $100 and now have $194.87171000000012. Awesome!\n"
          ],
          "name": "stdout"
        }
      ]
    },
    {
      "cell_type": "markdown",
      "metadata": {
        "id": "yUOuXGp8CERm",
        "colab_type": "text"
      },
      "source": [
        "## List\n",
        "Lists are very similar to arrays. They can contain any type of variable, and they can contain as many variables as you wish. Lists can also be iterated over in a very simple manner. Here is an example of how to build a list."
      ]
    },
    {
      "cell_type": "code",
      "metadata": {
        "id": "M5B-p3IWK0F5",
        "colab_type": "code",
        "outputId": "1e26793c-6526-4ba0-be0f-2cba6f14250d",
        "colab": {
          "base_uri": "https://localhost:8080/",
          "height": 146
        }
      },
      "source": [
        "mylist = []\n",
        "mylist.append(1)\n",
        "mylist.append(2)\n",
        "mylist.append(5)\n",
        "print(mylist[0]) # prints 1\n",
        "print(mylist[1]) # prints 2\n",
        "print(mylist[2]) # prints 3\n",
        "\n",
        "# prints out 1,2,3\n",
        "for x in mylist:\n",
        "    print(x)"
      ],
      "execution_count": 0,
      "outputs": [
        {
          "output_type": "stream",
          "text": [
            "1\n",
            "2\n",
            "5\n",
            "1\n",
            "2\n",
            "5\n",
            "0\n"
          ],
          "name": "stdout"
        }
      ]
    },
    {
      "cell_type": "markdown",
      "metadata": {
        "id": "STGHdQe_L0dp",
        "colab_type": "text"
      },
      "source": [
        ""
      ]
    },
    {
      "cell_type": "code",
      "metadata": {
        "id": "Wh0bHOh9L2m4",
        "colab_type": "code",
        "colab": {}
      },
      "source": [
        ""
      ],
      "execution_count": 0,
      "outputs": []
    },
    {
      "cell_type": "markdown",
      "metadata": {
        "id": "W4E2R4BgM52n",
        "colab_type": "text"
      },
      "source": [
        ""
      ]
    },
    {
      "cell_type": "code",
      "metadata": {
        "id": "BVH99CzANEq9",
        "colab_type": "code",
        "outputId": "7889990c-7fed-411c-fd0b-70cb219fbf3a",
        "colab": {
          "base_uri": "https://localhost:8080/",
          "height": 72
        }
      },
      "source": [
        "\n",
        "numbers = []\n",
        "strings = []\n",
        "names = [\"John\", \"Eric\", \"Jessica\"]\n",
        "\n",
        "# write your code here\n",
        "numbers.append(1)\n",
        "numbers.append(2)\n",
        "numbers.append(3)\n",
        "\n",
        "strings.append(\"hello\")\n",
        "strings.append(\"world\")\n",
        "second_name = names[1]\n",
        "\n",
        "# this code should write out the filled arrays and the second name in the names list (Eric).\n",
        "print(numbers)\n",
        "print(strings)\n",
        "print(\"The second name on the names list is %s\" % second_name)"
      ],
      "execution_count": 3,
      "outputs": [
        {
          "output_type": "stream",
          "text": [
            "[1, 2, 3]\n",
            "['hello', 'world']\n",
            "The second name on the names list is Eric\n"
          ],
          "name": "stdout"
        }
      ]
    },
    {
      "cell_type": "markdown",
      "metadata": {
        "id": "hbl8fqdoUC4f",
        "colab_type": "text"
      },
      "source": [
        "## Arithmetic Operators\n",
        "Just as any other programming languages, the addition, subtraction, multiplication, and division operators can be used with numbers."
      ]
    },
    {
      "cell_type": "code",
      "metadata": {
        "id": "vnyaH4cyUF5M",
        "colab_type": "code",
        "colab": {
          "base_uri": "https://localhost:8080/",
          "height": 35
        },
        "outputId": "7183c07a-39ea-4f1d-ab49-c4dbd2639baf"
      },
      "source": [
        "number = 1 + 2 * 3 / 4.0\n",
        "print(number)"
      ],
      "execution_count": 4,
      "outputs": [
        {
          "output_type": "stream",
          "text": [
            "2.5\n"
          ],
          "name": "stdout"
        }
      ]
    },
    {
      "cell_type": "markdown",
      "metadata": {
        "id": "XJsypTzkUOtt",
        "colab_type": "text"
      },
      "source": [
        "Another operator available is the modulo (%) operator, which returns the integer remainder of the division. dividend % divisor = remainder."
      ]
    },
    {
      "cell_type": "code",
      "metadata": {
        "id": "DOWqiaqwUPXr",
        "colab_type": "code",
        "colab": {
          "base_uri": "https://localhost:8080/",
          "height": 35
        },
        "outputId": "766d2d92-3551-4449-af49-f8e441a1a70b"
      },
      "source": [
        "remainder = 11 % 3\n",
        "print(remainder)"
      ],
      "execution_count": 5,
      "outputs": [
        {
          "output_type": "stream",
          "text": [
            "2\n"
          ],
          "name": "stdout"
        }
      ]
    },
    {
      "cell_type": "markdown",
      "metadata": {
        "id": "AZ6Y4XSwUX6o",
        "colab_type": "text"
      },
      "source": [
        "## Using Operators with Strings\n",
        "Python supports concatenating strings using the addition operator:"
      ]
    },
    {
      "cell_type": "code",
      "metadata": {
        "id": "b4Q8JZYMUcvE",
        "colab_type": "code",
        "colab": {}
      },
      "source": [
        "helloworld = \"hello\" + \" \" + \"world\"\n"
      ],
      "execution_count": 0,
      "outputs": []
    },
    {
      "cell_type": "markdown",
      "metadata": {
        "id": "L73zWvFiUfEL",
        "colab_type": "text"
      },
      "source": [
        "Python also supports multiplying strings to form a string with a repeating sequence:"
      ]
    },
    {
      "cell_type": "code",
      "metadata": {
        "id": "aWLoe1o-Uhba",
        "colab_type": "code",
        "colab": {
          "base_uri": "https://localhost:8080/",
          "height": 35
        },
        "outputId": "8912330d-ffe1-4496-a744-f3d6d0029dee"
      },
      "source": [
        "lotsofhellos = \"hello\" * 10\n",
        "print(lotsofhellos)"
      ],
      "execution_count": 6,
      "outputs": [
        {
          "output_type": "stream",
          "text": [
            "hellohellohellohellohellohellohellohellohellohello\n"
          ],
          "name": "stdout"
        }
      ]
    },
    {
      "cell_type": "markdown",
      "metadata": {
        "id": "iHH9VowsUkjZ",
        "colab_type": "text"
      },
      "source": [
        "## Using Operators with Lists\n",
        "Lists can be joined with the addition operators:"
      ]
    },
    {
      "cell_type": "code",
      "metadata": {
        "id": "agHVjYecVKm5",
        "colab_type": "code",
        "colab": {}
      },
      "source": [
        "even_numbers = [2,4,6,8]\n",
        "odd_numbers = [1,3,5,7]\n",
        "all_numbers = odd_numbers + even_numbers\n"
      ],
      "execution_count": 0,
      "outputs": []
    },
    {
      "cell_type": "markdown",
      "metadata": {
        "id": "GZHvUBH8VL1n",
        "colab_type": "text"
      },
      "source": [
        "Just as in strings, Python supports forming new lists with a repeating sequence using the multiplication operator:"
      ]
    },
    {
      "cell_type": "code",
      "metadata": {
        "id": "dtWhCakKVQoo",
        "colab_type": "code",
        "colab": {
          "base_uri": "https://localhost:8080/",
          "height": 35
        },
        "outputId": "9cea36bc-37fd-47cb-ee77-8f64df6ee9ba"
      },
      "source": [
        "print([1,2,3] * 3)"
      ],
      "execution_count": 8,
      "outputs": [
        {
          "output_type": "stream",
          "text": [
            "[1, 2, 3, 1, 2, 3, 1, 2, 3]\n"
          ],
          "name": "stdout"
        }
      ]
    },
    {
      "cell_type": "markdown",
      "metadata": {
        "id": "7mg2yywAVT0p",
        "colab_type": "text"
      },
      "source": [
        "## Exercise\n",
        "The target of this exercise is to create two lists called ```x_list``` and ```y_list```, which contain 10 instances of the variables ```x``` and ```y```, respectively. You are also required to create a list called ```big_list```, which contains the variables ```x``` and ```y```, 10 times each, by concatenating the two lists you have created."
      ]
    },
    {
      "cell_type": "code",
      "metadata": {
        "id": "OV3-3c4bVbcG",
        "colab_type": "code",
        "colab": {
          "base_uri": "https://localhost:8080/",
          "height": 109
        },
        "outputId": "491abe4c-c809-4ef2-ad80-8fe946d46f91"
      },
      "source": [
        "x = object()\n",
        "y = object()\n",
        "\n",
        "# TODO: change this code\n",
        "x_list = [x]*10\n",
        "y_list = [y]*10\n",
        "big_list = [x]*10+[y]*10\n",
        "\n",
        "print(\"x_list contains %d objects\" % len(x_list))\n",
        "print(\"y_list contains %d objects\" % len(y_list))\n",
        "print(\"big_list contains %d objects\" % len(big_list))\n",
        "\n",
        "# testing code\n",
        "if x_list.count(x) == 10 and y_list.count(y) == 10:\n",
        "    print(\"Almost there...\")\n",
        "if big_list.count(x) == 10 and big_list.count(y) == 10:\n",
        "    print(\"Great!\")"
      ],
      "execution_count": 21,
      "outputs": [
        {
          "output_type": "stream",
          "text": [
            "x_list contains 10 objects\n",
            "y_list contains 10 objects\n",
            "big_list contains 20 objects\n",
            "Almost there...\n",
            "Great!\n"
          ],
          "name": "stdout"
        }
      ]
    },
    {
      "cell_type": "markdown",
      "metadata": {
        "id": "oEfvh6FGZ1xL",
        "colab_type": "text"
      },
      "source": [
        "## String Formatting\n",
        "\n",
        "Python uses C-style string formatting to create new, formatted strings. The \"%\" operator is used to format a set of variables enclosed in a \"tuple\" (a fixed size list), together with a format string, which contains normal text together with \"argument specifiers\", special symbols like \"%s\" and \"%d\".  \n",
        "Let's say you have a variable called \"name\" with your user name in it, and you would then like to print(out a greeting to that user.)"
      ]
    },
    {
      "cell_type": "code",
      "metadata": {
        "id": "CY1p4FZdaMCN",
        "colab_type": "code",
        "colab": {
          "base_uri": "https://localhost:8080/",
          "height": 35
        },
        "outputId": "76d76761-393b-4ad1-a2f2-aefa01269190"
      },
      "source": [
        "# This prints out \"Hello, John!\"\n",
        "name = \"John\"\n",
        "print(\"Hello, %s!\" % name)"
      ],
      "execution_count": 32,
      "outputs": [
        {
          "output_type": "stream",
          "text": [
            "Hello, John!\n"
          ],
          "name": "stdout"
        }
      ]
    },
    {
      "cell_type": "markdown",
      "metadata": {
        "id": "3m1B79mWaafk",
        "colab_type": "text"
      },
      "source": [
        "To use two or more argument specifiers, use a tuple (parentheses):"
      ]
    },
    {
      "cell_type": "code",
      "metadata": {
        "id": "9AvJp9xjadiB",
        "colab_type": "code",
        "colab": {
          "base_uri": "https://localhost:8080/",
          "height": 54
        },
        "outputId": "2a5da7ee-56b0-4141-c862-6fbdd6aee73b"
      },
      "source": [
        "# This prints out \"John is 23 years old.\"\n",
        "name = \"John\"\n",
        "age = 23\n",
        "print(\"%s is %d years old.\" % (name, age))\n",
        "print(\"wena %s... tiene %d!!!  \" % (name, age))"
      ],
      "execution_count": 38,
      "outputs": [
        {
          "output_type": "stream",
          "text": [
            "John is 23 years old.\n",
            "wena John... tiene 23!!!  \n"
          ],
          "name": "stdout"
        }
      ]
    },
    {
      "cell_type": "markdown",
      "metadata": {
        "id": "Ry0K-qLDadLH",
        "colab_type": "text"
      },
      "source": [
        "Any object which is not a string can be formatted using the %s operator as well. The string which returns from the \"repr\" method of that object is formatted as the string. For example:"
      ]
    },
    {
      "cell_type": "code",
      "metadata": {
        "id": "n8Au4bTubKKb",
        "colab_type": "code",
        "colab": {
          "base_uri": "https://localhost:8080/",
          "height": 35
        },
        "outputId": "d3fc0e4c-4e27-4c7d-aae6-226821a5e904"
      },
      "source": [
        "# This prints out: A list: [1, 2, 3]\n",
        "mylist = [1,2,3]\n",
        "print(\"A list: %s\" % mylist)"
      ],
      "execution_count": 39,
      "outputs": [
        {
          "output_type": "stream",
          "text": [
            "A list: [1, 2, 3]\n"
          ],
          "name": "stdout"
        }
      ]
    },
    {
      "cell_type": "markdown",
      "metadata": {
        "id": "CxP7aFUubZaA",
        "colab_type": "text"
      },
      "source": [
        "Here are some basic argument specifiers you should know:\n",
        "\n",
        "\n",
        "```\n",
        "%s - String (or any object with a string representation, like numbers)\n",
        "\n",
        "%d - Integers\n",
        "\n",
        "%f - Floating point numbers\n",
        "\n",
        "%.<number of digits>f - Floating point numbers with a fixed amount of digits to the right of the dot.\n",
        "\n",
        "%x/%X - Integers in hex representation (lowercase/uppercase)\n",
        "```\n",
        "\n"
      ]
    },
    {
      "cell_type": "markdown",
      "metadata": {
        "id": "UwCwN5SEdJFO",
        "colab_type": "text"
      },
      "source": [
        "## Exercise\n",
        "\n",
        "You will need to write a format string which prints out the data using the following syntax: `Hello John Doe. Your current balance is $53.44.`\n"
      ]
    },
    {
      "cell_type": "code",
      "metadata": {
        "id": "PaGKaTa3dOcH",
        "colab_type": "code",
        "colab": {
          "base_uri": "https://localhost:8080/",
          "height": 54
        },
        "outputId": "cb0097df-70d8-4b45-f06c-3640113031b9"
      },
      "source": [
        "data = (\"John\", \"Doe\", 53.44)\n",
        "format_string = \"Hello %s %s. Your current balance is $%s\"\n",
        "\n",
        "print((format_string) % data )\n",
        "\n",
        "print((format_string) % data )\n"
      ],
      "execution_count": 48,
      "outputs": [
        {
          "output_type": "stream",
          "text": [
            "Hello John Doe. Your current balance is $53.44\n",
            "Hello John Doe. Your current balance is $53.440000\n"
          ],
          "name": "stdout"
        }
      ]
    },
    {
      "cell_type": "markdown",
      "metadata": {
        "id": "FqOWR2Ath7YM",
        "colab_type": "text"
      },
      "source": [
        "## Basic String Operations\n",
        "Strings are bits of text. They can be defined as anything between quotes:"
      ]
    },
    {
      "cell_type": "code",
      "metadata": {
        "id": "H-zXswoLiDwU",
        "colab_type": "code",
        "colab": {}
      },
      "source": [
        "astring = \"Hello world!\"\n",
        "astring2 = 'Hello world!'"
      ],
      "execution_count": 0,
      "outputs": []
    },
    {
      "cell_type": "markdown",
      "metadata": {
        "id": "TbIBDe6piLT8",
        "colab_type": "text"
      },
      "source": [
        "As you can see, the first thing you learned was printing a simple sentence. This sentence was stored by Python as a string. However, instead of immediately printing strings out, we will explore the various things you can do to them. You can also use single quotes to assign a string. However, you will face problems if the value to be assigned itself contains single quotes.For example to assign the string in these bracket(single quotes are ' ') you need to use double quotes only like this"
      ]
    },
    {
      "cell_type": "code",
      "metadata": {
        "id": "tV8TvsooiKSR",
        "colab_type": "code",
        "colab": {
          "base_uri": "https://localhost:8080/",
          "height": 54
        },
        "outputId": "533a0153-0748-4606-de7c-32c54bebb6e7"
      },
      "source": [
        "astring = \"Hello world!\"\n",
        "print(\"single quotes are ' '\")\n",
        "\n",
        "print(len(astring))"
      ],
      "execution_count": 52,
      "outputs": [
        {
          "output_type": "stream",
          "text": [
            "single quotes are ' '\n",
            "12\n"
          ],
          "name": "stdout"
        }
      ]
    },
    {
      "cell_type": "markdown",
      "metadata": {
        "id": "6z6EOMr5iyPI",
        "colab_type": "text"
      },
      "source": [
        "That prints out 12, because \"Hello world!\" is 12 characters long, including punctuation and spaces."
      ]
    },
    {
      "cell_type": "code",
      "metadata": {
        "id": "aDFI5WRmi7wm",
        "colab_type": "code",
        "colab": {
          "base_uri": "https://localhost:8080/",
          "height": 54
        },
        "outputId": "c85ba838-e3fa-4e94-ae06-da87ca7f015a"
      },
      "source": [
        "astring = \"Hello world!\"\n",
        "print(astring.index(\"o\"))\n",
        "print(astring.index(\"H\"))\n"
      ],
      "execution_count": 80,
      "outputs": [
        {
          "output_type": "stream",
          "text": [
            "4\n",
            "0\n"
          ],
          "name": "stdout"
        }
      ]
    },
    {
      "cell_type": "markdown",
      "metadata": {
        "id": "GlLgBPjujUVp",
        "colab_type": "text"
      },
      "source": [
        "That prints out 4, because the location of the first occurrence of the letter \"o\" is 4 characters away from the first character. Notice how there are actually two o's in the phrase - this method only recognizes the first.\n",
        "\n",
        "But why didn't it print out 5? Isn't \"o\" the fifth character in the string? To make things more simple, Python (and most other programming languages) start things at 0 instead of 1. So the index of \"o\" is 4."
      ]
    },
    {
      "cell_type": "code",
      "metadata": {
        "id": "t5esAPA4jVYB",
        "colab_type": "code",
        "colab": {
          "base_uri": "https://localhost:8080/",
          "height": 35
        },
        "outputId": "de8c4213-48b1-457d-9cf5-1ae114d512f6"
      },
      "source": [
        "astring = \"Hello world!\"\n",
        "print(astring.count(\"l\"))"
      ],
      "execution_count": 56,
      "outputs": [
        {
          "output_type": "stream",
          "text": [
            "3\n"
          ],
          "name": "stdout"
        }
      ]
    },
    {
      "cell_type": "markdown",
      "metadata": {
        "id": "JcxslEI-jZAy",
        "colab_type": "text"
      },
      "source": [
        "For those of you using silly fonts, that is a lowercase L, not a number one. This counts the number of l's in the string. Therefore, it should print 3."
      ]
    },
    {
      "cell_type": "code",
      "metadata": {
        "id": "fVWs2v3gjamy",
        "colab_type": "code",
        "colab": {
          "base_uri": "https://localhost:8080/",
          "height": 54
        },
        "outputId": "40adaf77-73c4-4718-98e7-73e0690bf960"
      },
      "source": [
        "astring = \"Hello world!\"\n",
        "print(astring[3:7])\n",
        "print(astring[3:-1])"
      ],
      "execution_count": 79,
      "outputs": [
        {
          "output_type": "stream",
          "text": [
            "lo w\n",
            "lo world\n"
          ],
          "name": "stdout"
        }
      ]
    },
    {
      "cell_type": "markdown",
      "metadata": {
        "id": "4s7RnWV0jdkM",
        "colab_type": "text"
      },
      "source": [
        "This prints a slice of the string, starting at index 3, and ending at index 6. But why 6 and not 7? Again, most programming languages do this - it makes doing math inside those brackets easier.\n",
        "\n",
        "If you just have one number in the brackets, it will give you the single character at that index. If you leave out the first number but keep the colon, it will give you a slice from the start to the number you left in. If you leave out the second number, it will give you a slice from the first number to the end.\n",
        "\n",
        "You can even put negative numbers inside the brackets. They are an easy way of starting at the end of the string instead of the beginning. This way, -3 means \"3rd character from the end\"."
      ]
    },
    {
      "cell_type": "code",
      "metadata": {
        "id": "9akzZ_MEkLBa",
        "colab_type": "code",
        "colab": {
          "base_uri": "https://localhost:8080/",
          "height": 35
        },
        "outputId": "bcfb435a-adcc-445c-c593-4ce4480bb6af"
      },
      "source": [
        "astring = \"Hello world!\"\n",
        "print(astring[3:7:2])"
      ],
      "execution_count": 78,
      "outputs": [
        {
          "output_type": "stream",
          "text": [
            "l \n"
          ],
          "name": "stdout"
        }
      ]
    },
    {
      "cell_type": "markdown",
      "metadata": {
        "id": "ERb8hiO1kNVh",
        "colab_type": "text"
      },
      "source": [
        "This prints the characters of string from 3 to 7 skipping one character. This is extended slice syntax. The general form is [start:stop:step]."
      ]
    },
    {
      "cell_type": "code",
      "metadata": {
        "id": "vxzSeXeokPs2",
        "colab_type": "code",
        "colab": {
          "base_uri": "https://localhost:8080/",
          "height": 54
        },
        "outputId": "efd3a068-0522-4b09-822c-59e1362bc8b0"
      },
      "source": [
        "astring = \"Hello world!\"\n",
        "print(astring[3:7])\n",
        "print(astring[3:7:1])"
      ],
      "execution_count": 71,
      "outputs": [
        {
          "output_type": "stream",
          "text": [
            "lo w\n",
            "lo w\n"
          ],
          "name": "stdout"
        }
      ]
    },
    {
      "cell_type": "markdown",
      "metadata": {
        "id": "PB-qv_Ivkpv1",
        "colab_type": "text"
      },
      "source": [
        "Note that both of them produce same output\n",
        "\n",
        "There is no function like strrev in C to reverse a string. But with the above mentioned type of slice syntax you can easily reverse a string like this"
      ]
    },
    {
      "cell_type": "code",
      "metadata": {
        "id": "3t5Qepuokwbf",
        "colab_type": "code",
        "colab": {
          "base_uri": "https://localhost:8080/",
          "height": 72
        },
        "outputId": "49a6f890-ef1e-4aad-ce29-d975ae9f9aee"
      },
      "source": [
        "astring = \"Hello world!\"\n",
        "print(astring[::-2])\n",
        "print(astring[::-3])\n",
        "print(astring[::2])"
      ],
      "execution_count": 77,
      "outputs": [
        {
          "output_type": "stream",
          "text": [
            "!lo le\n",
            "!r l\n",
            "Hlowrd\n"
          ],
          "name": "stdout"
        }
      ]
    },
    {
      "cell_type": "markdown",
      "metadata": {
        "id": "RbYFnjfTlLCg",
        "colab_type": "text"
      },
      "source": [
        "This"
      ]
    },
    {
      "cell_type": "code",
      "metadata": {
        "id": "TFJs0dGzlZZj",
        "colab_type": "code",
        "colab": {
          "base_uri": "https://localhost:8080/",
          "height": 54
        },
        "outputId": "306e64ef-77e6-47ea-8750-385257a8369e"
      },
      "source": [
        "astring = \"Hello world!\"\n",
        "print(astring.upper())\n",
        "print(astring.lower())"
      ],
      "execution_count": 81,
      "outputs": [
        {
          "output_type": "stream",
          "text": [
            "HELLO WORLD!\n",
            "hello world!\n"
          ],
          "name": "stdout"
        }
      ]
    },
    {
      "cell_type": "markdown",
      "metadata": {
        "id": "KHI2d-yBlfqH",
        "colab_type": "text"
      },
      "source": [
        "These make a new string with all letters converted to uppercase and lowercase, respectively."
      ]
    },
    {
      "cell_type": "code",
      "metadata": {
        "id": "YnpFbFadliBo",
        "colab_type": "code",
        "colab": {
          "base_uri": "https://localhost:8080/",
          "height": 54
        },
        "outputId": "2642a65d-1b38-4f68-c51c-8871ae88cd4b"
      },
      "source": [
        "astring = \"Hello world!\"\n",
        "print(astring.startswith(\"Hello\"))\n",
        "print(astring.endswith(\"asdfasdfasdf\"))"
      ],
      "execution_count": 82,
      "outputs": [
        {
          "output_type": "stream",
          "text": [
            "True\n",
            "False\n"
          ],
          "name": "stdout"
        }
      ]
    },
    {
      "cell_type": "markdown",
      "metadata": {
        "id": "Yx7UfCNLlpNJ",
        "colab_type": "text"
      },
      "source": [
        "This is used to determine whether the string starts with something or ends with something, respectively. The first one will print True, as the string starts with \"Hello\". The second one will print False, as the string certainly does not end with \"asdfasdfasdf\"."
      ]
    },
    {
      "cell_type": "code",
      "metadata": {
        "id": "RSYm1uaYlrDE",
        "colab_type": "code",
        "colab": {
          "base_uri": "https://localhost:8080/",
          "height": 35
        },
        "outputId": "b939fe8d-2da7-49cd-aa03-f0f24e12c503"
      },
      "source": [
        "astring = \"Hello world!\"\n",
        "afewwords = astring.split(\" \")\n"
      ],
      "execution_count": 85,
      "outputs": [
        {
          "output_type": "stream",
          "text": [
            "['Hello', 'world!']\n"
          ],
          "name": "stdout"
        }
      ]
    },
    {
      "cell_type": "markdown",
      "metadata": {
        "id": "pZFAmGLUn3at",
        "colab_type": "text"
      },
      "source": [
        "This splits the string into a bunch of strings grouped together in a list. Since this example splits at a space, the first item in the list will be \"Hello\", and the second will be \"world!\"."
      ]
    },
    {
      "cell_type": "markdown",
      "metadata": {
        "id": "dO-e91_Pn79U",
        "colab_type": "text"
      },
      "source": [
        "## Exercise\n",
        "\n",
        "Try to fix the code to print out the correct information by changing the string."
      ]
    },
    {
      "cell_type": "code",
      "metadata": {
        "id": "FhjrDEg2n_3i",
        "colab_type": "code",
        "colab": {
          "base_uri": "https://localhost:8080/",
          "height": 256
        },
        "outputId": "366d03fc-7c02-4fb0-fdc7-a90965f4f8ed"
      },
      "source": [
        "s = \"Str thera! what ome!\"\n",
        "# Length should be 20\n",
        "print(\"Length of s = %d\" % len(s))\n",
        "\n",
        "# First occurrence of \"a\" should be at index 8\n",
        "print(\"The first occurrence of the letter a = %d\" % s.index(\"a\"))\n",
        "\n",
        "# Number of a's should be 2\n",
        "print(\"a occurs %d times\" % s.count(\"a\"))\n",
        "\n",
        "# Slicing the string into bits\n",
        "print(\"The first five characters are '%s'\" % s[:5]) # Start to 5\n",
        "print(\"The next five characters are '%s'\" % s[5:10]) # 5 to 10\n",
        "print(\"The thirteenth character is '%s'\" % s[12]) # Just number 12\n",
        "print(\"The characters with odd index are '%s'\" %s[1::2]) #(0-based indexing)\n",
        "print(\"The last five characters are '%s'\" % s[-5:]) # 5th-from-last to end\n",
        "\n",
        "# Convert everything to uppercase\n",
        "print(\"String in uppercase: %s\" % s.upper())\n",
        "\n",
        "# Convert everything to lowercase\n",
        "print(\"String in lowercase: %s\" % s.lower())\n",
        "\n",
        "# Check how a string starts\n",
        "if s.startswith(\"Str\"):\n",
        "    print(\"String starts with 'Str'. Good!\")\n",
        "\n",
        "# Check how a string ends\n",
        "if s.endswith(\"ome!\"):\n",
        "    print(\"String ends with 'ome!'. Good!\")\n",
        "\n",
        "# Split the string into three separate strings,\n",
        "# each containing only a word\n",
        "print(\"Split the words of the string: %s\" % s.split(\" \"))"
      ],
      "execution_count": 97,
      "outputs": [
        {
          "output_type": "stream",
          "text": [
            "Length of s = 20\n",
            "The first occurrence of the letter a = 8\n",
            "a occurs 2 times\n",
            "The first five characters are 'Str t'\n",
            "The next five characters are 'hera!'\n",
            "The thirteenth character is 'h'\n",
            "The characters with odd index are 't hr!wa m!'\n",
            "The last five characters are ' ome!'\n",
            "String in uppercase: STR THERA! WHAT OME!\n",
            "String in lowercase: str thera! what ome!\n",
            "String starts with 'Str'. Good!\n",
            "String ends with 'ome!'. Good!\n",
            "Split the words of the string: ['Str', 'thera!', 'what', 'ome!']\n"
          ],
          "name": "stdout"
        }
      ]
    },
    {
      "cell_type": "markdown",
      "metadata": {
        "id": "d4L3QbzvqWxv",
        "colab_type": "text"
      },
      "source": [
        "# Conditions\n",
        "Python uses boolean variables to evaluate conditions. The boolean values True and False are returned when an expression is compared or evaluated. For example:"
      ]
    },
    {
      "cell_type": "code",
      "metadata": {
        "id": "UExqm1AiqZ1R",
        "colab_type": "code",
        "colab": {
          "base_uri": "https://localhost:8080/",
          "height": 72
        },
        "outputId": "d281e2db-df5b-4600-b55a-f37c0ac26bce"
      },
      "source": [
        "x = 2\n",
        "print(x == 2) # prints out True\n",
        "print(x == 3) # prints out False\n",
        "print(x < 3) # prints out True\n"
      ],
      "execution_count": 98,
      "outputs": [
        {
          "output_type": "stream",
          "text": [
            "True\n",
            "False\n",
            "True\n"
          ],
          "name": "stdout"
        }
      ]
    },
    {
      "cell_type": "markdown",
      "metadata": {
        "id": "otd60Ebyqalr",
        "colab_type": "text"
      },
      "source": [
        "Notice that variable assignment is done using a single equals operator \"=\", whereas comparison between two variables is done using the double equals operator \"==\". The \"not equals\" operator is marked as \"!=\".\n",
        "## Boolean operators\n",
        "The \"and\" and \"or\" boolean operators allow building complex boolean expressions, for example:"
      ]
    },
    {
      "cell_type": "code",
      "metadata": {
        "id": "yI6hv4ySqqAQ",
        "colab_type": "code",
        "colab": {
          "base_uri": "https://localhost:8080/",
          "height": 54
        },
        "outputId": "31b4c239-2966-41fd-df5a-e2be3b9fbe65"
      },
      "source": [
        "name = \"John\"\n",
        "age = 23\n",
        "if name == \"John\" and age == 23:\n",
        "    print(\"Your name is John, and you are also 23 years old.\")\n",
        "\n",
        "if name == \"John\" or name == \"Rick\":\n",
        "    print(\"Your name is either John or Rick.\")\n"
      ],
      "execution_count": 99,
      "outputs": [
        {
          "output_type": "stream",
          "text": [
            "Your name is John, and you are also 23 years old.\n",
            "Your name is either John or Rick.\n"
          ],
          "name": "stdout"
        }
      ]
    },
    {
      "cell_type": "markdown",
      "metadata": {
        "id": "yGpyQagWqx3x",
        "colab_type": "text"
      },
      "source": [
        "## The \"in\" operator  \n",
        "The \"in\" operator could be used to check if a specified object exists within an iterable object container, such as a list:  \n"
      ]
    },
    {
      "cell_type": "code",
      "metadata": {
        "id": "0XP6uofYq1hA",
        "colab_type": "code",
        "colab": {
          "base_uri": "https://localhost:8080/",
          "height": 35
        },
        "outputId": "ec642218-42ad-4c19-ff89-222d27602368"
      },
      "source": [
        "name = \"John\"\n",
        "if name in [\"John\", \"Rick\"]:\n",
        "    print(\"Your name is either John or Rick.\")\n"
      ],
      "execution_count": 100,
      "outputs": [
        {
          "output_type": "stream",
          "text": [
            "Your name is either John or Rick.\n"
          ],
          "name": "stdout"
        }
      ]
    },
    {
      "cell_type": "markdown",
      "metadata": {
        "id": "leCP1Z1drT3C",
        "colab_type": "text"
      },
      "source": [
        "Python uses indentation to define code blocks, instead of brackets. The standard Python indentation is 4 spaces, although tabs and any other space size will work, as long as it is consistent. Notice that code blocks do not need any termination.  \n",
        "Here is an example for using Python's \"if\" statement using code blocks:"
      ]
    },
    {
      "cell_type": "code",
      "metadata": {
        "id": "gTd0tFOlrWZO",
        "colab_type": "code",
        "colab": {}
      },
      "source": [
        "if <statement is=\"\" true=\"\">:\n",
        "    <do something=\"\">\n",
        "    ....\n",
        "    ....\n",
        "elif <another statement=\"\" is=\"\" true=\"\">: # else if\n",
        "    <do something=\"\" else=\"\">\n",
        "    ....\n",
        "    ....\n",
        "else:\n",
        "    <do another=\"\" thing=\"\">\n",
        "    ....\n",
        "    ....\n",
        "</do></do></another></do></statement>\n"
      ],
      "execution_count": 0,
      "outputs": []
    },
    {
      "cell_type": "markdown",
      "metadata": {
        "id": "MJORd9P7rxXs",
        "colab_type": "text"
      },
      "source": [
        "For example:"
      ]
    },
    {
      "cell_type": "code",
      "metadata": {
        "id": "Ay9Oeovyrwdq",
        "colab_type": "code",
        "colab": {
          "base_uri": "https://localhost:8080/",
          "height": 35
        },
        "outputId": "bb78a747-efa9-477a-819b-7ce885668f85"
      },
      "source": [
        "x = 2\n",
        "if x == 2:\n",
        "    print(\"x equals two!\")\n",
        "else:\n",
        "    print(\"x does not equal to two.\")\n",
        "    "
      ],
      "execution_count": 104,
      "outputs": [
        {
          "output_type": "stream",
          "text": [
            "x equals two!\n"
          ],
          "name": "stdout"
        }
      ]
    },
    {
      "cell_type": "markdown",
      "metadata": {
        "id": "wLc-AKBUr79f",
        "colab_type": "text"
      },
      "source": [
        "A statement is evaulated as true if one of the following is correct:   \n",
        "- 1. The \"True\" boolean variable is given, or calculated using an expression, such as an arithmetic comparison.  \n",
        "- 2. An object which is not considered \"empty\" is passed.\n",
        "\n",
        "Here are some examples for objects which are considered as empty:  \n",
        "- 1. An empty string: \"\"   \n",
        "- 2. An empty list: []   \n",
        "- 3. The number zero: 0  \n",
        "- 4. The false boolean variable: False  \n",
        "\n",
        "## The 'is' operator\n",
        "\n",
        "Unlike the double equals operator \"==\", the \"is\" operator does not match the values of the variables, but the instances themselves. For example:"
      ]
    },
    {
      "cell_type": "code",
      "metadata": {
        "id": "e7UsrsqHsViO",
        "colab_type": "code",
        "colab": {
          "base_uri": "https://localhost:8080/",
          "height": 164
        },
        "outputId": "836dcd56-f87c-4ea1-95fa-782f34401ab2"
      },
      "source": [
        "x = [1,2,3]\n",
        "y = [1,2,3]\n",
        "print(x == y) # Prints out True\n",
        "print(x is y) # Prints out False\n",
        "print(2 in y)\n",
        "print([1,2,3] == y)\n",
        "print([1,2,3] is y)\n",
        "print(y is y)\n",
        "print([1,2,3] is [1,2,3])\n",
        "y2 = y\n",
        "print(y2 is y) \n"
      ],
      "execution_count": 113,
      "outputs": [
        {
          "output_type": "stream",
          "text": [
            "True\n",
            "False\n",
            "True\n",
            "True\n",
            "False\n",
            "True\n",
            "False\n",
            "True\n"
          ],
          "name": "stdout"
        }
      ]
    },
    {
      "cell_type": "markdown",
      "metadata": {
        "id": "XKNLZ3hdtJ0f",
        "colab_type": "text"
      },
      "source": [
        "## The \"not\" operator\n",
        "\n",
        "Using \"not\" before a boolean expression inverts it:"
      ]
    },
    {
      "cell_type": "code",
      "metadata": {
        "id": "2KqpNnx-tLGb",
        "colab_type": "code",
        "colab": {
          "base_uri": "https://localhost:8080/",
          "height": 54
        },
        "outputId": "b8af3d3d-aff9-48c4-f28f-57fd3c95d1b3"
      },
      "source": [
        "print(not False) # Prints out True\n",
        "print((not False) == (False)) # Prints out False\n"
      ],
      "execution_count": 114,
      "outputs": [
        {
          "output_type": "stream",
          "text": [
            "True\n",
            "False\n"
          ],
          "name": "stdout"
        }
      ]
    },
    {
      "cell_type": "markdown",
      "metadata": {
        "id": "3oE2OkDhtSFc",
        "colab_type": "text"
      },
      "source": [
        "## Exercise\n",
        "\n",
        "Change the variables in the first section, so that each if statement resolves as True.  \n"
      ]
    },
    {
      "cell_type": "code",
      "metadata": {
        "id": "GmGN9cWjtTiT",
        "colab_type": "code",
        "colab": {
          "base_uri": "https://localhost:8080/",
          "height": 127
        },
        "outputId": "abb7feec-9547-453c-d24f-0994920b3fe8"
      },
      "source": [
        "# change this code\n",
        "number = 16\n",
        "second_number = 0\n",
        "first_array = [1,2,3]\n",
        "second_array = [1,2]\n",
        "\n",
        "if number > 15:\n",
        "    print(\"1\")\n",
        "\n",
        "if first_array:\n",
        "    print(\"2\")\n",
        "\n",
        "if len(second_array) == 2:\n",
        "    print(\"3\")\n",
        "\n",
        "if len(first_array) + len(second_array) == 5:\n",
        "    print(\"4\")\n",
        "\n",
        "if first_array and first_array[0] == 1:\n",
        "    print(\"5\")\n",
        "\n",
        "if not second_number:\n",
        "    print(\"6\")\n"
      ],
      "execution_count": 122,
      "outputs": [
        {
          "output_type": "stream",
          "text": [
            "1\n",
            "2\n",
            "3\n",
            "4\n",
            "5\n",
            "6\n"
          ],
          "name": "stdout"
        }
      ]
    },
    {
      "cell_type": "markdown",
      "metadata": {
        "id": "nRnLWSnHt8X5",
        "colab_type": "text"
      },
      "source": [
        "### **Continuar con [Loops](https://www.learnpython.org/en/Loops) ...**"
      ]
    },
    {
      "cell_type": "code",
      "metadata": {
        "id": "uSfe8i2Qxess",
        "colab_type": "code",
        "colab": {}
      },
      "source": [
        ""
      ],
      "execution_count": 0,
      "outputs": []
    }
  ]
}
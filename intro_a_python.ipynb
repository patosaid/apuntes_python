{
  "nbformat": 4,
  "nbformat_minor": 0,
  "metadata": {
    "colab": {
      "name": "intro_a_python.ipynb",
      "version": "0.3.2",
      "provenance": [],
      "collapsed_sections": [],
      "include_colab_link": true
    },
    "kernelspec": {
      "name": "python3",
      "display_name": "Python 3"
    }
  },
  "cells": [
    {
      "cell_type": "markdown",
      "metadata": {
        "id": "view-in-github",
        "colab_type": "text"
      },
      "source": [
        "<a href=\"https://colab.research.google.com/github/patosaid/apuntes_python/blob/master/intro_a_python.ipynb\" target=\"_parent\"><img src=\"https://colab.research.google.com/assets/colab-badge.svg\" alt=\"Open In Colab\"/></a>"
      ]
    },
    {
      "cell_type": "markdown",
      "metadata": {
        "id": "LK0up_3m46r7",
        "colab_type": "text"
      },
      "source": [
        "# Desde DataCamp"
      ]
    },
    {
      "cell_type": "markdown",
      "metadata": {
        "id": "YQ-rFfzw6cyK",
        "colab_type": "text"
      },
      "source": [
        "### Python como calculadora  \n",
        "Python is perfectly suited to do basic calculations. Apart from addition, subtraction, multiplication and division, there is also support for more advanced operations such as:\n",
        "\n",
        "- Potencia: ```**```. Este operador eleva el número to its left to the power of the number to its right. For example ```4**2``` will give 16.\n",
        "- Módulo: ```%```. This operator returns the remainder of the division of the number to the left by the number on its right. For example ```18 % 7``` equals 4."
      ]
    },
    {
      "cell_type": "markdown",
      "metadata": {
        "id": "UROviXB_8rO4",
        "colab_type": "text"
      },
      "source": [
        "### Other variable types\n",
        "\n",
        "- ```int```, or integer: a number without a fractional part. savings, with the value 100, is an example of an integer.\n",
        "- ```float```, or floating point: a number that has both an integer and fractional part, separated by a point. growth_multiplier, with the value 1.1, is an example of a float.\n",
        "\n",
        "Next to numerical data types, there are two other very common data types:\n",
        "\n",
        "- ```str```, or string: a type to represent text. You can use single or double quotes to build a string.\n",
        "- ```bool```, or boolean: a type to represent logical values. Can only be True or False (the capitalization is important!).\n"
      ]
    },
    {
      "cell_type": "markdown",
      "metadata": {
        "id": "og_QWRzk6v7z",
        "colab_type": "text"
      },
      "source": [
        "###Guess the type\n",
        "\n",
        "To find out the type of a value or a variable that refers to that value, you can use the type() function. Suppose you've defined a variable a, but you forgot the type of this variable. To determine the type of a, simply execute:\n",
        "\n",
        "> type(a)\n"
      ]
    },
    {
      "cell_type": "code",
      "metadata": {
        "id": "5HuRmUc89fn-",
        "colab_type": "code",
        "colab": {}
      },
      "source": [
        "a = 213231.23121234325\n",
        "b = True\n",
        "c = \"hello\""
      ],
      "execution_count": 0,
      "outputs": []
    },
    {
      "cell_type": "code",
      "metadata": {
        "id": "UYPsJSQU9jWh",
        "colab_type": "code",
        "outputId": "0318d96e-b1d3-49cb-b039-1a55068fc2b9",
        "colab": {
          "base_uri": "https://localhost:8080/",
          "height": 72
        }
      },
      "source": [
        "print(type(a))\n",
        "print(type(b))\n",
        "print(type(c))"
      ],
      "execution_count": 0,
      "outputs": [
        {
          "output_type": "stream",
          "text": [
            "<class 'float'>\n",
            "<class 'bool'>\n",
            "<class 'str'>\n"
          ],
          "name": "stdout"
        }
      ]
    },
    {
      "cell_type": "markdown",
      "metadata": {
        "id": "5dU9RZPc-T1Y",
        "colab_type": "text"
      },
      "source": [
        "##Operations with other types \n",
        "When you sum two strings, for example, you'll get different behavior than when you sum two integers or two booleans.\n",
        "\n",
        "In the script some variables with different types have already been created. It's up to you to use them."
      ]
    },
    {
      "cell_type": "code",
      "metadata": {
        "id": "7f3AIJE--ajz",
        "colab_type": "code",
        "outputId": "2f4f9317-89b2-49cb-8280-2e3bac9e2f08",
        "colab": {
          "base_uri": "https://localhost:8080/",
          "height": 54
        }
      },
      "source": [
        "savings = 100\n",
        "growth_multiplier = 1.1\n",
        "desc = \"compound interest\"\n",
        "\n",
        "# Assign product of growth_multiplier and savings to year1\n",
        "\n",
        "year1 = savings *growth_multiplier\n",
        "# Print the type of year1\n",
        "print(type(year1))\n",
        "# Assign sum of desc and desc to doubledesc\n",
        "doubledesc = desc + desc\n",
        "\n",
        "# Print out doubledesc\n",
        "print(doubledesc)"
      ],
      "execution_count": 0,
      "outputs": [
        {
          "output_type": "stream",
          "text": [
            "<class 'float'>\n",
            "compound interestcompound interest\n"
          ],
          "name": "stdout"
        }
      ]
    },
    {
      "cell_type": "markdown",
      "metadata": {
        "id": "tgchQF7e_HM-",
        "colab_type": "text"
      },
      "source": [
        "### Type conversion\n",
        "\n",
        "Using the ```+``` operator to paste together two strings can be very useful in building custom messages.\n",
        "\n",
        "Suppose, for example, that you've calculated the return of your investment and want to summarize the results in a string. Assuming the floats savings and result are defined, you can try something like this:\n",
        "\n",
        "> ```print(\"I started with $\" + savings + \" and now have $\" + result + \". Awesome!\")```\n",
        "\n",
        "This will not work, though, as you cannot simply sum strings and floats.\n",
        "\n",
        "To fix the error, you'll need to explicitly convert the types of your variables. More specifically, you'll need``` str()```, to convert a value into a string. ```str(savings)```, for example, will convert the float savings to a string.\n",
        "\n",
        "Similar functions such as ```int()```, ```float()``` and ```bool()``` will help you convert Python values into any type."
      ]
    },
    {
      "cell_type": "code",
      "metadata": {
        "id": "N8SZlQre-ubA",
        "colab_type": "code",
        "outputId": "a45d8bd2-4307-4a54-89ab-ddb261c096c3",
        "colab": {
          "base_uri": "https://localhost:8080/",
          "height": 35
        }
      },
      "source": [
        "factor = 1.1\n",
        "result = savings * factor**7\n"
      ],
      "execution_count": 0,
      "outputs": [
        {
          "output_type": "stream",
          "text": [
            "I started with $100 and now have $194.87171000000012. Awesome!\n"
          ],
          "name": "stdout"
        }
      ]
    },
    {
      "cell_type": "markdown",
      "metadata": {
        "id": "yUOuXGp8CERm",
        "colab_type": "text"
      },
      "source": [
        "## List\n",
        "Lists are very similar to arrays. They can contain any type of variable, and they can contain as many variables as you wish. Lists can also be iterated over in a very simple manner. Here is an example of how to build a list."
      ]
    },
    {
      "cell_type": "code",
      "metadata": {
        "id": "M5B-p3IWK0F5",
        "colab_type": "code",
        "outputId": "1e26793c-6526-4ba0-be0f-2cba6f14250d",
        "colab": {
          "base_uri": "https://localhost:8080/",
          "height": 146
        }
      },
      "source": [
        "mylist = []\n",
        "mylist.append(1)\n",
        "mylist.append(2)\n",
        "mylist.append(5)\n",
        "print(mylist[0]) # prints 1\n",
        "print(mylist[1]) # prints 2\n",
        "print(mylist[2]) # prints 3\n",
        "\n",
        "# prints out 1,2,3\n",
        "for x in mylist:\n",
        "    print(x)"
      ],
      "execution_count": 0,
      "outputs": [
        {
          "output_type": "stream",
          "text": [
            "1\n",
            "2\n",
            "5\n",
            "1\n",
            "2\n",
            "5\n",
            "0\n"
          ],
          "name": "stdout"
        }
      ]
    },
    {
      "cell_type": "markdown",
      "metadata": {
        "id": "STGHdQe_L0dp",
        "colab_type": "text"
      },
      "source": [
        ""
      ]
    },
    {
      "cell_type": "code",
      "metadata": {
        "id": "Wh0bHOh9L2m4",
        "colab_type": "code",
        "colab": {}
      },
      "source": [
        ""
      ],
      "execution_count": 0,
      "outputs": []
    },
    {
      "cell_type": "markdown",
      "metadata": {
        "id": "W4E2R4BgM52n",
        "colab_type": "text"
      },
      "source": [
        ""
      ]
    },
    {
      "cell_type": "code",
      "metadata": {
        "id": "BVH99CzANEq9",
        "colab_type": "code",
        "outputId": "7889990c-7fed-411c-fd0b-70cb219fbf3a",
        "colab": {
          "base_uri": "https://localhost:8080/",
          "height": 72
        }
      },
      "source": [
        "\n",
        "numbers = []\n",
        "strings = []\n",
        "names = [\"John\", \"Eric\", \"Jessica\"]\n",
        "\n",
        "# write your code here\n",
        "numbers.append(1)\n",
        "numbers.append(2)\n",
        "numbers.append(3)\n",
        "\n",
        "strings.append(\"hello\")\n",
        "strings.append(\"world\")\n",
        "second_name = names[1]\n",
        "\n",
        "# this code should write out the filled arrays and the second name in the names list (Eric).\n",
        "print(numbers)\n",
        "print(strings)\n",
        "print(\"The second name on the names list is %s\" % second_name)"
      ],
      "execution_count": 3,
      "outputs": [
        {
          "output_type": "stream",
          "text": [
            "[1, 2, 3]\n",
            "['hello', 'world']\n",
            "The second name on the names list is Eric\n"
          ],
          "name": "stdout"
        }
      ]
    },
    {
      "cell_type": "markdown",
      "metadata": {
        "id": "hbl8fqdoUC4f",
        "colab_type": "text"
      },
      "source": [
        "## Arithmetic Operators\n",
        "Just as any other programming languages, the addition, subtraction, multiplication, and division operators can be used with numbers."
      ]
    },
    {
      "cell_type": "code",
      "metadata": {
        "id": "vnyaH4cyUF5M",
        "colab_type": "code",
        "colab": {
          "base_uri": "https://localhost:8080/",
          "height": 35
        },
        "outputId": "7183c07a-39ea-4f1d-ab49-c4dbd2639baf"
      },
      "source": [
        "number = 1 + 2 * 3 / 4.0\n",
        "print(number)"
      ],
      "execution_count": 4,
      "outputs": [
        {
          "output_type": "stream",
          "text": [
            "2.5\n"
          ],
          "name": "stdout"
        }
      ]
    },
    {
      "cell_type": "markdown",
      "metadata": {
        "id": "XJsypTzkUOtt",
        "colab_type": "text"
      },
      "source": [
        "Another operator available is the modulo (%) operator, which returns the integer remainder of the division. dividend % divisor = remainder."
      ]
    },
    {
      "cell_type": "code",
      "metadata": {
        "id": "DOWqiaqwUPXr",
        "colab_type": "code",
        "colab": {
          "base_uri": "https://localhost:8080/",
          "height": 35
        },
        "outputId": "766d2d92-3551-4449-af49-f8e441a1a70b"
      },
      "source": [
        "remainder = 11 % 3\n",
        "print(remainder)"
      ],
      "execution_count": 5,
      "outputs": [
        {
          "output_type": "stream",
          "text": [
            "2\n"
          ],
          "name": "stdout"
        }
      ]
    },
    {
      "cell_type": "markdown",
      "metadata": {
        "id": "AZ6Y4XSwUX6o",
        "colab_type": "text"
      },
      "source": [
        "## Using Operators with Strings\n",
        "Python supports concatenating strings using the addition operator:"
      ]
    },
    {
      "cell_type": "code",
      "metadata": {
        "id": "b4Q8JZYMUcvE",
        "colab_type": "code",
        "colab": {}
      },
      "source": [
        "helloworld = \"hello\" + \" \" + \"world\"\n"
      ],
      "execution_count": 0,
      "outputs": []
    },
    {
      "cell_type": "markdown",
      "metadata": {
        "id": "L73zWvFiUfEL",
        "colab_type": "text"
      },
      "source": [
        "Python also supports multiplying strings to form a string with a repeating sequence:"
      ]
    },
    {
      "cell_type": "code",
      "metadata": {
        "id": "aWLoe1o-Uhba",
        "colab_type": "code",
        "colab": {
          "base_uri": "https://localhost:8080/",
          "height": 35
        },
        "outputId": "8912330d-ffe1-4496-a744-f3d6d0029dee"
      },
      "source": [
        "lotsofhellos = \"hello\" * 10\n",
        "print(lotsofhellos)"
      ],
      "execution_count": 6,
      "outputs": [
        {
          "output_type": "stream",
          "text": [
            "hellohellohellohellohellohellohellohellohellohello\n"
          ],
          "name": "stdout"
        }
      ]
    },
    {
      "cell_type": "markdown",
      "metadata": {
        "id": "iHH9VowsUkjZ",
        "colab_type": "text"
      },
      "source": [
        "## Using Operators with Lists\n",
        "Lists can be joined with the addition operators:"
      ]
    },
    {
      "cell_type": "code",
      "metadata": {
        "id": "agHVjYecVKm5",
        "colab_type": "code",
        "colab": {}
      },
      "source": [
        "even_numbers = [2,4,6,8]\n",
        "odd_numbers = [1,3,5,7]\n",
        "all_numbers = odd_numbers + even_numbers\n"
      ],
      "execution_count": 0,
      "outputs": []
    },
    {
      "cell_type": "markdown",
      "metadata": {
        "id": "GZHvUBH8VL1n",
        "colab_type": "text"
      },
      "source": [
        "Just as in strings, Python supports forming new lists with a repeating sequence using the multiplication operator:"
      ]
    },
    {
      "cell_type": "code",
      "metadata": {
        "id": "dtWhCakKVQoo",
        "colab_type": "code",
        "colab": {
          "base_uri": "https://localhost:8080/",
          "height": 35
        },
        "outputId": "9cea36bc-37fd-47cb-ee77-8f64df6ee9ba"
      },
      "source": [
        "print([1,2,3] * 3)"
      ],
      "execution_count": 8,
      "outputs": [
        {
          "output_type": "stream",
          "text": [
            "[1, 2, 3, 1, 2, 3, 1, 2, 3]\n"
          ],
          "name": "stdout"
        }
      ]
    },
    {
      "cell_type": "markdown",
      "metadata": {
        "id": "7mg2yywAVT0p",
        "colab_type": "text"
      },
      "source": [
        "## Exercise\n",
        "The target of this exercise is to create two lists called ```x_list``` and ```y_list```, which contain 10 instances of the variables ```x``` and ```y```, respectively. You are also required to create a list called ```big_list```, which contains the variables ```x``` and ```y```, 10 times each, by concatenating the two lists you have created."
      ]
    },
    {
      "cell_type": "code",
      "metadata": {
        "id": "OV3-3c4bVbcG",
        "colab_type": "code",
        "colab": {
          "base_uri": "https://localhost:8080/",
          "height": 109
        },
        "outputId": "491abe4c-c809-4ef2-ad80-8fe946d46f91"
      },
      "source": [
        "x = object()\n",
        "y = object()\n",
        "\n",
        "# TODO: change this code\n",
        "x_list = [x]*10\n",
        "y_list = [y]*10\n",
        "big_list = [x]*10+[y]*10\n",
        "\n",
        "print(\"x_list contains %d objects\" % len(x_list))\n",
        "print(\"y_list contains %d objects\" % len(y_list))\n",
        "print(\"big_list contains %d objects\" % len(big_list))\n",
        "\n",
        "# testing code\n",
        "if x_list.count(x) == 10 and y_list.count(y) == 10:\n",
        "    print(\"Almost there...\")\n",
        "if big_list.count(x) == 10 and big_list.count(y) == 10:\n",
        "    print(\"Great!\")"
      ],
      "execution_count": 21,
      "outputs": [
        {
          "output_type": "stream",
          "text": [
            "x_list contains 10 objects\n",
            "y_list contains 10 objects\n",
            "big_list contains 20 objects\n",
            "Almost there...\n",
            "Great!\n"
          ],
          "name": "stdout"
        }
      ]
    }
  ]
}